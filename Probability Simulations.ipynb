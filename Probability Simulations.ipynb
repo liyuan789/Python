{
 "cells": [
  {
   "cell_type": "markdown",
   "metadata": {
    "slideshow": {
     "slide_type": "slide"
    }
   },
   "source": [
    "# Probability Simulations\n",
    "\n",
    "Since most of you are students in a stats program (MS Stats, BS applied math with concentration in stats) or you are taking this class because you want to learn more about data science, I would like to make the applications you work on as relevant as possible. \n",
    "\n",
    "You can learn how to use loops in Python effectively just as well while generating Fibonacci numbers as running probability simlulations, but the latter might give you a better understanding of probability as a bonus. So many of your future homework assignments, in-class problems and/or exam problems may have to do with simulating probabilities. "
   ]
  },
  {
   "cell_type": "markdown",
   "metadata": {
    "slideshow": {
     "slide_type": "slide"
    }
   },
   "source": [
    "**What exactly does that mean?**\n",
    "\n",
    "Recall, that in Math 161A in the beginning of the course, probability was defined through long-run frequencies. For example, we say that a coin tosses heads with probability p, if in very many tosses of the coin (in the long-run) the proportion of times the coin tosses heads converges to p. "
   ]
  },
  {
   "cell_type": "markdown",
   "metadata": {
    "slideshow": {
     "slide_type": "slide"
    }
   },
   "source": [
    "**Theorem:** Bernoulli's (strong) law of large numbers. \n",
    "\n",
    "Suppose $X_1, \\ldots, X_n$ are independent Bernoulli random variables with parameter $p$. Define \n",
    "$$ \\hat{p} = \\frac{X_1 + \\cdots + X_n}{n}$$ \n",
    "to be the sample proportion of successes in n trials. Then with probability 1 we can say that \n",
    "$$ \\lim\\limits_{n \\to \\infty} \\hat{p} = p$$"
   ]
  },
  {
   "cell_type": "markdown",
   "metadata": {
    "slideshow": {
     "slide_type": "slide"
    }
   },
   "source": [
    "In practice, of course you cannot generate infinitely many simulated trials. But you can generate a large (enough) number of them so that $\\hat{p}$ and $p$ will be very close. Estimating probabilities through simulation therefore means the following:\n",
    "- write code to simulate the outcome of a random experiment\n",
    "    * If you are interested in a specific even (something that does or does not happen) then record whether or not the event has happened in your simulation.\n",
    "    * If you are interested in a random variable (something that you can count or measure based on the outcome of the experiment) then record the value of your variable.\n",
    "- Now write a loop to repeat the experiment very many times (usually n=1,000 or 10,000 or even more) and aggregate what happens across the many trials. \n",
    "- For example, the sample proportion of trials in which an event happens should now be a good approximation for the probability of the event (if n is large). "
   ]
  },
  {
   "cell_type": "markdown",
   "metadata": {
    "slideshow": {
     "slide_type": "slide"
    }
   },
   "source": [
    "**Example:** Recall that the number of heads in n tosses of a coin that tosses heads with probability p has a Binomial(n,p) distribution. You could use your Math 161A knowledge to find \n",
    "$$ P(X \\ge 7) \\mbox{ for } n=10 \\mbox{ and } p=0.4$$\n",
    "\n",
    "But we'll write code to estimate that probability for now (and later compare with the theoretical answer). "
   ]
  },
  {
   "cell_type": "markdown",
   "metadata": {
    "slideshow": {
     "slide_type": "slide"
    }
   },
   "source": [
    "Algorithm outline: What steps should we include in our code? Are we keeping track of an event? Or of a random variable? Or both?"
   ]
  },
  {
   "cell_type": "markdown",
   "metadata": {},
   "source": [
    "- Simulate ten tosses of a coin that tosses heads with probability 0.4\n",
    "    * count heads in the ten tosses\n",
    "    * decide whether there are at least 7 heads (that's our event of interest)\n",
    "- Repeat the above experiment (tossing ten times, deciding whether $X \\ge 7$) many (n) times. \n",
    "- Calculate the proportion of the n repetitions in which the event $X \\ge 7$ occurred. "
   ]
  },
  {
   "cell_type": "code",
   "execution_count": 6,
   "metadata": {
    "slideshow": {
     "slide_type": "slide"
    }
   },
   "outputs": [
    {
     "data": {
      "text/plain": [
       "[0, 0, 0, 1, 0, 0, 0, 1, 0, 1]"
      ]
     },
     "execution_count": 6,
     "metadata": {},
     "output_type": "execute_result"
    }
   ],
   "source": [
    "# simulating ten coin tosses, p=-.4\n",
    "import random as random \n",
    "\n",
    "random.seed(10)\n",
    "random.choices([1, 0],[0.4,0.6],k=10)"
   ]
  },
  {
   "cell_type": "code",
   "execution_count": 9,
   "metadata": {
    "slideshow": {
     "slide_type": "slide"
    }
   },
   "outputs": [
    {
     "data": {
      "text/plain": [
       "3"
      ]
     },
     "execution_count": 9,
     "metadata": {},
     "output_type": "execute_result"
    }
   ],
   "source": [
    "# simulating ten coin tosses, p=-.4\n",
    "import random as random \n",
    "random.seed(10)\n",
    "\n",
    "outcomes = random.choices([1, 0],[0.4,0.6],k=10)\n",
    "X = sum(outcomes)\n",
    "X # that's one Binomial RV"
   ]
  },
  {
   "cell_type": "code",
   "execution_count": 11,
   "metadata": {
    "slideshow": {
     "slide_type": "slide"
    }
   },
   "outputs": [
    {
     "data": {
      "text/plain": [
       "False"
      ]
     },
     "execution_count": 11,
     "metadata": {},
     "output_type": "execute_result"
    }
   ],
   "source": [
    "# simulating ten coin tosses, p=-.4\n",
    "import random as random \n",
    "random.seed(10)\n",
    "\n",
    "outcomes = random.choices([1, 0],[0.4,0.6],k=10)\n",
    "X = sum(outcomes)\n",
    "X >= 7 # that's one even of the form (X>=7)"
   ]
  },
  {
   "cell_type": "code",
   "execution_count": 1,
   "metadata": {
    "slideshow": {
     "slide_type": "slide"
    }
   },
   "outputs": [
    {
     "name": "stdout",
     "output_type": "stream",
     "text": [
      "[False, False, False, False, False, False, False, False, False, False, False, False, False, False, True, False, False, False, False, False, False, False, False, False, False, False, False, True, False, False, False, False, False, False, False, False, False, True, False, False, False, False, False, False, False, False, False, True, False, False, False, False, False, False, False, False, False, False, False, False, False, False, False, False, False, False, False, False, False, False, True, False, False, False, False, False, False, False, False, False, False, False, False, False, False, False, False, False, False, True, False, False, False, False, False, False, False, False, False, False]\n"
     ]
    }
   ],
   "source": [
    "import random as random \n",
    "random.seed(10)\n",
    "\n",
    "n=1000      # number of experiments we'll simulate \n",
    "results= [] # make empty list to hold results from n experiments\n",
    "\n",
    "for i in range(n):\n",
    "    outcomes = random.choices([1, 0],[0.4,0.6],k=10)\n",
    "    X = sum(outcomes)\n",
    "    results.append(X >= 7) # Fill the results list with Booleans\n",
    "    \n",
    "print(results[:100]) # check what you got - for sanity"
   ]
  },
  {
   "cell_type": "code",
   "execution_count": 15,
   "metadata": {
    "slideshow": {
     "slide_type": "slide"
    }
   },
   "outputs": [
    {
     "name": "stdout",
     "output_type": "stream",
     "text": [
      "The estimate of P(X >=7) is 0.05546\n"
     ]
    }
   ],
   "source": [
    "import random as random \n",
    "#random.seed(11)\n",
    "\n",
    "n=100000      # number of experiments we'll simulate \n",
    "results= [] # make empty list to hold results from n experiments\n",
    "\n",
    "for i in range(n):\n",
    "    outcomes = random.choices([1, 0],[0.4,0.6],k=10)\n",
    "    X = sum(outcomes)\n",
    "    results.append(X >= 7) # Fill the results list with Booleans\n",
    "    \n",
    "print(\"The estimate of P(X >=7) is\",sum(results)/n) # find p_hat and print out result"
   ]
  },
  {
   "cell_type": "markdown",
   "metadata": {},
   "source": [
    "Try to change (or remove) the seed. Do you get a different answer? Make the value of n bigger and see if/how your estimate changes. "
   ]
  },
  {
   "cell_type": "markdown",
   "metadata": {
    "slideshow": {
     "slide_type": "slide"
    }
   },
   "source": [
    "**Theoretical answer:** Again, let $X \\sim$ Binomial($n=10, p=0.4$). Then \n",
    "\n",
    "$$P(X \\ge 7) = P(X=7) + P(X=8) +P(X=9) + P(X=10)$$\n",
    "\n",
    "$$ = \\binom{10}{7}(0.4)^7(0.6)^3 + \\binom{10}{8}(0.4)^8(0.6)^2 + \\binom{10}{9}(0.4)^9(0.6) + (0.4)^{10} $$\n",
    "$$ = 0.05476$$"
   ]
  },
  {
   "cell_type": "code",
   "execution_count": null,
   "metadata": {},
   "outputs": [],
   "source": []
  }
 ],
 "metadata": {
  "celltoolbar": "Slideshow",
  "kernelspec": {
   "display_name": "Python 3",
   "language": "python",
   "name": "python3"
  },
  "language_info": {
   "codemirror_mode": {
    "name": "ipython",
    "version": 3
   },
   "file_extension": ".py",
   "mimetype": "text/x-python",
   "name": "python",
   "nbconvert_exporter": "python",
   "pygments_lexer": "ipython3",
   "version": "3.7.4"
  }
 },
 "nbformat": 4,
 "nbformat_minor": 2
}
