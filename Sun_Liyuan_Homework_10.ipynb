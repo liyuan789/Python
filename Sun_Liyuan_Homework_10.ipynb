{
 "cells": [
  {
   "cell_type": "markdown",
   "metadata": {},
   "source": [
    "Before you turn this homework set in, make sure everything runs as expected. When you are done modifying this file,  **restart the kernel** (in the menubar, select Kernel$\\rightarrow$Restart) and then **run all cells** (in the menubar, select Cell$\\rightarrow$Run All).\n",
    "\n",
    "Make sure you fill in any place that says `YOUR CODE HERE` or \"YOUR ANSWER HERE\", as well as your name below. In the code cells, make sure to replace the **raise NotImplementedError()** statement with your actual code."
   ]
  },
  {
   "cell_type": "code",
   "execution_count": null,
   "metadata": {},
   "outputs": [],
   "source": [
    "NAME = \"Liyuan Sun\""
   ]
  },
  {
   "cell_type": "markdown",
   "metadata": {},
   "source": [
    "---"
   ]
  },
  {
   "cell_type": "markdown",
   "metadata": {
    "deletable": false,
    "editable": false,
    "nbgrader": {
     "cell_type": "markdown",
     "checksum": "823acfb616dd0a168a89dc84eacb429e",
     "grade": false,
     "grade_id": "cell-13b6f13920352efb",
     "locked": true,
     "schema_version": 3,
     "solution": false,
     "task": false
    }
   },
   "source": [
    "# Homework 10\n",
    "\n",
    "In this assignment, we're working with SQL. In particular, we'll be working with the Northwind database. This database contains sales data from a ficticious company called \"Northwind Traders\" which imports and exports specialty foods from around the world. These data have been created by Microsoft years ago and are used as the basis for various tutorials. \n",
    "\n",
    "Begin by re-creating the database on the MySQL server on your machine:\n",
    "\n",
    "1. Download the file \"northwindmysql.sql\" from Canvas and save it somewhere on your machine under, say, \"MyPath/northwindmysql.com\"\n",
    "2. Log on to MySQL as root and run the following commands (I'm assuming that 'user' is an existing user that you have previously created). \n",
    "\n",
    "```\n",
    "CREATE DATABASE northwind;\n",
    "GRANT ALL PRIVILEGES ON northwind.* to 'user'@'localhost';\n",
    "USE northwind;\n",
    "SOURCE MyPath/northwindmysql.sql;\n",
    "QUIT;\n",
    "```\n",
    "\n",
    "3. Then log on as the user and change the database to northwind. Look at all the tables you have (there should be nine of them).\n",
    "\n",
    "```\n",
    "USE northwind;\n",
    "SHOW TABLES;\n",
    "```\n",
    "\n",
    "4. Now you're ready to write SQL statements to answer the questions below. \n",
    "\n",
    "**Alternative:** If you are not able to install MySQL on your machine, then you may try out your SQL code \n",
    "on the website [\"w3schools\" SQL tutorial](https://www.w3schools.com/sql/). This tutorial site is working with the Northwind database and can run SQL queries on this database that you enter directly into the website. However, the functionality of the website is somewhat restricted and you won't be able to run general queries (such as DESC statements or anything that requires more general privileges). But you should be able to run straightforward SELECT, JOIN, and GROUP BY statements. \n",
    "\n",
    "**Note:** The image file \"northwind-er-diagram.png\" (which you can also download from Canvas) shows an entity-relationship diagram for the Northwind database tables. \n",
    "\n",
    "**Heads-Up:** Variable names and data formats vary slightly between the data in \"northwindmysql.sql\" and on w3schools. Please clearly indicate for the grader in the cell below which version of the data you are working with. "
   ]
  },
  {
   "cell_type": "markdown",
   "metadata": {
    "deletable": false,
    "nbgrader": {
     "cell_type": "markdown",
     "checksum": "08b4243bbee1c3d7fb2e1482d7be1e89",
     "grade": true,
     "grade_id": "cell-7f9d9e7b4644b91e",
     "locked": false,
     "points": 0,
     "schema_version": 3,
     "solution": true,
     "task": false
    }
   },
   "source": [
    "Using the data in \"northwindmysql.sql\""
   ]
  },
  {
   "cell_type": "markdown",
   "metadata": {},
   "source": [
    "This is how I would like you to format your answers for this assignment: Show the SQL code that you are using to find the answer and state the answer to each question. Both of these can be done in a Markdown cell. You *do not* have to include the output you get from MySQL in this HW. \n",
    "\n",
    "**Example Question:** How many different countries do the customers of \"Northwind Traders\" come from? \n",
    "\n",
    "**Example Answer:**\n",
    "\n",
    "SQL code: \n",
    "```DESC customers;``` (to learn what the variables are called - or look at the ER diagram. On w3schools, click on the name of the table to learn about the variable names).\n",
    "```SELECT DISTINCT country from customers;```\n",
    "\n",
    "Answer: 21 different countries"
   ]
  },
  {
   "cell_type": "markdown",
   "metadata": {
    "deletable": false,
    "editable": false,
    "nbgrader": {
     "cell_type": "markdown",
     "checksum": "22abc1f2f895475c6b22d9a996509f97",
     "grade": false,
     "grade_id": "cell-244d094e3fa3d94c",
     "locked": true,
     "schema_version": 3,
     "solution": false,
     "task": false
    }
   },
   "source": [
    "### Problem 1\n",
    "\n",
    "Describe the 'products' table. How many rows and columns does the table have? Which variables are in the columns? What are their data types? What is used as the primary key in this table?"
   ]
  },
  {
   "cell_type": "markdown",
   "metadata": {
    "deletable": false,
    "nbgrader": {
     "cell_type": "markdown",
     "checksum": "d978d6e1d1232c5b82fb11a65cd382e4",
     "grade": true,
     "grade_id": "cell-dc0d7817fba267d9",
     "locked": false,
     "points": 5,
     "schema_version": 3,
     "solution": true,
     "task": false
    }
   },
   "source": [
    "SQL code: \n",
    "\n",
    "```DESC products;``` (to learn what the variables are called)\n",
    "\n",
    "```SELECT COUNT(ProductID) FROM products;``` (to check the total rows)\n",
    "\n",
    "Answer:There are total 77 rows and 10 columns. ProductID is the primary key.\n",
    "\n",
    "| |Variables| Data Type  |\n",
    "|:--|:--|:--|\n",
    "|1| <span style=\"color:red\"> ProductID  </span> | <span style=\"color:blue\"> int(11) </span> |\n",
    "|2| <span style=\"color:red\"> ProductName  </span> | <span style=\"color:blue\">varchar(40) </span> |\n",
    "|3| <span style=\"color:red\"> SupplierID  </span> | <span style=\"color:blue\">int(11) </span> |\n",
    "|4| <span style=\"color:red\"> CategoryID  </span> | <span style=\"color:blue\">int(11) </span> | \n",
    "|5| <span style=\"color:red\"> QuantityPerUnit  </span> | <span style=\"color:blue\">varchar(20) </span> |\n",
    "|6| <span style=\"color:red\"> UnitPrice  </span> | <span style=\"color:blue\">decimal(19,4) </span> |\n",
    "|7| <span style=\"color:red\"> UnitsInStock  </span> | <span style=\"color:blue\">int(11) </span> |\n",
    "|8| <span style=\"color:red\"> UnitsOnOrder  </span> | <span style=\"color:blue\">int(11) </span> |\n",
    "|9| <span style=\"color:red\"> ReorderLevel  </span> | <span style=\"color:blue\">int(11) </span> |\n",
    "|10| <span style=\"color:red\"> Discontinued  </span> | <span style=\"color:blue\">tinyint(1) </span> |\n"
   ]
  },
  {
   "cell_type": "markdown",
   "metadata": {},
   "source": [
    "### Problem 2\n",
    "\n",
    "List the names and unit prices of the three most expensive items that the company lists in the product table. We don't know what the ficticious currency is that Northwind Traders uses. That's ok. "
   ]
  },
  {
   "cell_type": "markdown",
   "metadata": {
    "deletable": false,
    "nbgrader": {
     "cell_type": "markdown",
     "checksum": "a19c7921edec9fa7197ce30b42bd46ce",
     "grade": true,
     "grade_id": "cell-0444b4f6f923a575",
     "locked": false,
     "points": 5,
     "schema_version": 3,
     "solution": true,
     "task": false
    }
   },
   "source": [
    "SQL code:\n",
    "\n",
    "```SELECT ProductName, UnitPrice \n",
    "FROM products\n",
    "ORDER BY UnitPrice DESC\n",
    "LIMIT 3;```\n"
   ]
  },
  {
   "cell_type": "markdown",
   "metadata": {
    "deletable": false,
    "editable": false,
    "nbgrader": {
     "cell_type": "markdown",
     "checksum": "db1bbe7627d3b14e71ca840f98043497",
     "grade": false,
     "grade_id": "cell-ce28e85e08ef66db",
     "locked": true,
     "schema_version": 3,
     "solution": false,
     "task": false
    }
   },
   "source": [
    "### Problem 3\n",
    "\n",
    "Find a list of the names of all products that were ordered on January 10th, 1996 together with names of the company who ordered the product and total order value. You can find the total order value by multiplying the unit price with the number of units ordered and multiplying the result with (1-Discount).  \n",
    "\n",
    "Note: the \\`order details\\` table has two words in its name. Use \\`back-quotes\\` to communicate to MySQL that this is one name. "
   ]
  },
  {
   "cell_type": "markdown",
   "metadata": {
    "deletable": false,
    "nbgrader": {
     "cell_type": "markdown",
     "checksum": "0f583dc411331041480f58fa55d84c21",
     "grade": true,
     "grade_id": "cell-4d7778cc0656873e",
     "locked": false,
     "points": 5,
     "schema_version": 3,
     "solution": true,
     "task": false
    }
   },
   "source": [
    "SQL code:\n",
    "\n",
    "```SELECT c.ProductName, d.CompanyName, \n",
    "\tb.UnitPrice * b.Quantity * (1 - b.Discount) AS TotalOrderValue\n",
    "FROM Orders AS a \n",
    "INNER JOIN `order details` AS b\n",
    "\tON a.OrderID = b.OrderID\n",
    "INNER JOIN Products AS c\n",
    "\tON c.ProductID = b.ProductID\n",
    "INNER JOIN Customers AS d\n",
    "\tON d.CustomerID = a.CustomerID\n",
    "WHERE a.OrderDate LIKE '%1996-01-10%';```\n"
   ]
  },
  {
   "cell_type": "markdown",
   "metadata": {
    "deletable": false,
    "editable": false,
    "nbgrader": {
     "cell_type": "markdown",
     "checksum": "09794d2ad10e8f6de8015765fb635ff3",
     "grade": false,
     "grade_id": "cell-b98f0f4cdda22109",
     "locked": true,
     "schema_version": 3,
     "solution": false,
     "task": false
    }
   },
   "source": [
    "### Problem 4\n",
    "\n",
    "Find the company names of the three customers who spent the most in May 1996. List the company name along with the total amount spent (rounded to the second after-decimal digit of currency). \n",
    "\n",
    "Recall, that total amount spent on a single order can be computed as (unit price)\\*(number of units ordered)\\*(1-discount)."
   ]
  },
  {
   "cell_type": "markdown",
   "metadata": {
    "deletable": false,
    "nbgrader": {
     "cell_type": "markdown",
     "checksum": "ee8715c0f1fde615542c36e7a4615b31",
     "grade": true,
     "grade_id": "cell-050eafc94bd47578",
     "locked": false,
     "points": 5,
     "schema_version": 3,
     "solution": true,
     "task": false
    }
   },
   "source": [
    "SQL code:\n",
    "\n",
    "```SELECT c.CompanyName,\n",
    "    round(sum(b.UnitPrice * b.Quantity * (1 - b.Discount)),2) AS TotalOrderValue\n",
    "FROM Orders AS a\n",
    "INNER JOIN `order details` AS b\n",
    "\tON a.OrderID = b.OrderID\n",
    "INNER JOIN Customers AS c\n",
    "\tON c.CustomerID = a.CustomerID\n",
    "WHERE a.OrderDate LIKE '%1996-05%'\n",
    "GROUP BY c.CustomerID\n",
    "ORDER BY TotalOrderValue DESC\n",
    "LIMIT 3;```\n",
    "\n",
    "Answer: \n",
    "\n",
    "| | CompanyName  | TotalOrderValue|\n",
    "|:--|:--|:--|\n",
    "|1|  <span style=\"color:blue\"> Save-a-lot Markets </span> |21150.05 |\n",
    "|2|  <span style=\"color:blue\"> Ernst Handel </span> | 15719.75|\n",
    "|3|  <span style=\"color:blue\"> White Clover Markets </span> | 9831.25|"
   ]
  },
  {
   "cell_type": "code",
   "execution_count": null,
   "metadata": {},
   "outputs": [],
   "source": []
  }
 ],
 "metadata": {
  "kernelspec": {
   "display_name": "Python 3",
   "language": "python",
   "name": "python3"
  },
  "language_info": {
   "codemirror_mode": {
    "name": "ipython",
    "version": 3
   },
   "file_extension": ".py",
   "mimetype": "text/x-python",
   "name": "python",
   "nbconvert_exporter": "python",
   "pygments_lexer": "ipython3",
   "version": "3.7.4"
  }
 },
 "nbformat": 4,
 "nbformat_minor": 2
}
