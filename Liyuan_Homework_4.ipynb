{
 "cells": [
  {
   "cell_type": "markdown",
   "metadata": {},
   "source": [
    "Before you turn this homework set in, make sure everything runs as expected. When you are done modifying this file,  **restart the kernel** (in the menubar, select Kernel$\\rightarrow$Restart) and then **run all cells** (in the menubar, select Cell$\\rightarrow$Run All).\n",
    "\n",
    "Make sure you fill in any place that says `YOUR CODE HERE` or \"YOUR ANSWER HERE\", as well as your name below. In the code cells, make sure to replace the **raise NotImplementedError()** statement with your actual code."
   ]
  },
  {
   "cell_type": "code",
   "execution_count": null,
   "metadata": {},
   "outputs": [],
   "source": [
    "NAME = \"Liyuan Sun\""
   ]
  },
  {
   "cell_type": "markdown",
   "metadata": {},
   "source": [
    "---"
   ]
  },
  {
   "cell_type": "markdown",
   "metadata": {
    "deletable": false,
    "editable": false,
    "nbgrader": {
     "cell_type": "markdown",
     "checksum": "c45125b8abaa8e6a2c1d07f1d14f1b3c",
     "grade": false,
     "grade_id": "cell-a6f3f12388a2e526",
     "locked": true,
     "schema_version": 3,
     "solution": false,
     "task": false
    }
   },
   "source": [
    "# Homework 4\n",
    "\n",
    "In all problems below, please comment your code sufficiently well so that the grader can follow what you are doing with ease. For non-coding answers, please make sure to formulate your explanation and answers in the form of complete English sentences. "
   ]
  },
  {
   "cell_type": "markdown",
   "metadata": {
    "deletable": false,
    "editable": false,
    "nbgrader": {
     "cell_type": "markdown",
     "checksum": "d9476950ae33391e19ff68572e148223",
     "grade": false,
     "grade_id": "cell-ef495698be86d216",
     "locked": true,
     "schema_version": 3,
     "solution": false,
     "task": false
    }
   },
   "source": [
    "## Problem 1 (a)\n",
    "\n",
    "Use the code given below to create a sequence of n Bernoulli trials with success probabilty p per trial. A string of consecutive successes is known as a success run. Write a function (named \"count_runs\" that takes the sequence of Bernoulli trials as its input and returns the counts for runs of length k for each k observed in a dictionary.\n",
    "\n",
    "Example: n=13 Bernoulli trials [0, 1, 0, 1, 0, 0, 0, 1, 0, 1, 1, 0, 0] were simulated with p=0.5. There are 3 runs of length k=1, and 1 run of length k=2. Hence, your code should return {1:3, 2:1}."
   ]
  },
  {
   "cell_type": "code",
   "execution_count": 16,
   "metadata": {
    "deletable": false,
    "nbgrader": {
     "cell_type": "code",
     "checksum": "4e42a67ee6137a0a937cbbb51596835f",
     "grade": true,
     "grade_id": "cell-631ba149fea50a1d",
     "locked": false,
     "points": 3,
     "schema_version": 3,
     "solution": true,
     "task": false
    }
   },
   "outputs": [
    {
     "name": "stdout",
     "output_type": "stream",
     "text": [
      "[1, 0, 0, 1, 0, 0, 1, 0, 0, 0, 1, 1, 1]\n"
     ]
    },
    {
     "data": {
      "text/plain": [
       "{1: 3, 3: 1}"
      ]
     },
     "execution_count": 16,
     "metadata": {},
     "output_type": "execute_result"
    }
   ],
   "source": [
    "import random\n",
    "\n",
    "random.seed(11)\n",
    "n=13\n",
    "p=0.5\n",
    "seq = random.choices([1,0],[p,1-p],k=n)\n",
    "print(seq)\n",
    "\n",
    "def run_counts(seq):\n",
    "    occurrences = {}\n",
    "    k = 0\n",
    "    for i in range(len(seq)):\n",
    "        if seq[i]==1:\n",
    "            k += 1\n",
    "            if i==len(seq)-1 or seq[i+1]==0:\n",
    "                occurrences[k] = occurrences.get(k,0) + 1\n",
    "        else:\n",
    "            k = 0\n",
    "    return occurrences\n",
    "\n",
    "run_counts(seq)"
   ]
  },
  {
   "cell_type": "markdown",
   "metadata": {},
   "source": [
    "## Problem 1 (b)\n",
    "\n",
    "Continuing with the Bernoulli trials from the previous problem. We want to numerically estimate the probability to have at least one run of length 5 or longer for n=100 and p=0.5. Write code to estimate this probability and report your result in form of a print statement. "
   ]
  },
  {
   "cell_type": "code",
   "execution_count": 29,
   "metadata": {
    "deletable": false,
    "nbgrader": {
     "cell_type": "code",
     "checksum": "407480936517661c7dcdf426b73d74a3",
     "grade": true,
     "grade_id": "cell-24926ec4f814a84e",
     "locked": false,
     "points": 2,
     "schema_version": 3,
     "solution": true,
     "task": false
    }
   },
   "outputs": [
    {
     "name": "stdout",
     "output_type": "stream",
     "text": [
      "For x = 100000 iterations, the estimate of the probability that at least one run of length 5 or longer in 100 trials with p= 0.5 is  812.17\n"
     ]
    }
   ],
   "source": [
    "import random\n",
    "x = 100000    \n",
    "\n",
    "def probability(length, n, p):\n",
    "    counter = 0\n",
    "    for i in range(x):\n",
    "        seq = random.choices([1,0],[p,1-p],k=n)\n",
    "        dic = run_counts(seq)\n",
    "        k_list = list(dic.keys())\n",
    "        for k in k_list:\n",
    "            if k >= length:\n",
    "                counter += 1\n",
    "                break              # break the loop\n",
    "    p_hat = counter/n\n",
    "    print(\"For x =\", x ,\"iterations, the estimate of the probability that at least one run of length\", length, \\\n",
    "          \"or longer in 100 trials with p=\",p, \"is \",p_hat) \n",
    "\n",
    "probability(5, 100, 0.5)    "
   ]
  },
  {
   "cell_type": "markdown",
   "metadata": {},
   "source": [
    "## Problem 1 (c) \n",
    "\n",
    "What is more likely, to see at least one run of length 5 or longer in 100 trials with p=0.5 or to see at least one run of length 7 or longer in 100 trials with p=0.7? Explain how you come to your conclusion. "
   ]
  },
  {
   "cell_type": "code",
   "execution_count": 64,
   "metadata": {
    "deletable": false,
    "nbgrader": {
     "cell_type": "code",
     "checksum": "74de881dc19949c9c9bc2b18279272ed",
     "grade": true,
     "grade_id": "cell-99194fcbaaef3c27",
     "locked": false,
     "points": 0,
     "schema_version": 3,
     "solution": true,
     "task": false
    }
   },
   "outputs": [
    {
     "name": "stdout",
     "output_type": "stream",
     "text": [
      "The estimate probability of at least one run of length 7 or longer in 100 trials with p = 0.7  is  0.9487\n"
     ]
    }
   ],
   "source": [
    "import random\n",
    "x = 100000\n",
    "probability(7, 100, 0.7)"
   ]
  },
  {
   "cell_type": "markdown",
   "metadata": {
    "deletable": false,
    "nbgrader": {
     "cell_type": "markdown",
     "checksum": "335885b3f09c9e33f11a5d56bd805f00",
     "grade": true,
     "grade_id": "cell-2d53817c1f1588a8",
     "locked": false,
     "points": 1,
     "schema_version": 3,
     "solution": true,
     "task": false
    }
   },
   "source": [
    "probability(5,100,0.5) < probability(7,100,0.7). After comparing these two probabilities, we can conclude that at least one run of length 7 or longer in 100 trials with p=0.7 is more likely to happen than the other."
   ]
  },
  {
   "cell_type": "markdown",
   "metadata": {},
   "source": [
    "## Problem 2\n",
    "\n",
    "A stick of length 1 is broken randomly along its length into two pieces. What is the probability that the longer piece is more than twice as long as the shorter piece? \n",
    "\n",
    "a) Find the actual answer (using your Math 161A probability knowledge). Provide a short explanation for how you derive your answer. "
   ]
  },
  {
   "cell_type": "markdown",
   "metadata": {
    "deletable": false,
    "nbgrader": {
     "cell_type": "markdown",
     "checksum": "4f72778b5d34c1d86ae5e27a469c1271",
     "grade": true,
     "grade_id": "cell-b03e8954539eddc8",
     "locked": false,
     "points": 1,
     "schema_version": 3,
     "solution": true,
     "task": false
    }
   },
   "source": [
    "For X ~ unif(0,1), p(X < 1/3) = 1/3. Therefore, the probability that the longer piece is more than twice as long as the shorter piece is 2*p(X < 1/3) = 2/3 ."
   ]
  },
  {
   "cell_type": "markdown",
   "metadata": {},
   "source": [
    "b) Now write a simulation that approximates the answer to this same problem. "
   ]
  },
  {
   "cell_type": "code",
   "execution_count": 30,
   "metadata": {
    "deletable": false,
    "nbgrader": {
     "cell_type": "code",
     "checksum": "2a26662c77d2156cb8c0b346fad36736",
     "grade": true,
     "grade_id": "cell-eedec05f0fd650d1",
     "locked": false,
     "points": 3,
     "schema_version": 3,
     "solution": true,
     "task": false
    }
   },
   "outputs": [
    {
     "name": "stdout",
     "output_type": "stream",
     "text": [
      "0.6674\n"
     ]
    }
   ],
   "source": [
    "import random\n",
    "\n",
    "def prob_twice(n):\n",
    "    x = []\n",
    "    for i in range(n):\n",
    "        a = random.uniform(1,0)\n",
    "        x.append(a<1/3 or a>2/3)\n",
    "    p_hat = sum(x)/n\n",
    "    print(p_hat)\n",
    "    \n",
    "prob_twice(10000)"
   ]
  },
  {
   "cell_type": "markdown",
   "metadata": {},
   "source": [
    "## Problem 3\n",
    "\n",
    "Use the random package to simulate rolling five fair, six-sided dice. We'll call the result a \"full house\" if two and three of the dice, respectively show the same face. Example: 2,4,2,4,4 is a full house. 5,5,5,5,5 is not a full house. "
   ]
  },
  {
   "cell_type": "markdown",
   "metadata": {},
   "source": [
    "(a) Using your Math 161A knowledge, find the theoretical probability of obtaining a \"full house\", when rolling five fair, six-sided dice. Show your work in deriving your answer. \n",
    "\n",
    "Hint: Latex notation for combinations is \"\\binom{n}{k}\" to produce $\\binom{n}{k}$. Wrap Latex math code in dollar symbols (\\$) to compile it. "
   ]
  },
  {
   "cell_type": "markdown",
   "metadata": {
    "deletable": false,
    "nbgrader": {
     "cell_type": "markdown",
     "checksum": "d042f94106a51cb2732a7421a35c0a26",
     "grade": true,
     "grade_id": "cell-c185f3c9fb9b3cb9",
     "locked": false,
     "points": 1,
     "schema_version": 3,
     "solution": true,
     "task": false
    }
   },
   "source": [
    " The probability is approximate 0.1441%, by calculating:  $$\\binom{13}{1}\\binom{4}{3}\\binom{12}{1}\\binom{4}{2}\\div\\binom{52}{5}$$"
   ]
  },
  {
   "cell_type": "markdown",
   "metadata": {
    "deletable": false,
    "editable": false,
    "nbgrader": {
     "cell_type": "markdown",
     "checksum": "28d314472520db705b9f963c6886aa89",
     "grade": false,
     "grade_id": "cell-55038c0b55e4c0df",
     "locked": true,
     "schema_version": 3,
     "solution": false,
     "task": false
    }
   },
   "source": [
    "(b) Write a function (named \"count_rolls()\") that takes the result of simulating rolling five fair, six-sided dice and returns a dictionary that keeps track of how often each number appeared.\n",
    "\n",
    "Example: If the rolls were 1,3,2,3,5 then your dictionary could be {1:1, 3:2, 2:1, 5:1}. I do not care about the order in which the keys appear in the dictionary. An equally good answer would be {1:1, 2:1, 3:2, 5:1}, for example."
   ]
  },
  {
   "cell_type": "code",
   "execution_count": 89,
   "metadata": {
    "deletable": false,
    "nbgrader": {
     "cell_type": "code",
     "checksum": "9ce3dba111b7d658daaf563b7e5dc3a8",
     "grade": true,
     "grade_id": "cell-358bc28873f8d117",
     "locked": false,
     "points": 3,
     "schema_version": 3,
     "solution": true,
     "task": false
    }
   },
   "outputs": [
    {
     "name": "stdout",
     "output_type": "stream",
     "text": [
      "[3, 4, 4, 2, 6]\n"
     ]
    },
    {
     "data": {
      "text/plain": [
       "{3: 1, 4: 2, 2: 1, 6: 1}"
      ]
     },
     "execution_count": 89,
     "metadata": {},
     "output_type": "execute_result"
    }
   ],
   "source": [
    "import random \n",
    "\n",
    "result = random.choices(range(1,7),[1]*6,k=5) # simulate five die rolls\n",
    "print(result)                                 # look at the rolls (feel free to delete later)\n",
    "\n",
    "def count_rolls(result):  \n",
    "    dic = {}                                  # creative a empty dictionary \n",
    "    for x in result:                          # for loop to create the dictionary\n",
    "        dic[x] = dic.get(x, 0) + 1\n",
    "    return dic\n",
    "\n",
    "count_rolls(result)  "
   ]
  },
  {
   "cell_type": "markdown",
   "metadata": {
    "deletable": false,
    "editable": false,
    "nbgrader": {
     "cell_type": "markdown",
     "checksum": "eb042ea898d11edb5379a92295e4716c",
     "grade": false,
     "grade_id": "cell-e9fd447349b1283c",
     "locked": true,
     "schema_version": 3,
     "solution": false,
     "task": false
    }
   },
   "source": [
    "(c) Simulate rolling five fair, six-sided dice n=10,000 times. Use your simulation results to estimate the probability of a full house. "
   ]
  },
  {
   "cell_type": "code",
   "execution_count": 93,
   "metadata": {
    "deletable": false,
    "nbgrader": {
     "cell_type": "code",
     "checksum": "05595adc738739079beb44254c2786fe",
     "grade": true,
     "grade_id": "cell-deb5efb0ac393d4d",
     "locked": false,
     "points": 3,
     "schema_version": 3,
     "solution": true,
     "task": false
    }
   },
   "outputs": [
    {
     "name": "stdout",
     "output_type": "stream",
     "text": [
      "For 10000 simulations, the estimated probability of a full house is  0.0379\n"
     ]
    }
   ],
   "source": [
    "import random\n",
    "\n",
    "n = 10000       # simulation times\n",
    "counter = 0     # initialize the counter\n",
    "\n",
    "for i in range(n):\n",
    "    result = random.choices(range(1,7),[1]*6,k=5) \n",
    "    dic = count_rolls(result)   # use 3(b) to get the number counts dictionary\n",
    "    v_list = list(dic.values()) # get a list of all values\n",
    "    \n",
    "    if len(v_list) == 2 and 3 in v_list:\n",
    "        counter += 1\n",
    "\n",
    "p_hat = counter/n      \n",
    "print(\"For\", n ,\"simulations, the estimated probability of a full house is \",p_hat)  "
   ]
  },
  {
   "cell_type": "markdown",
   "metadata": {
    "deletable": false,
    "editable": false,
    "nbgrader": {
     "cell_type": "markdown",
     "checksum": "b256256b390cb065c63cfdf9540112a2",
     "grade": false,
     "grade_id": "cell-e042be5229002282",
     "locked": true,
     "schema_version": 3,
     "solution": false,
     "task": false
    }
   },
   "source": [
    "## Problem 4\n",
    "\n",
    "Recall the first in-class practice problem from 02/05/2020. Take user input of a date in the form xx/xx/xxxx and return a statement that tells the user whether or not that date is a palindrome. \n",
    "\n",
    "Example: 02/02/2020 reads the same forward and backward and is thus a palindrome date. 01/13/1978 is not a palindrome date (since it does not read the same backwards and forwards). \n",
    "\n",
    "The code below does not work as intended (based on the comments). Find out and explain *why* this code does not work. Be as specific as you can in your explanation. How could the code be minimally modified to make it work? (Minimally modified means that you leave as much as possible of the original code and make the smallest adjustment you can that will make the code run as intended. Rewriting the whole program from scratch is not a minimal modification). "
   ]
  },
  {
   "cell_type": "code",
   "execution_count": 1,
   "metadata": {
    "deletable": false,
    "editable": false,
    "nbgrader": {
     "cell_type": "code",
     "checksum": "0bc8436de65d514b7eaff0bd4a232492",
     "grade": false,
     "grade_id": "cell-df926812685b4223",
     "locked": true,
     "schema_version": 3,
     "solution": false,
     "task": false
    }
   },
   "outputs": [
    {
     "name": "stdout",
     "output_type": "stream",
     "text": [
      "Please enter a date in form xx/xx/xxxx: 02/02/2020\n",
      "your date is a palindrome\n"
     ]
    }
   ],
   "source": [
    "a = input(\"Please enter a date in form xx/xx/xxxx: \") \n",
    "                          # gather user input of date as string\n",
    "a = a.replace(\"/\",\"\")     # remove slashes from string\n",
    "b=c=list(a)               # make string into list and make two copies of the list\n",
    "b.reverse()               # reverse the order of elements in list b\n",
    "if (b==c):                # compare lists b and c and print out appropriate statement\n",
    "    print(\"your date is a palindrome\")\n",
    "else:\n",
    "    print(\"your date is not a palindrome\")"
   ]
  },
  {
   "cell_type": "markdown",
   "metadata": {
    "deletable": false,
    "nbgrader": {
     "cell_type": "markdown",
     "checksum": "38d89f8e7570a9afb01d3a8df3bd73bc",
     "grade": true,
     "grade_id": "cell-dd42b7bd4db6d1fa",
     "locked": false,
     "points": 2,
     "schema_version": 3,
     "solution": true,
     "task": false
    }
   },
   "source": [
    "**Explain error**\n",
    "The statement \"if (b==c)\" is alway ture, which will always return \"your date is a palindrome\". Because list is mutable object,  b and c are both point to the same mutable list object list(a). If the object b is changed (reversed), you can see that in both b and c. \n",
    "\n",
    "**Minimal modification**\n",
    "Keep making two copies of the list a. One is a new pointer b and the other is a shallow copy c, and keep the rest code no change. See below's code:\n"
   ]
  },
  {
   "cell_type": "code",
   "execution_count": null,
   "metadata": {
    "deletable": false,
    "nbgrader": {
     "cell_type": "code",
     "checksum": "3d43195aee6eb3c8ccb1d4195049151f",
     "grade": true,
     "grade_id": "cell-cef7a84a26987043",
     "locked": false,
     "points": 1,
     "schema_version": 3,
     "solution": true,
     "task": false
    }
   },
   "outputs": [],
   "source": [
    "# YOUR CODE HERE\n",
    "a = input(\"Please enter a date in form xx/xx/xxxx: \") \n",
    "                          # gather user input of date as string\n",
    "a = a.replace(\"/\",\"\")     # remove slashes from string\n",
    "b = list(a)               # make string into list and make two copies of the list\n",
    "c = list(a).copy()        # make a shallow copy of list a\n",
    "b.reverse()               # reverse the order of elements in list b\n",
    "if (b==c):                # compare lists b and c and print out appropriate statement\n",
    "    print(\"your date is a palindrome\")\n",
    "else:\n",
    "    print(\"your date is not a palindrome\")"
   ]
  }
 ],
 "metadata": {
  "kernelspec": {
   "display_name": "Python 3",
   "language": "python",
   "name": "python3"
  },
  "language_info": {
   "codemirror_mode": {
    "name": "ipython",
    "version": 3
   },
   "file_extension": ".py",
   "mimetype": "text/x-python",
   "name": "python",
   "nbconvert_exporter": "python",
   "pygments_lexer": "ipython3",
   "version": "3.7.4"
  }
 },
 "nbformat": 4,
 "nbformat_minor": 2
}
