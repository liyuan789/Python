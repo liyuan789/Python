{
 "cells": [
  {
   "cell_type": "markdown",
   "metadata": {},
   "source": [
    "Before you turn this homework set in, make sure everything runs as expected. When you are done modifying this file,  **restart the kernel** (in the menubar, select Kernel$\\rightarrow$Restart) and then **run all cells** (in the menubar, select Cell$\\rightarrow$Run All).\n",
    "\n",
    "Make sure you fill in any place that says `YOUR CODE HERE` or \"YOUR ANSWER HERE\", as well as your name below. In the code cells, make sure to replace the **raise NotImplementedError()** statement with your actual code."
   ]
  },
  {
   "cell_type": "code",
   "execution_count": null,
   "metadata": {},
   "outputs": [],
   "source": [
    "NAME = \"\""
   ]
  },
  {
   "cell_type": "markdown",
   "metadata": {},
   "source": [
    "---"
   ]
  },
  {
   "cell_type": "markdown",
   "metadata": {
    "deletable": false,
    "editable": false,
    "nbgrader": {
     "cell_type": "markdown",
     "checksum": "764dd10a87c65d9bc00e02f3b97468e2",
     "grade": false,
     "grade_id": "cell-13b6f13920352efb",
     "locked": true,
     "schema_version": 3,
     "solution": false,
     "task": false
    }
   },
   "source": [
    "# Homework 9\n",
    "\n",
    "Run the code given below to create 400 simulated 2-dimensional observations ```X``` and corresponding true labels ```y_true```. True labels range from 0 to 3. \n",
    "\n",
    "Also, we're creating a scatterplot of the data and indicating group membership by use of the four colors magenta (group 0), green (group 1), yellow (group 2), blue (group 3), respectively. "
   ]
  },
  {
   "cell_type": "code",
   "execution_count": null,
   "metadata": {
    "deletable": false,
    "editable": false,
    "nbgrader": {
     "cell_type": "code",
     "checksum": "b4c9cc04ffecfe928d2ecd0028a99e18",
     "grade": false,
     "grade_id": "cell-325c8a8f81c7d8a2",
     "locked": true,
     "schema_version": 3,
     "solution": false,
     "task": false
    }
   },
   "outputs": [],
   "source": [
    "from sklearn.datasets.samples_generator import make_blobs \n",
    "import matplotlib.pyplot as plt\n",
    "\n",
    "X, y_true = make_blobs(n_samples=400, centers=4,\n",
    "                                  cluster_std=1, center_box=(-10.0, 10.0), random_state=0) \n",
    "\n",
    "fig, axe = plt.subplots()\n",
    "colors = ('m', 'g', 'y', 'b')\n",
    "axe.scatter(X[:, 0], X[:, 1], c = [colors[y_true[i]] for i in range(len(y_true))], s=30); "
   ]
  },
  {
   "cell_type": "markdown",
   "metadata": {
    "deletable": false,
    "editable": false,
    "nbgrader": {
     "cell_type": "markdown",
     "checksum": "390c2a8df70a51c857454688aa099f8f",
     "grade": false,
     "grade_id": "cell-28ff8b6b9cbadabc",
     "locked": true,
     "schema_version": 3,
     "solution": false,
     "task": false
    }
   },
   "source": [
    "## Problem 1\n",
    "\n",
    "(a) Consider the data (X,y_true) that were simulated above to be your training data. Use the Gaussian Naive Bayes algorithm to predict the label color of the point x with coordinates (0,4) \"by-hand\". Show your work. You can compute multivariate normal densities using the ```scipy.stats``` module or by using your calculator. Please state which method you used in your answer.  \n",
    "\n",
    "Optional code box:"
   ]
  },
  {
   "cell_type": "code",
   "execution_count": null,
   "metadata": {
    "deletable": false,
    "nbgrader": {
     "cell_type": "code",
     "checksum": "d507595ae0d087883bd03081d02220e8",
     "grade": true,
     "grade_id": "cell-41c14c6e75a7eaaa",
     "locked": false,
     "points": 0,
     "schema_version": 3,
     "solution": true,
     "task": false
    }
   },
   "outputs": [],
   "source": [
    "# YOUR CODE HERE\n",
    "raise NotImplementedError()"
   ]
  },
  {
   "cell_type": "markdown",
   "metadata": {
    "deletable": false,
    "editable": false,
    "nbgrader": {
     "cell_type": "markdown",
     "checksum": "6ff81dcac710a10083194475b56b9632",
     "grade": false,
     "grade_id": "cell-232e11e887a1916e",
     "locked": true,
     "schema_version": 3,
     "solution": false,
     "task": false
    }
   },
   "source": [
    "Explain your code or show your work and state your answer here. If you are not using Python, but some other approach, make sure you explain how you come up with your answer. "
   ]
  },
  {
   "cell_type": "markdown",
   "metadata": {
    "deletable": false,
    "nbgrader": {
     "cell_type": "markdown",
     "checksum": "805a661f053ed9a32beecbd25e96ecf0",
     "grade": true,
     "grade_id": "cell-cbe7bb16ac3cd8eb",
     "locked": false,
     "points": 3,
     "schema_version": 3,
     "solution": true,
     "task": false
    }
   },
   "source": [
    "YOUR ANSWER HERE"
   ]
  },
  {
   "cell_type": "markdown",
   "metadata": {
    "deletable": false,
    "editable": false,
    "nbgrader": {
     "cell_type": "markdown",
     "checksum": "94c81e2732c4b06e5efce354ab417fad",
     "grade": false,
     "grade_id": "cell-a4939d16c0688697",
     "locked": true,
     "schema_version": 3,
     "solution": false,
     "task": false
    }
   },
   "source": [
    "(b) Use SciKit-Learn to apply the Gaussian Naive Bayes classification algorithm to all points ```X``` that you simulated and create a predicted label for each point. Produce another scatterplot showing the 400 points in ```X``` but this time color points by their labels predicted through the Gaussian Naive Bayes method. "
   ]
  },
  {
   "cell_type": "code",
   "execution_count": null,
   "metadata": {
    "deletable": false,
    "nbgrader": {
     "cell_type": "code",
     "checksum": "f8e3dee201bef1ccaa00822a0dd4cfb7",
     "grade": true,
     "grade_id": "cell-6c7052b4257cd9a6",
     "locked": false,
     "points": 2,
     "schema_version": 3,
     "solution": true,
     "task": false
    }
   },
   "outputs": [],
   "source": [
    "# YOUR CODE HERE\n",
    "raise NotImplementedError()"
   ]
  },
  {
   "cell_type": "markdown",
   "metadata": {},
   "source": [
    "(c) Use SciKit-Learn to create a confusion matrix that compares your predicted labels (from (b)) to the true labels ```y_true```. Display your confusion matrix as a heat map like we did in class. Which percentage of points are predicted correctly by the Gaussian Naive Bayes algorithm?"
   ]
  },
  {
   "cell_type": "code",
   "execution_count": null,
   "metadata": {
    "deletable": false,
    "nbgrader": {
     "cell_type": "code",
     "checksum": "3650347817594c82759167e04bcc39c0",
     "grade": true,
     "grade_id": "cell-08727451bf9d18a0",
     "locked": false,
     "points": 2,
     "schema_version": 3,
     "solution": true,
     "task": false
    }
   },
   "outputs": [],
   "source": [
    "# YOUR CODE HERE\n",
    "raise NotImplementedError()"
   ]
  },
  {
   "cell_type": "markdown",
   "metadata": {
    "deletable": false,
    "nbgrader": {
     "cell_type": "markdown",
     "checksum": "a8f0454f5b8181ae4d8e23e4662a1a79",
     "grade": true,
     "grade_id": "cell-950a0e50c16ebe2b",
     "locked": false,
     "points": 1,
     "schema_version": 3,
     "solution": true,
     "task": false
    }
   },
   "source": [
    "YOUR ANSWER HERE"
   ]
  },
  {
   "cell_type": "markdown",
   "metadata": {
    "deletable": false,
    "editable": false,
    "nbgrader": {
     "cell_type": "markdown",
     "checksum": "bdc8f65b57bc1d14ee50aafb3ce6cc59",
     "grade": false,
     "grade_id": "cell-6d4a70d17fdcb391",
     "locked": true,
     "schema_version": 3,
     "solution": false,
     "task": false
    }
   },
   "source": [
    "## Problem 2\n",
    "\n",
    "(a) Use SciKit-Learn to apply the k-means clustering algorithm (with k=4) to only the ```X``` matrix of the simulated data. For the resulting four clusters, use a majority vote over the true ```y_true``` labels to assign each cluster a label. \n",
    "\n",
    "**Hint:** we did something extremely similar in the clustering/classification of handwritten digits example we did in class. "
   ]
  },
  {
   "cell_type": "code",
   "execution_count": null,
   "metadata": {
    "deletable": false,
    "nbgrader": {
     "cell_type": "code",
     "checksum": "a7fdb914c64507495ba0a0c23ed69d4c",
     "grade": true,
     "grade_id": "cell-2ab053a6bc0b7cca",
     "locked": false,
     "points": 3,
     "schema_version": 3,
     "solution": true,
     "task": false
    }
   },
   "outputs": [],
   "source": [
    "# YOUR CODE HERE\n",
    "raise NotImplementedError()"
   ]
  },
  {
   "cell_type": "markdown",
   "metadata": {
    "deletable": false,
    "editable": false,
    "nbgrader": {
     "cell_type": "markdown",
     "checksum": "c2ecc4f22b9d8d06c99156c849bd5798",
     "grade": false,
     "grade_id": "cell-a120a161c70ee884",
     "locked": true,
     "schema_version": 3,
     "solution": false,
     "task": false
    }
   },
   "source": [
    "(b) Produce another scatterplot showing the 400 points in ```X``` and use the labels produced in Problem 2 (a) to color the points. "
   ]
  },
  {
   "cell_type": "code",
   "execution_count": null,
   "metadata": {
    "deletable": false,
    "nbgrader": {
     "cell_type": "code",
     "checksum": "43c502c24db8bc3a5db938681f2a8f0b",
     "grade": true,
     "grade_id": "cell-52e0e479576cde27",
     "locked": false,
     "points": 1,
     "schema_version": 3,
     "solution": true,
     "task": false
    }
   },
   "outputs": [],
   "source": [
    "# YOUR CODE HERE\n",
    "raise NotImplementedError()"
   ]
  },
  {
   "cell_type": "markdown",
   "metadata": {
    "deletable": false,
    "editable": false,
    "nbgrader": {
     "cell_type": "markdown",
     "checksum": "44d20e0b11fbcf3dd53a1cd76daad698",
     "grade": false,
     "grade_id": "cell-82c82c51d4dcb99e",
     "locked": true,
     "schema_version": 3,
     "solution": false,
     "task": false
    }
   },
   "source": [
    "(c) Use SciKit-Learn to create a confusion matrix that compares your predicted labels (from 2 (b)) to the true labels ```y_true```.  Display your confusion matrix as a heat map like we did in class. Which percentage of points are predicted correctly by the k-means algorithm (with following majority vote over true labels)?"
   ]
  },
  {
   "cell_type": "code",
   "execution_count": null,
   "metadata": {
    "deletable": false,
    "nbgrader": {
     "cell_type": "code",
     "checksum": "8a64e19866ac41f703dfab6b97c1ee48",
     "grade": true,
     "grade_id": "cell-e6cb8a4245f8b49a",
     "locked": false,
     "points": 0,
     "schema_version": 3,
     "solution": true,
     "task": false
    }
   },
   "outputs": [],
   "source": [
    "# YOUR CODE HERE\n",
    "raise NotImplementedError()"
   ]
  },
  {
   "cell_type": "markdown",
   "metadata": {
    "deletable": false,
    "nbgrader": {
     "cell_type": "markdown",
     "checksum": "226fb6c1ee5ab4a36d5d1620ca1af2ac",
     "grade": true,
     "grade_id": "cell-f8fc0f84a7f1e7a0",
     "locked": false,
     "points": 1,
     "schema_version": 3,
     "solution": true,
     "task": false
    }
   },
   "source": [
    "YOUR ANSWER HERE"
   ]
  },
  {
   "cell_type": "markdown",
   "metadata": {
    "deletable": false,
    "editable": false,
    "nbgrader": {
     "cell_type": "markdown",
     "checksum": "3798026601653012a9292029e438fe03",
     "grade": false,
     "grade_id": "cell-024a03a1798b20d5",
     "locked": true,
     "schema_version": 3,
     "solution": false,
     "task": false
    }
   },
   "source": [
    "## Problem 3\n",
    "\n",
    "(a) Use SciKit-Learn to fit a decision tree to the simulated data ```(X,y_true)```. Set the ```max_depth``` of the tree to 3 (to make three nodes in your tree and end up with four different \"leaves\" on your tree)."
   ]
  },
  {
   "cell_type": "code",
   "execution_count": null,
   "metadata": {
    "deletable": false,
    "nbgrader": {
     "cell_type": "code",
     "checksum": "67cc26a0d6aa9c3fbd95d4277d003d0f",
     "grade": true,
     "grade_id": "cell-d8f1f41a14393373",
     "locked": false,
     "points": 3,
     "schema_version": 3,
     "solution": true,
     "task": false
    }
   },
   "outputs": [],
   "source": [
    "# YOUR CODE HERE\n",
    "raise NotImplementedError()"
   ]
  },
  {
   "cell_type": "markdown",
   "metadata": {
    "deletable": false,
    "editable": false,
    "nbgrader": {
     "cell_type": "markdown",
     "checksum": "04e82c30c568fbfb1fee4fac44780359",
     "grade": false,
     "grade_id": "cell-9b531a2c76dd1d60",
     "locked": true,
     "schema_version": 3,
     "solution": false,
     "task": false
    }
   },
   "source": [
    "(b) Produce another scatterplot showing the 400 points in ```X``` and use the labels produced by the Decision Tree procedure in Problem 4 (a) to color the points. "
   ]
  },
  {
   "cell_type": "code",
   "execution_count": null,
   "metadata": {
    "deletable": false,
    "nbgrader": {
     "cell_type": "code",
     "checksum": "ebbb3e8924e40e7b60d10ed769081212",
     "grade": true,
     "grade_id": "cell-453ca6b2503ff77a",
     "locked": false,
     "points": 1,
     "schema_version": 3,
     "solution": true,
     "task": false
    }
   },
   "outputs": [],
   "source": [
    "# YOUR CODE HERE\n",
    "raise NotImplementedError()"
   ]
  },
  {
   "cell_type": "markdown",
   "metadata": {
    "deletable": false,
    "editable": false,
    "nbgrader": {
     "cell_type": "markdown",
     "checksum": "21b99df7c9859f92419ec2be6131217d",
     "grade": false,
     "grade_id": "cell-29c9d5c5b617df2a",
     "locked": true,
     "schema_version": 3,
     "solution": false,
     "task": false
    }
   },
   "source": [
    "(c) Use SciKit-Learn to create a confusion matrix that compares your predicted labels (from 4 (a)) to the true labels ```y_true``` from Problem 1. Which percentage of points are predicted correctly by the decision tree? Display your confusion matrix as a heat map like we did in class. "
   ]
  },
  {
   "cell_type": "code",
   "execution_count": null,
   "metadata": {
    "deletable": false,
    "nbgrader": {
     "cell_type": "code",
     "checksum": "727bc50e20ea1ec254bc9ad59df9c852",
     "grade": true,
     "grade_id": "cell-ba08999150f3a237",
     "locked": false,
     "points": 0,
     "schema_version": 3,
     "solution": true,
     "task": false
    }
   },
   "outputs": [],
   "source": [
    "# YOUR CODE HERE\n",
    "raise NotImplementedError()"
   ]
  },
  {
   "cell_type": "markdown",
   "metadata": {
    "deletable": false,
    "nbgrader": {
     "cell_type": "markdown",
     "checksum": "e91caf4f54183a2a802596b0fcc5cd2d",
     "grade": true,
     "grade_id": "cell-4b32309d9117d7f5",
     "locked": false,
     "points": 1,
     "schema_version": 3,
     "solution": true,
     "task": false
    }
   },
   "source": [
    "YOUR ANSWER HERE"
   ]
  },
  {
   "cell_type": "markdown",
   "metadata": {
    "deletable": false,
    "editable": false,
    "nbgrader": {
     "cell_type": "markdown",
     "checksum": "080242d075d570c90d20934e83f2b5c3",
     "grade": false,
     "grade_id": "cell-e83e333f7a0b431d",
     "locked": true,
     "schema_version": 3,
     "solution": false,
     "task": false
    }
   },
   "source": [
    "## Problem 4\n",
    "\n",
    "Describe what differences you observe between the three different methods you applied. What differences can you see in the three scatter plots in terms of shapes of predicted point clouds? Which method seems to \"best\" represent the four original groups? In which sense is the separation into original groups the best? Explain. "
   ]
  },
  {
   "cell_type": "markdown",
   "metadata": {
    "deletable": false,
    "nbgrader": {
     "cell_type": "markdown",
     "checksum": "52753db07ebc4348cdae3575c1d286f5",
     "grade": true,
     "grade_id": "cell-2a35358ca4cecaba",
     "locked": false,
     "points": 2,
     "schema_version": 3,
     "solution": true,
     "task": false
    }
   },
   "source": [
    "YOUR ANSWER HERE"
   ]
  }
 ],
 "metadata": {
  "kernelspec": {
   "display_name": "Python 3",
   "language": "python",
   "name": "python3"
  },
  "language_info": {
   "codemirror_mode": {
    "name": "ipython",
    "version": 3
   },
   "file_extension": ".py",
   "mimetype": "text/x-python",
   "name": "python",
   "nbconvert_exporter": "python",
   "pygments_lexer": "ipython3",
   "version": "3.7.4"
  }
 },
 "nbformat": 4,
 "nbformat_minor": 2
}
