{
 "cells": [
  {
   "cell_type": "markdown",
   "metadata": {},
   "source": [
    "Before you turn this homework set in, make sure everything runs as expected. When you are done modifying this file,  **restart the kernel** (in the menubar, select Kernel$\\rightarrow$Restart) and then **run all cells** (in the menubar, select Cell$\\rightarrow$Run All).\n",
    "\n",
    "Make sure you fill in any place that says `YOUR CODE HERE` or \"YOUR ANSWER HERE\", as well as your name below. In the code cells, make sure to replace the **raise NotImplementedError()** statement with your actual code."
   ]
  },
  {
   "cell_type": "code",
   "execution_count": 1,
   "metadata": {},
   "outputs": [],
   "source": [
    "NAME = \"Liyuan Sun\""
   ]
  },
  {
   "cell_type": "markdown",
   "metadata": {},
   "source": [
    "---"
   ]
  },
  {
   "cell_type": "markdown",
   "metadata": {
    "deletable": false,
    "editable": false,
    "nbgrader": {
     "cell_type": "markdown",
     "checksum": "caeeac76a0551cc6bb4b212b629e99e4",
     "grade": false,
     "grade_id": "cell-13b6f13920352efb",
     "locked": true,
     "schema_version": 3,
     "solution": false,
     "task": false
    }
   },
   "source": [
    "**Disclaimer:** For this assignment, there are some things that you are asked to do that we have not explicitly done in class. \n",
    "For example, you will be asked to modify figures in Matplotlib in new ways. Please use your favorite search engine to look up how to do these things. Realistically, when you use Python in your jobs in the future you will be spending a significant portion of your time to look up new things. And it's never too early to practice that skill. \n",
    "\n",
    "## Problem\n",
    "\n",
    "You can find the data files \"Mouse_metadata.csv\" and \"Study_results.csv\" which you will need for this homework on Canvas. \n",
    "\n",
    "In a pharmaceutical study, 249 mice identified with squamous cell carcinoma (skin cancer) tumor growth were treated with a variety of drug regimens. Over the course of 45 days, tumor development was observed and measured. The scientists measured the tumor growth over time (volume in $mm^3$) and the number of metastatic sites. The purpose of the study was to compare the performace of the new drug \"Capomulin\" to several other existing drug regimens. \n",
    "\n",
    "Begin by loading the two data sets into Pandas as data frames. "
   ]
  },
  {
   "cell_type": "code",
   "execution_count": 358,
   "metadata": {
    "scrolled": true
   },
   "outputs": [
    {
     "data": {
      "text/html": [
       "<div>\n",
       "<style scoped>\n",
       "    .dataframe tbody tr th:only-of-type {\n",
       "        vertical-align: middle;\n",
       "    }\n",
       "\n",
       "    .dataframe tbody tr th {\n",
       "        vertical-align: top;\n",
       "    }\n",
       "\n",
       "    .dataframe thead th {\n",
       "        text-align: right;\n",
       "    }\n",
       "</style>\n",
       "<table border=\"1\" class=\"dataframe\">\n",
       "  <thead>\n",
       "    <tr style=\"text-align: right;\">\n",
       "      <th></th>\n",
       "      <th>Mouse ID</th>\n",
       "      <th>Drug Regimen</th>\n",
       "      <th>Sex</th>\n",
       "      <th>Age_months</th>\n",
       "      <th>Weight (g)</th>\n",
       "    </tr>\n",
       "  </thead>\n",
       "  <tbody>\n",
       "    <tr>\n",
       "      <td>0</td>\n",
       "      <td>s185</td>\n",
       "      <td>Capomulin</td>\n",
       "      <td>Female</td>\n",
       "      <td>3</td>\n",
       "      <td>17</td>\n",
       "    </tr>\n",
       "    <tr>\n",
       "      <td>1</td>\n",
       "      <td>x401</td>\n",
       "      <td>Capomulin</td>\n",
       "      <td>Female</td>\n",
       "      <td>16</td>\n",
       "      <td>15</td>\n",
       "    </tr>\n",
       "    <tr>\n",
       "      <td>2</td>\n",
       "      <td>m601</td>\n",
       "      <td>Capomulin</td>\n",
       "      <td>Male</td>\n",
       "      <td>22</td>\n",
       "      <td>17</td>\n",
       "    </tr>\n",
       "    <tr>\n",
       "      <td>3</td>\n",
       "      <td>f966</td>\n",
       "      <td>Capomulin</td>\n",
       "      <td>Male</td>\n",
       "      <td>16</td>\n",
       "      <td>17</td>\n",
       "    </tr>\n",
       "    <tr>\n",
       "      <td>4</td>\n",
       "      <td>u364</td>\n",
       "      <td>Capomulin</td>\n",
       "      <td>Male</td>\n",
       "      <td>18</td>\n",
       "      <td>17</td>\n",
       "    </tr>\n",
       "  </tbody>\n",
       "</table>\n",
       "</div>"
      ],
      "text/plain": [
       "  Mouse ID Drug Regimen     Sex  Age_months  Weight (g)\n",
       "0     s185    Capomulin  Female           3          17\n",
       "1     x401    Capomulin  Female          16          15\n",
       "2     m601    Capomulin    Male          22          17\n",
       "3     f966    Capomulin    Male          16          17\n",
       "4     u364    Capomulin    Male          18          17"
      ]
     },
     "execution_count": 358,
     "metadata": {},
     "output_type": "execute_result"
    }
   ],
   "source": [
    "import pandas as pd\n",
    "mouse_meta = pd.read_csv('Mouse_metadata.csv')\n",
    "mouse_meta.head()"
   ]
  },
  {
   "cell_type": "code",
   "execution_count": 359,
   "metadata": {
    "deletable": false,
    "nbgrader": {
     "cell_type": "code",
     "checksum": "51e823439f7b5999fd41cfc3aaca9744",
     "grade": true,
     "grade_id": "cell-a0a286a56cdbaeea",
     "locked": false,
     "points": 0,
     "schema_version": 3,
     "solution": true,
     "task": false
    }
   },
   "outputs": [
    {
     "data": {
      "text/html": [
       "<div>\n",
       "<style scoped>\n",
       "    .dataframe tbody tr th:only-of-type {\n",
       "        vertical-align: middle;\n",
       "    }\n",
       "\n",
       "    .dataframe tbody tr th {\n",
       "        vertical-align: top;\n",
       "    }\n",
       "\n",
       "    .dataframe thead th {\n",
       "        text-align: right;\n",
       "    }\n",
       "</style>\n",
       "<table border=\"1\" class=\"dataframe\">\n",
       "  <thead>\n",
       "    <tr style=\"text-align: right;\">\n",
       "      <th></th>\n",
       "      <th>Mouse ID</th>\n",
       "      <th>Timepoint</th>\n",
       "      <th>Tumor Volume (mm3)</th>\n",
       "      <th>Metastatic Sites</th>\n",
       "    </tr>\n",
       "  </thead>\n",
       "  <tbody>\n",
       "    <tr>\n",
       "      <td>0</td>\n",
       "      <td>b128</td>\n",
       "      <td>0</td>\n",
       "      <td>45.0</td>\n",
       "      <td>0</td>\n",
       "    </tr>\n",
       "    <tr>\n",
       "      <td>1</td>\n",
       "      <td>f932</td>\n",
       "      <td>0</td>\n",
       "      <td>45.0</td>\n",
       "      <td>0</td>\n",
       "    </tr>\n",
       "    <tr>\n",
       "      <td>2</td>\n",
       "      <td>g107</td>\n",
       "      <td>0</td>\n",
       "      <td>45.0</td>\n",
       "      <td>0</td>\n",
       "    </tr>\n",
       "    <tr>\n",
       "      <td>3</td>\n",
       "      <td>a457</td>\n",
       "      <td>0</td>\n",
       "      <td>45.0</td>\n",
       "      <td>0</td>\n",
       "    </tr>\n",
       "    <tr>\n",
       "      <td>4</td>\n",
       "      <td>c819</td>\n",
       "      <td>0</td>\n",
       "      <td>45.0</td>\n",
       "      <td>0</td>\n",
       "    </tr>\n",
       "  </tbody>\n",
       "</table>\n",
       "</div>"
      ],
      "text/plain": [
       "  Mouse ID  Timepoint  Tumor Volume (mm3)  Metastatic Sites\n",
       "0     b128          0                45.0                 0\n",
       "1     f932          0                45.0                 0\n",
       "2     g107          0                45.0                 0\n",
       "3     a457          0                45.0                 0\n",
       "4     c819          0                45.0                 0"
      ]
     },
     "execution_count": 359,
     "metadata": {},
     "output_type": "execute_result"
    }
   ],
   "source": [
    "study_result = pd.read_csv('Study_results.csv')\n",
    "study_result.head()"
   ]
  },
  {
   "cell_type": "markdown",
   "metadata": {
    "deletable": false,
    "editable": false,
    "nbgrader": {
     "cell_type": "markdown",
     "checksum": "7c62650d25c13bd618a032d02dc71f11",
     "grade": false,
     "grade_id": "cell-256587c1c7a51cbb",
     "locked": true,
     "schema_version": 3,
     "solution": false,
     "task": false
    }
   },
   "source": [
    "(a) Describe the two data files. How many rows and columns are in each file? What variables are in the columns? What is in the rows? What is the Pandas index currently used? Do the two files have any common columns?"
   ]
  },
  {
   "cell_type": "markdown",
   "metadata": {
    "deletable": false,
    "nbgrader": {
     "cell_type": "markdown",
     "checksum": "508c96358887a74ebabac764e167bbb4",
     "grade": true,
     "grade_id": "cell-003dd665be18ca95",
     "locked": false,
     "points": 1,
     "schema_version": 3,
     "solution": true,
     "task": false
    }
   },
   "source": [
    "**Mouse_metadata dataset**\n",
    "<br> 249 rows * 5 columns\n",
    "<br> There're 5 columns (variables): 'Mouse ID','Drug Regimen','Sex','Age_months','Weight(g)'.\n",
    "<br> There're 249 rows (observations), each row contains one mice's recodes 'Mouse ID','Drug Regimen','Sex','Age_months','Weight(g)'.\n",
    "<br> The index used here is RangeIndex(start=0, stop=249, step=1), which is the integers range from 0 to 249.\n",
    "\n",
    "<br>**Study_results dataset**\n",
    "<br> 1893 rows * 4 columns \n",
    "<br> There're 4 columns (variables): ‘Mouse ID','Timepoint','Tumor Volume(mm3)','Metastatic Sites'.\n",
    "<br> There're 1893 rows (observations), each observation is the measured tumor volume (𝑚𝑚3) and the number of metastatic sites collected from a specific mice which is observed at a specific timepoint.\n",
    "<br> The index used here is RangeIndex(start=0, stop=1893, step=1), which is the integers range from 0 to 1893.\n",
    "\n",
    "<br>**Common Columns**\n",
    "<br> In these two files, they both have the column 'Mouse ID'."
   ]
  },
  {
   "cell_type": "markdown",
   "metadata": {
    "deletable": false,
    "editable": false,
    "nbgrader": {
     "cell_type": "markdown",
     "checksum": "0cb96c744f701326cd24700ca057d3df",
     "grade": false,
     "grade_id": "cell-58bdc12dfe4d0b35",
     "locked": true,
     "schema_version": 3,
     "solution": false,
     "task": false
    }
   },
   "source": [
    "(b) Write Pandas code to find the number of male and female mice that were subjected to each drug regimen. You will have to merge the two data files in order to do this. Save the results as a Pandas data frame with the names of the drugs as the index and two columns (one for male, one for female). The two columns should contain the counts of individuals subjected to each drug regimen. Display your resulting data frame using a print statement. "
   ]
  },
  {
   "cell_type": "code",
   "execution_count": 360,
   "metadata": {
    "deletable": false,
    "nbgrader": {
     "cell_type": "code",
     "checksum": "f5dde786612b72300e2b5ad69cd0ed9c",
     "grade": true,
     "grade_id": "cell-da0e011044c79db0",
     "locked": false,
     "points": 2,
     "schema_version": 3,
     "solution": true,
     "task": false
    }
   },
   "outputs": [
    {
     "data": {
      "text/html": [
       "<div>\n",
       "<style scoped>\n",
       "    .dataframe tbody tr th:only-of-type {\n",
       "        vertical-align: middle;\n",
       "    }\n",
       "\n",
       "    .dataframe tbody tr th {\n",
       "        vertical-align: top;\n",
       "    }\n",
       "\n",
       "    .dataframe thead th {\n",
       "        text-align: right;\n",
       "    }\n",
       "</style>\n",
       "<table border=\"1\" class=\"dataframe\">\n",
       "  <thead>\n",
       "    <tr style=\"text-align: right;\">\n",
       "      <th></th>\n",
       "      <th>Male</th>\n",
       "      <th>Female</th>\n",
       "    </tr>\n",
       "    <tr>\n",
       "      <th>Drug Regimen</th>\n",
       "      <th></th>\n",
       "      <th></th>\n",
       "    </tr>\n",
       "  </thead>\n",
       "  <tbody>\n",
       "    <tr>\n",
       "      <td>Ramicane</td>\n",
       "      <td>154</td>\n",
       "      <td>74</td>\n",
       "    </tr>\n",
       "    <tr>\n",
       "      <td>Stelasyn</td>\n",
       "      <td>74</td>\n",
       "      <td>107</td>\n",
       "    </tr>\n",
       "    <tr>\n",
       "      <td>Ketapril</td>\n",
       "      <td>130</td>\n",
       "      <td>58</td>\n",
       "    </tr>\n",
       "    <tr>\n",
       "      <td>Placebo</td>\n",
       "      <td>79</td>\n",
       "      <td>102</td>\n",
       "    </tr>\n",
       "    <tr>\n",
       "      <td>Infubinol</td>\n",
       "      <td>83</td>\n",
       "      <td>95</td>\n",
       "    </tr>\n",
       "    <tr>\n",
       "      <td>Capomulin</td>\n",
       "      <td>102</td>\n",
       "      <td>128</td>\n",
       "    </tr>\n",
       "    <tr>\n",
       "      <td>Zoniferol</td>\n",
       "      <td>63</td>\n",
       "      <td>119</td>\n",
       "    </tr>\n",
       "    <tr>\n",
       "      <td>Naftisol</td>\n",
       "      <td>100</td>\n",
       "      <td>86</td>\n",
       "    </tr>\n",
       "    <tr>\n",
       "      <td>Ceftamin</td>\n",
       "      <td>86</td>\n",
       "      <td>92</td>\n",
       "    </tr>\n",
       "    <tr>\n",
       "      <td>Propriva</td>\n",
       "      <td>87</td>\n",
       "      <td>74</td>\n",
       "    </tr>\n",
       "  </tbody>\n",
       "</table>\n",
       "</div>"
      ],
      "text/plain": [
       "              Male  Female\n",
       "Drug Regimen              \n",
       "Ramicane       154      74\n",
       "Stelasyn        74     107\n",
       "Ketapril       130      58\n",
       "Placebo         79     102\n",
       "Infubinol       83      95\n",
       "Capomulin      102     128\n",
       "Zoniferol       63     119\n",
       "Naftisol       100      86\n",
       "Ceftamin        86      92\n",
       "Propriva        87      74"
      ]
     },
     "execution_count": 360,
     "metadata": {},
     "output_type": "execute_result"
    }
   ],
   "source": [
    "df_merge = pd.merge(mouse_meta,study_result, on='Mouse ID')  # merge the two dataframes\n",
    "df_merge.set_index('Drug Regimen',inplace = True)            # set index \n",
    "drug_name = list(set(df_merge.index))                        # create a list of drug regimen name\n",
    "\n",
    "male_count = [sum(df_merge.Sex[df_merge.index == i] =='Male') for i in drug_name]\n",
    "female_count = [sum(df_merge.Sex[df_merge.index == i] =='Female') for i in drug_name]\n",
    "\n",
    "df_drug = pd.DataFrame(drug_name, columns = ['Drug Regimen'])# create a dataframe\n",
    "df_drug['Male'] = male_count                                 # add column 'Male number'\n",
    "df_drug['Female'] = female_count                             # add column'Female number'\n",
    "df_drug.set_index(['Drug Regimen'], inplace = True)          # index by drug regimen name\n",
    "df_drug"
   ]
  },
  {
   "cell_type": "code",
   "execution_count": 361,
   "metadata": {},
   "outputs": [
    {
     "name": "stdout",
     "output_type": "stream",
     "text": [
      "Subjected to Ramicane ,there are 154 males and 74 females.\n",
      "Subjected to Stelasyn ,there are 74 males and 107 females.\n",
      "Subjected to Ketapril ,there are 130 males and 58 females.\n",
      "Subjected to Placebo ,there are 79 males and 102 females.\n",
      "Subjected to Infubinol ,there are 83 males and 95 females.\n",
      "Subjected to Capomulin ,there are 102 males and 128 females.\n",
      "Subjected to Zoniferol ,there are 63 males and 119 females.\n",
      "Subjected to Naftisol ,there are 100 males and 86 females.\n",
      "Subjected to Ceftamin ,there are 86 males and 92 females.\n",
      "Subjected to Propriva ,there are 87 males and 74 females.\n"
     ]
    }
   ],
   "source": [
    "for i in range(len(drug_name)):\n",
    "    print(\"Subjected to\",df_drug.index[i],\",there are\",df_drug.Male[i],\"males and\",df_drug.Female[i],\"females.\")"
   ]
  },
  {
   "cell_type": "markdown",
   "metadata": {
    "deletable": false,
    "editable": false,
    "nbgrader": {
     "cell_type": "markdown",
     "checksum": "827ee539bf2335e673c323ac71ef6603",
     "grade": false,
     "grade_id": "cell-0c1365ae75cd6a55",
     "locked": true,
     "schema_version": 3,
     "solution": false,
     "task": false
    }
   },
   "source": [
    "(c) Use Matplotlib to create a side-by-side bar plot that shows the numbers of males and females under each drug regimen. Make sure to label your plot (label the bar groups with the names of the drugs, create a legend, label the y-axis and title your plot). Use different colors for males (blue) and females (red). Look up how to rotate axis lables (to make all the drug names readable). "
   ]
  },
  {
   "cell_type": "code",
   "execution_count": 362,
   "metadata": {},
   "outputs": [
    {
     "data": {
      "text/plain": [
       "array([0, 1, 2, 3, 4, 5, 6, 7, 8, 9])"
      ]
     },
     "execution_count": 362,
     "metadata": {},
     "output_type": "execute_result"
    }
   ],
   "source": [
    "np.arange(len(drug_name))"
   ]
  },
  {
   "cell_type": "code",
   "execution_count": 363,
   "metadata": {
    "deletable": false,
    "nbgrader": {
     "cell_type": "code",
     "checksum": "6766c6e525a6e38b408af67e096f1961",
     "grade": true,
     "grade_id": "cell-cad4f3f4e7b29187",
     "locked": false,
     "points": 3,
     "schema_version": 3,
     "solution": true,
     "task": false
    }
   },
   "outputs": [
    {
     "data": {
      "image/png": "[encoded data removed]",
      "text/plain": [
       "<Figure size 432x288 with 1 Axes>"
      ]
     },
     "metadata": {},
     "output_type": "display_data"
    }
   ],
   "source": [
    "import matplotlib.pyplot as plt\n",
    "import numpy as np\n",
    "plt.style.use('ggplot')                               # style similar to R's ggplot\n",
    "               \n",
    "plt.bar(x_pos, df_drug.Male, width = -0.3, label = 'Male', align = 'edge', color = 'blue')\n",
    "plt.bar(x_pos, df_drug.Female, width = 0.3, label= 'Female', align = 'edge', color = 'red')\n",
    "\n",
    "plt.ylabel('Counts')                                  # y-coordinates\n",
    "plt.title('Numbers of individuals by drug name and sex')\n",
    "\n",
    "x_pos = np.arange(len(drug_name))                     # x-coordinates of bars\n",
    "plt.xticks(x_pos, drug_name, rotation = 90)           # labels for x-axis\n",
    "plt.legend();"
   ]
  },
  {
   "cell_type": "markdown",
   "metadata": {
    "deletable": false,
    "editable": false,
    "nbgrader": {
     "cell_type": "markdown",
     "checksum": "1dd4cdadcd7dba398df9edc259f71b2b",
     "grade": false,
     "grade_id": "cell-07a874e8274de0f3",
     "locked": true,
     "schema_version": 3,
     "solution": false,
     "task": false
    }
   },
   "source": [
    "(d) Use Pandas to find the average tumor size for each drug regiment, separately at each time-point. Store your results in a Pandas data frame with time point as the index and ten columns (one column per drug regimen). Display your resulting data frame using a print statement. \n",
    "\n",
    "**Hint:** Recall, that ```unstack()``` is the opposite of the ```melt()``` procedure. Read up on details in either your text or on the Python documentation website. "
   ]
  },
  {
   "cell_type": "code",
   "execution_count": 385,
   "metadata": {
    "deletable": false,
    "nbgrader": {
     "cell_type": "code",
     "checksum": "9fb422294bbd2f8794537467bb8ea82c",
     "grade": true,
     "grade_id": "cell-6d97fc8215a3cbf3",
     "locked": false,
     "points": 2,
     "schema_version": 3,
     "solution": true,
     "task": false
    }
   },
   "outputs": [
    {
     "data": {
      "text/html": [
       "<div>\n",
       "<style scoped>\n",
       "    .dataframe tbody tr th:only-of-type {\n",
       "        vertical-align: middle;\n",
       "    }\n",
       "\n",
       "    .dataframe tbody tr th {\n",
       "        vertical-align: top;\n",
       "    }\n",
       "\n",
       "    .dataframe thead th {\n",
       "        text-align: right;\n",
       "    }\n",
       "</style>\n",
       "<table border=\"1\" class=\"dataframe\">\n",
       "  <thead>\n",
       "    <tr style=\"text-align: right;\">\n",
       "      <th>Drug Regimen</th>\n",
       "      <th>Capomulin</th>\n",
       "      <th>Ceftamin</th>\n",
       "      <th>Infubinol</th>\n",
       "      <th>Ketapril</th>\n",
       "      <th>Naftisol</th>\n",
       "      <th>Placebo</th>\n",
       "      <th>Propriva</th>\n",
       "      <th>Ramicane</th>\n",
       "      <th>Stelasyn</th>\n",
       "      <th>Zoniferol</th>\n",
       "    </tr>\n",
       "    <tr>\n",
       "      <th>Timepoint</th>\n",
       "      <th></th>\n",
       "      <th></th>\n",
       "      <th></th>\n",
       "      <th></th>\n",
       "      <th></th>\n",
       "      <th></th>\n",
       "      <th></th>\n",
       "      <th></th>\n",
       "      <th></th>\n",
       "      <th></th>\n",
       "    </tr>\n",
       "  </thead>\n",
       "  <tbody>\n",
       "    <tr>\n",
       "      <td>0</td>\n",
       "      <td>45.000000</td>\n",
       "      <td>45.000000</td>\n",
       "      <td>45.000000</td>\n",
       "      <td>45.000000</td>\n",
       "      <td>45.000000</td>\n",
       "      <td>45.000000</td>\n",
       "      <td>45.000000</td>\n",
       "      <td>45.000000</td>\n",
       "      <td>45.000000</td>\n",
       "      <td>45.000000</td>\n",
       "    </tr>\n",
       "    <tr>\n",
       "      <td>5</td>\n",
       "      <td>44.266086</td>\n",
       "      <td>46.503051</td>\n",
       "      <td>46.541247</td>\n",
       "      <td>47.389175</td>\n",
       "      <td>46.796098</td>\n",
       "      <td>47.125589</td>\n",
       "      <td>47.248967</td>\n",
       "      <td>43.944859</td>\n",
       "      <td>47.470830</td>\n",
       "      <td>46.851818</td>\n",
       "    </tr>\n",
       "    <tr>\n",
       "      <td>10</td>\n",
       "      <td>43.084291</td>\n",
       "      <td>48.285125</td>\n",
       "      <td>49.403909</td>\n",
       "      <td>49.582269</td>\n",
       "      <td>48.694210</td>\n",
       "      <td>49.423329</td>\n",
       "      <td>49.101541</td>\n",
       "      <td>42.531957</td>\n",
       "      <td>49.335368</td>\n",
       "      <td>48.689881</td>\n",
       "    </tr>\n",
       "    <tr>\n",
       "      <td>15</td>\n",
       "      <td>42.064317</td>\n",
       "      <td>50.094055</td>\n",
       "      <td>51.296397</td>\n",
       "      <td>52.399974</td>\n",
       "      <td>50.933018</td>\n",
       "      <td>51.359742</td>\n",
       "      <td>51.067318</td>\n",
       "      <td>41.495061</td>\n",
       "      <td>51.448025</td>\n",
       "      <td>50.779059</td>\n",
       "    </tr>\n",
       "    <tr>\n",
       "      <td>20</td>\n",
       "      <td>40.716325</td>\n",
       "      <td>52.157049</td>\n",
       "      <td>53.197691</td>\n",
       "      <td>54.920935</td>\n",
       "      <td>53.644087</td>\n",
       "      <td>54.364417</td>\n",
       "      <td>53.346737</td>\n",
       "      <td>40.238325</td>\n",
       "      <td>53.970080</td>\n",
       "      <td>53.170334</td>\n",
       "    </tr>\n",
       "    <tr>\n",
       "      <td>25</td>\n",
       "      <td>39.939528</td>\n",
       "      <td>54.287674</td>\n",
       "      <td>55.715252</td>\n",
       "      <td>57.678982</td>\n",
       "      <td>56.731968</td>\n",
       "      <td>57.482574</td>\n",
       "      <td>55.504138</td>\n",
       "      <td>38.974300</td>\n",
       "      <td>56.172821</td>\n",
       "      <td>55.432935</td>\n",
       "    </tr>\n",
       "    <tr>\n",
       "      <td>30</td>\n",
       "      <td>38.769339</td>\n",
       "      <td>56.769517</td>\n",
       "      <td>58.299397</td>\n",
       "      <td>60.994507</td>\n",
       "      <td>59.559509</td>\n",
       "      <td>59.809063</td>\n",
       "      <td>58.196374</td>\n",
       "      <td>38.703137</td>\n",
       "      <td>59.870528</td>\n",
       "      <td>57.713531</td>\n",
       "    </tr>\n",
       "    <tr>\n",
       "      <td>35</td>\n",
       "      <td>37.816839</td>\n",
       "      <td>58.827548</td>\n",
       "      <td>60.742461</td>\n",
       "      <td>63.371686</td>\n",
       "      <td>62.685087</td>\n",
       "      <td>62.420615</td>\n",
       "      <td>60.350199</td>\n",
       "      <td>37.451996</td>\n",
       "      <td>62.432021</td>\n",
       "      <td>60.089372</td>\n",
       "    </tr>\n",
       "    <tr>\n",
       "      <td>40</td>\n",
       "      <td>36.958001</td>\n",
       "      <td>61.467895</td>\n",
       "      <td>63.162824</td>\n",
       "      <td>66.068580</td>\n",
       "      <td>65.600754</td>\n",
       "      <td>65.052675</td>\n",
       "      <td>63.045537</td>\n",
       "      <td>36.574081</td>\n",
       "      <td>65.356386</td>\n",
       "      <td>62.916692</td>\n",
       "    </tr>\n",
       "    <tr>\n",
       "      <td>45</td>\n",
       "      <td>36.236114</td>\n",
       "      <td>64.132421</td>\n",
       "      <td>65.755562</td>\n",
       "      <td>70.662958</td>\n",
       "      <td>69.265506</td>\n",
       "      <td>68.084082</td>\n",
       "      <td>66.258529</td>\n",
       "      <td>34.955595</td>\n",
       "      <td>68.438310</td>\n",
       "      <td>65.960888</td>\n",
       "    </tr>\n",
       "  </tbody>\n",
       "</table>\n",
       "</div>"
      ],
      "text/plain": [
       "Drug Regimen  Capomulin   Ceftamin  Infubinol   Ketapril   Naftisol  \\\n",
       "Timepoint                                                             \n",
       "0             45.000000  45.000000  45.000000  45.000000  45.000000   \n",
       "5             44.266086  46.503051  46.541247  47.389175  46.796098   \n",
       "10            43.084291  48.285125  49.403909  49.582269  48.694210   \n",
       "15            42.064317  50.094055  51.296397  52.399974  50.933018   \n",
       "20            40.716325  52.157049  53.197691  54.920935  53.644087   \n",
       "25            39.939528  54.287674  55.715252  57.678982  56.731968   \n",
       "30            38.769339  56.769517  58.299397  60.994507  59.559509   \n",
       "35            37.816839  58.827548  60.742461  63.371686  62.685087   \n",
       "40            36.958001  61.467895  63.162824  66.068580  65.600754   \n",
       "45            36.236114  64.132421  65.755562  70.662958  69.265506   \n",
       "\n",
       "Drug Regimen    Placebo   Propriva   Ramicane   Stelasyn  Zoniferol  \n",
       "Timepoint                                                            \n",
       "0             45.000000  45.000000  45.000000  45.000000  45.000000  \n",
       "5             47.125589  47.248967  43.944859  47.470830  46.851818  \n",
       "10            49.423329  49.101541  42.531957  49.335368  48.689881  \n",
       "15            51.359742  51.067318  41.495061  51.448025  50.779059  \n",
       "20            54.364417  53.346737  40.238325  53.970080  53.170334  \n",
       "25            57.482574  55.504138  38.974300  56.172821  55.432935  \n",
       "30            59.809063  58.196374  38.703137  59.870528  57.713531  \n",
       "35            62.420615  60.350199  37.451996  62.432021  60.089372  \n",
       "40            65.052675  63.045537  36.574081  65.356386  62.916692  \n",
       "45            68.084082  66.258529  34.955595  68.438310  65.960888  "
      ]
     },
     "execution_count": 385,
     "metadata": {},
     "output_type": "execute_result"
    }
   ],
   "source": [
    "table = pd.pivot_table(df_merge, values='Tumor Volume (mm3)', \n",
    "                       index='Timepoint', columns = 'Drug Regimen',aggfunc=np.mean)\n",
    "table"
   ]
  },
  {
   "cell_type": "markdown",
   "metadata": {
    "deletable": false,
    "editable": false,
    "nbgrader": {
     "cell_type": "markdown",
     "checksum": "58727118280dcbd73b0b85eba2bfc0a3",
     "grade": false,
     "grade_id": "cell-3eeae9b0741e35e7",
     "locked": true,
     "schema_version": 3,
     "solution": false,
     "task": false
    }
   },
   "source": [
    "(e) Use Matplotlib to create a line-graph of the average tumor size as a function of time for each drug regimen. Include all ten drugs in the same plot and use differnt colors for different drugs. Make sure to label your plot (include x- and y-axis labels, title, legend for which curve belongs to which drug). Please place the legend outside the plot (you should look up how to do this)."
   ]
  },
  {
   "cell_type": "code",
   "execution_count": 438,
   "metadata": {
    "deletable": false,
    "nbgrader": {
     "cell_type": "code",
     "checksum": "012167ec8f306bea55608405618ca953",
     "grade": true,
     "grade_id": "cell-07af4dc972c475c7",
     "locked": false,
     "points": 2,
     "schema_version": 3,
     "solution": true,
     "task": false
    }
   },
   "outputs": [
    {
     "data": {
      "image/png": "[encoded data removed]",
      "text/plain": [
       "<Figure size 432x288 with 1 Axes>"
      ]
     },
     "metadata": {},
     "output_type": "display_data"
    }
   ],
   "source": [
    "fig = plt.figure()                 # empty figure container\n",
    "ax = plt.axes()                    # default axes\n",
    "\n",
    "timepoint = list(table.index)      # this is the x-coordinate\n",
    "columns = list(table.columns)      # get the list of all column names\n",
    "\n",
    "for i in columns:\n",
    "    ax.plot(timepoint, table[i], label = i);\n",
    "\n",
    "ax.set_xlabel('Time Point',labelpad = 10)        \n",
    "ax.set_ylabel('Average Tumor Volume',labelpad = 10)\n",
    "ax.set_xticks(np.arange(0,50,5))\n",
    "\n",
    "ax.set_title('Line Graph of Average Tumor Size', pad = 15)    \n",
    "ax.legend(loc ='upper left', bbox_to_anchor=(1, 1)); "
   ]
  },
  {
   "cell_type": "markdown",
   "metadata": {
    "deletable": false,
    "editable": false,
    "nbgrader": {
     "cell_type": "markdown",
     "checksum": "48c2a4f2806865c319a7e19e21516a73",
     "grade": false,
     "grade_id": "cell-f3d9a1a3ad7c7633",
     "locked": true,
     "schema_version": 3,
     "solution": false,
     "task": false
    }
   },
   "source": [
    "(f) Use Pandas to create a Data Frame that has one row per mouse, index values should be Mouse IDs, and has exatly the following columns: \"Weight\" (initial mouse weight in grams), \"Sex\", \"Age\" (of mouse at the beginning of trial in months), \"Tumor\" (final tumor size at the end of the trial), \"Drug Regimen\". Display your resulting data frame using a print statement. "
   ]
  },
  {
   "cell_type": "code",
   "execution_count": null,
   "metadata": {
    "deletable": false,
    "nbgrader": {
     "cell_type": "code",
     "checksum": "d67492252af7ebc87b7599365c747d54",
     "grade": true,
     "grade_id": "cell-1dc3caf86d2dba85",
     "locked": false,
     "points": 3,
     "schema_version": 3,
     "solution": true,
     "task": false
    }
   },
   "outputs": [],
   "source": [
    "# YOUR CODE HERE\n",
    "raise NotImplementedError()"
   ]
  },
  {
   "cell_type": "markdown",
   "metadata": {
    "deletable": false,
    "editable": false,
    "nbgrader": {
     "cell_type": "markdown",
     "checksum": "8ca714e4359a3110eafcce7083dbedfe",
     "grade": false,
     "grade_id": "cell-fc14ac6ce0c63059",
     "locked": true,
     "schema_version": 3,
     "solution": false,
     "task": false
    }
   },
   "source": [
    "(g) Use Matplotlib to create a scatterplot of final tumor size against initial mouse weight. Use different colors for different drug treatments. Make sure to label your plot (include x- and y-axis labels, title, and a legend for which color belongs to which drug). "
   ]
  },
  {
   "cell_type": "code",
   "execution_count": null,
   "metadata": {
    "deletable": false,
    "nbgrader": {
     "cell_type": "code",
     "checksum": "e0a5e825f6104a3c40952bd850f417f2",
     "grade": true,
     "grade_id": "cell-455b0cfddd312c83",
     "locked": false,
     "points": 3,
     "schema_version": 3,
     "solution": true,
     "task": false
    }
   },
   "outputs": [],
   "source": [
    "# YOUR CODE HERE\n",
    "raise NotImplementedError()"
   ]
  },
  {
   "cell_type": "markdown",
   "metadata": {
    "deletable": false,
    "editable": false,
    "nbgrader": {
     "cell_type": "markdown",
     "checksum": "7420d544610c2b2a4b391b0d03c6a9e2",
     "grade": false,
     "grade_id": "cell-b30ee8f87c13fe1b",
     "locked": true,
     "schema_version": 3,
     "solution": false,
     "task": false
    }
   },
   "source": [
    "(h) Comment on what you see in the plot you just created. Do the mice seem to have been randomly assigned to the treatments? "
   ]
  },
  {
   "cell_type": "markdown",
   "metadata": {
    "deletable": false,
    "nbgrader": {
     "cell_type": "markdown",
     "checksum": "23ef42fe0758288017d0e4b58b5dcc8d",
     "grade": true,
     "grade_id": "cell-cf8aa5dcb55383cc",
     "locked": false,
     "points": 1,
     "schema_version": 3,
     "solution": true,
     "task": false
    }
   },
   "source": [
    "YOUR ANSWER HERE"
   ]
  },
  {
   "cell_type": "markdown",
   "metadata": {
    "deletable": false,
    "editable": false,
    "nbgrader": {
     "cell_type": "markdown",
     "checksum": "73d9055fcaf9bf00bb249317779b6c4f",
     "grade": false,
     "grade_id": "cell-ad1810f77b3e351f",
     "locked": true,
     "schema_version": 3,
     "solution": false,
     "task": false
    }
   },
   "source": [
    "(i) Create a side-by-side boxplot for initial mouse weight across drug regimens. Order the drugs, so that the boxplots for the drugs \"Capomulin\" and \"Ramicane\" appear on the left. \n",
    "\n",
    "**Note:** Look at the matplotlib gallery to understand how to create a side-by-side boxplot. \n",
    "\n",
    "**Hint:** start with a list of lists of values you want to plot. "
   ]
  },
  {
   "cell_type": "code",
   "execution_count": null,
   "metadata": {
    "deletable": false,
    "nbgrader": {
     "cell_type": "code",
     "checksum": "61b5948e8a82d204c7cc52232b86d449",
     "grade": true,
     "grade_id": "cell-e52f32eb9f1cc065",
     "locked": false,
     "points": 3,
     "schema_version": 3,
     "solution": true,
     "task": false
    }
   },
   "outputs": [],
   "source": [
    "# YOUR CODE HERE\n",
    "raise NotImplementedError()"
   ]
  }
 ],
 "metadata": {
  "kernelspec": {
   "display_name": "Python 3",
   "language": "python",
   "name": "python3"
  },
  "language_info": {
   "codemirror_mode": {
    "name": "ipython",
    "version": 3
   },
   "file_extension": ".py",
   "mimetype": "text/x-python",
   "name": "python",
   "nbconvert_exporter": "python",
   "pygments_lexer": "ipython3",
   "version": "3.7.4"
  }
 },
 "nbformat": 4,
 "nbformat_minor": 2
}
