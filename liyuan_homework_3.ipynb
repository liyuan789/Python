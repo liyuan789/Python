{
 "cells": [
  {
   "cell_type": "markdown",
   "metadata": {},
   "source": [
    "Before you turn this homework set in, make sure everything runs as expected. When you are done modifying this file,  **restart the kernel** (in the menubar, select Kernel$\\rightarrow$Restart) and then **run all cells** (in the menubar, select Cell$\\rightarrow$Run All).\n",
    "\n",
    "Make sure you fill in any place that says `YOUR CODE HERE` or \"YOUR ANSWER HERE\", as well as your name below. In the code cells, make sure to replace the **raise NotImplementedError()** statement with your actual code."
   ]
  },
  {
   "cell_type": "code",
   "execution_count": null,
   "metadata": {},
   "outputs": [],
   "source": [
    "NAME = \"Liyuan Sun\""
   ]
  },
  {
   "cell_type": "markdown",
   "metadata": {},
   "source": [
    "---"
   ]
  },
  {
   "cell_type": "markdown",
   "metadata": {
    "deletable": false,
    "editable": false,
    "nbgrader": {
     "cell_type": "markdown",
     "checksum": "bf078d46acf595f9a748c5207de99f9b",
     "grade": false,
     "grade_id": "cell-a6f3f12388a2e526",
     "locked": true,
     "schema_version": 3,
     "solution": false,
     "task": false
    }
   },
   "source": [
    "# Homework 3\n",
    "\n",
    "**Remarks:** In some of the problems below, you may want to use if/else statements or for-loops. An if/else statement in Python has the following syntax:\n",
    "\n",
    "```\n",
    "if (Boolean_statement):\n",
    "    code block 1\n",
    "else:\n",
    "    code block 2\n",
    "```\n",
    "\n",
    "If the Boolean statement is True, the Python will execute code block 1. Otherwise code block 2 will be executed. \n",
    "\n",
    "A for loop in Python can have the following syntax:\n",
    "\n",
    "``` \n",
    "for i in range(n):\n",
    "    code\n",
    "```   \n",
    "Where code is executed repeatedly for i=0,...,n-1. \n",
    "\n",
    "In all problems below, please make sure to comment your code sufficiently well so that the grader can follow what you are doing with ease. "
   ]
  },
  {
   "cell_type": "markdown",
   "metadata": {
    "deletable": false,
    "editable": false,
    "nbgrader": {
     "cell_type": "markdown",
     "checksum": "be86bc8a60e53fc9bbac53a9b93519a8",
     "grade": false,
     "grade_id": "cell-ef495698be86d216",
     "locked": true,
     "schema_version": 3,
     "solution": false,
     "task": false
    }
   },
   "source": [
    "## Problem 1\n",
    "\n",
    "Given a list x of numbers, complete the Python code below so that your code produces the sum of all elements up to the first zero in the list. \n",
    "\n",
    "Example: If the list is x=[2,3,5,1,1,2,0,5,9,0,8,4,3,2] then your code should return 14.\n",
    "Your code should work, even if I change the list x. Obviously, then the code might produce a different answer. "
   ]
  },
  {
   "cell_type": "code",
   "execution_count": 10,
   "metadata": {
    "deletable": false,
    "nbgrader": {
     "cell_type": "code",
     "checksum": "609a8f2f833a6f515214262897a9d66f",
     "grade": true,
     "grade_id": "cell-631ba149fea50a1d",
     "locked": false,
     "points": 2,
     "schema_version": 3,
     "solution": true,
     "task": false
    }
   },
   "outputs": [
    {
     "name": "stdout",
     "output_type": "stream",
     "text": [
      "14\n"
     ]
    }
   ],
   "source": [
    "x = [2,3,5,1,1,2,0,5,9,0,8,4,3,2]\n",
    "sum = 0\n",
    "for i in range(len(x)):\n",
    "    if (x[i] == 0):\n",
    "        break\n",
    "    else:\n",
    "        sum = sum + x[i]\n",
    "print(sum)"
   ]
  },
  {
   "cell_type": "markdown",
   "metadata": {
    "deletable": false,
    "editable": false,
    "nbgrader": {
     "cell_type": "markdown",
     "checksum": "ed8c286faedc20a08e8ff3b7c3a44ebd",
     "grade": false,
     "grade_id": "cell-432173397f4b26ab",
     "locked": true,
     "schema_version": 3,
     "solution": false,
     "task": false
    }
   },
   "source": [
    "## Problem 2\n",
    "\n",
    "Ask the user to input a string. Then swap the cases of the letters in the string. That is, make what's currently lower-case upper-case and vice-versa. Leave non-character elements the same. Print out the case-swapped string. \n",
    "\n",
    "Example: If the input is \"Happy CODING!\" then the output should be \"hAPPY coding!\""
   ]
  },
  {
   "cell_type": "code",
   "execution_count": 20,
   "metadata": {
    "deletable": false,
    "nbgrader": {
     "cell_type": "code",
     "checksum": "ee1d8d434aad407e3035adc635cc2b49",
     "grade": true,
     "grade_id": "cell-bc49b385c82b4c2a",
     "locked": false,
     "points": 4,
     "schema_version": 3,
     "solution": true,
     "task": false
    }
   },
   "outputs": [
    {
     "name": "stdout",
     "output_type": "stream",
     "text": [
      "The output should be:  hAPPY coding!\n"
     ]
    }
   ],
   "source": [
    "x = \"Happy CODING!\"\n",
    "new_x = ''\n",
    "for a in x:\n",
    "    if (a.isupper() == True):\n",
    "        new_x += a.lower()\n",
    "    else:\n",
    "        new_x += a.upper()\n",
    "print(\"The output should be: \", new_x)"
   ]
  },
  {
   "cell_type": "markdown",
   "metadata": {
    "deletable": false,
    "editable": false,
    "nbgrader": {
     "cell_type": "markdown",
     "checksum": "714a7b707ffca871b8e29e3ea84da4ef",
     "grade": false,
     "grade_id": "cell-7a07a53e4b1ccec4",
     "locked": true,
     "schema_version": 3,
     "solution": false,
     "task": false
    }
   },
   "source": [
    "## Problem 3\n",
    "\n",
    "Ask the user to input two names. Write code to output the letters that appear in both names, capitalized in alphabetical order. \n",
    "\n",
    "Example: Entering Lisa and Nina should return AI"
   ]
  },
  {
   "cell_type": "code",
   "execution_count": 41,
   "metadata": {
    "deletable": false,
    "nbgrader": {
     "cell_type": "code",
     "checksum": "859d1a214758ee71f1c305f87d577c0b",
     "grade": true,
     "grade_id": "cell-1c008267775e6d65",
     "locked": false,
     "points": 4,
     "schema_version": 3,
     "solution": true,
     "task": false
    }
   },
   "outputs": [
    {
     "name": "stdout",
     "output_type": "stream",
     "text": [
      "AI\n"
     ]
    }
   ],
   "source": [
    "x = set(\"Lisa\")\n",
    "y = set(\"Nina\")\n",
    "print(\"\".join(sorted(x&y)).upper())"
   ]
  },
  {
   "cell_type": "markdown",
   "metadata": {
    "deletable": false,
    "editable": false,
    "nbgrader": {
     "cell_type": "markdown",
     "checksum": "b3b55d7d00de85e12ecd30c03ead66f4",
     "grade": false,
     "grade_id": "cell-a0600661f6082e7c",
     "locked": true,
     "schema_version": 3,
     "solution": false,
     "task": false
    }
   },
   "source": [
    "## Problem 4\n",
    "\n",
    "A palindrome is a word or a phrase that reads the same forwards as backwards. Disregard capitalization, punctuation or spaces. Ask the user to input a string. Then output a message that tells the user whether or not the string they provided is a palindrome. \n",
    "\n",
    "Examples of palindrome words or phrases: the name \"Otto\", the prase \"Never odd or even\"."
   ]
  },
  {
   "cell_type": "code",
   "execution_count": 55,
   "metadata": {
    "deletable": false,
    "nbgrader": {
     "cell_type": "code",
     "checksum": "2c2aac216c93388592b74bed85653d6c",
     "grade": true,
     "grade_id": "cell-cc4b6a0071177f26",
     "locked": false,
     "points": 4,
     "schema_version": 3,
     "solution": true,
     "task": false
    }
   },
   "outputs": [
    {
     "name": "stdout",
     "output_type": "stream",
     "text": [
      "Please enter a string: Otto\n",
      "The string you provided is a palindrome!\n"
     ]
    }
   ],
   "source": [
    "x = input(\"Please enter a string: \")\n",
    "x_string = x.replace(\" \",\"\")         # string cannot be modified, so we have to creat a new string\n",
    "new_string = x_string.lower()\n",
    "x_list = list(new_string)\n",
    "new_list = x_list.copy()\n",
    "x_list.reverse()\n",
    "if new_list == x_list:\n",
    "    print(\"The string you provided is a palindrome!\")\n",
    "else:\n",
    "    print(\"The string you provided is not a palindrome!\")"
   ]
  },
  {
   "cell_type": "markdown",
   "metadata": {
    "deletable": false,
    "editable": false,
    "nbgrader": {
     "cell_type": "markdown",
     "checksum": "44078ed8d13ae490cec320cb7c49bfaf",
     "grade": false,
     "grade_id": "cell-cdb4c72e9c1a60da",
     "locked": true,
     "schema_version": 3,
     "solution": false,
     "task": false
    }
   },
   "source": [
    "## Problem 5\n",
    "\n",
    "We want to use random numbers to estimate the value of $\\pi$. Consider a unit circle (that is a circle around the origin of radius 1) and consider the smallest square with sides parallel to the axes that contains that circle. Write code below to generate n random vectors that are uniformly distributed over the area of the square.  \n",
    "\n",
    "Hint: Recall, that a circle of radius $r$ has area $\\pi r^2$. What is the area of the smallest square  with sides parallel to the axes that contains the unit circle? What is the probability that a random variable distributed randomly on this square lands in the unit circle?\n",
    "\n",
    "Use your simulated random vectors to estimate the value of $\\pi$ for different values of n. Explain how your code works: what are you counting and why is it reasonable to use this count as an estimate for $\\pi$? Make sure to comment your code well enough so that a reader can follow the steps in your description and find each one reflected in the code. \n",
    "\n",
    "Your code should ask the user to input the value of n and output a statement that reads: \n",
    "\"For n=_______ iterations, the estimate of the pi is _______\" where both blanks should be filled in with meaningful values derived from your code. \n",
    "\n",
    "Hint: To repeat the same task n times in Python you could use a for-loop. See top for general syntax. "
   ]
  },
  {
   "cell_type": "markdown",
   "metadata": {
    "deletable": false,
    "nbgrader": {
     "cell_type": "markdown",
     "checksum": "43894cd2fda4ab72391312c33f9040b8",
     "grade": true,
     "grade_id": "cell-a7e254d6006f7c51",
     "locked": false,
     "points": 3,
     "schema_version": 3,
     "solution": true,
     "task": false
    }
   },
   "source": [
    "YOUR ANSWER HERE"
   ]
  },
  {
   "cell_type": "code",
   "execution_count": 63,
   "metadata": {
    "deletable": false,
    "nbgrader": {
     "cell_type": "code",
     "checksum": "1dba8f9c5f67202d6423c4565ca656b2",
     "grade": true,
     "grade_id": "cell-4465b86fd7df34aa",
     "locked": false,
     "points": 3,
     "schema_version": 3,
     "solution": true,
     "task": false
    }
   },
   "outputs": [
    {
     "name": "stdout",
     "output_type": "stream",
     "text": [
      "Please enter the value of n: 1000\n",
      "For n= 775  iterations, the estimate of the pi is  3.1\n"
     ]
    }
   ],
   "source": [
    "import random as random\n",
    "n = int(input(\"Please enter the value of n: \"))\n",
    "N = 0\n",
    "for i in range(1, n+1):\n",
    "    a = random.uniform(-1,1)\n",
    "    b = random.uniform(-1,1)\n",
    "    if (a**2 + b**2 <= 1):\n",
    "        N = N + 1\n",
    "    else:\n",
    "        N = N\n",
    "pi = 4*N/n\n",
    "print(\"For n=\", N, \" iterations, the estimate of the pi is \", pi)"
   ]
  },
  {
   "cell_type": "code",
   "execution_count": null,
   "metadata": {},
   "outputs": [],
   "source": []
  }
 ],
 "metadata": {
  "kernelspec": {
   "display_name": "Python 3",
   "language": "python",
   "name": "python3"
  },
  "language_info": {
   "codemirror_mode": {
    "name": "ipython",
    "version": 3
   },
   "file_extension": ".py",
   "mimetype": "text/x-python",
   "name": "python",
   "nbconvert_exporter": "python",
   "pygments_lexer": "ipython3",
   "version": "3.7.4"
  }
 },
 "nbformat": 4,
 "nbformat_minor": 2
}
