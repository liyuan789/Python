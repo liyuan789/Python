{
 "cells": [
  {
   "cell_type": "markdown",
   "metadata": {},
   "source": [
    "Before you turn this homework set in, make sure everything runs as expected. When you are done modifying this file,  **restart the kernel** (in the menubar, select Kernel$\\rightarrow$Restart) and then **run all cells** (in the menubar, select Cell$\\rightarrow$Run All).\n",
    "\n",
    "Make sure you fill in any place that says `YOUR CODE HERE` or \"YOUR ANSWER HERE\", as well as your name below. In the code cells, make sure to replace the **raise NotImplementedError()** statement with your actual code."
   ]
  },
  {
   "cell_type": "code",
   "execution_count": 1,
   "metadata": {},
   "outputs": [],
   "source": [
    "NAME = \"Liyuan Sun\""
   ]
  },
  {
   "cell_type": "markdown",
   "metadata": {},
   "source": [
    "---"
   ]
  },
  {
   "cell_type": "markdown",
   "metadata": {
    "deletable": false,
    "editable": false,
    "nbgrader": {
     "cell_type": "markdown",
     "checksum": "85f97d44322ffa112115254f82ebff03",
     "grade": false,
     "grade_id": "cell-ef495698be86d216",
     "locked": true,
     "schema_version": 3,
     "solution": false,
     "task": false
    }
   },
   "source": [
    "## Problem 1\n",
    "\n",
    "The file \"Temp.txt\" which you can download from the homework tab on Canvas, contains the monthly high-temperatures (in degrees Celsius) at Heathrow airport for the years 1948 through 2016. Save the file on your computer (in a folder that you can find again). Run the code below, changing the path to the appropriate path on **your** computer. It's ok to use forward slashes in the path name, regardless of whether you're working on Windows or MacOS. "
   ]
  },
  {
   "cell_type": "code",
   "execution_count": 6,
   "metadata": {},
   "outputs": [],
   "source": [
    "temperatures = []\n",
    "\n",
    "from pathlib import Path\n",
    "\n",
    "data_folder = Path(\"/Users/liyuansun/Downloads/167ps/Homework_2\") \n",
    "# make sure to change this path to the actual path where YOU have saved the data file. \n",
    "\n",
    "file_to_open = data_folder / \"Temp.txt\"\n",
    "\n",
    "f = open(file_to_open)\n",
    "\n",
    "for row in f:\n",
    "    temperatures.append(float(row))"
   ]
  },
  {
   "cell_type": "markdown",
   "metadata": {
    "deletable": false,
    "editable": false,
    "nbgrader": {
     "cell_type": "markdown",
     "checksum": "8dbc83763e3e427a041a80c6fac96701",
     "grade": false,
     "grade_id": "cell-90600cd732395818",
     "locked": true,
     "schema_version": 3,
     "solution": false,
     "task": false
    }
   },
   "source": [
    "You have now created an object called temperatures. \n",
    "\n",
    "Answer the following questions by inserting your code into the code box (replacing the \"# your code here\" prompt) and answering the question in the Markdown box. \n",
    "\n",
    "a) What kind of object type is \"temperatures\"?"
   ]
  },
  {
   "cell_type": "code",
   "execution_count": 20,
   "metadata": {
    "deletable": false,
    "nbgrader": {
     "cell_type": "code",
     "checksum": "c3f47727e253fd45b2b27e363771f4dd",
     "grade": true,
     "grade_id": "cell-1274844462a16520",
     "locked": false,
     "points": 1,
     "schema_version": 3,
     "solution": true,
     "task": false
    }
   },
   "outputs": [
    {
     "data": {
      "text/plain": [
       "list"
      ]
     },
     "execution_count": 20,
     "metadata": {},
     "output_type": "execute_result"
    }
   ],
   "source": [
    "type(temperatures)"
   ]
  },
  {
   "cell_type": "markdown",
   "metadata": {
    "deletable": false,
    "nbgrader": {
     "cell_type": "markdown",
     "checksum": "a60cbb57dff6891a80c6942df500e65f",
     "grade": true,
     "grade_id": "cell-34240bd2605d2f58",
     "locked": false,
     "points": 1,
     "schema_version": 3,
     "solution": true,
     "task": false
    }
   },
   "source": [
    "YOUR ANSWER HERE"
   ]
  },
  {
   "cell_type": "markdown",
   "metadata": {},
   "source": [
    "b) Describe what the \"float()\" and \"append()\" commands do, respectively, that have been applied above. Try to leave out the \"float()\" command. What happens then? "
   ]
  },
  {
   "cell_type": "markdown",
   "metadata": {
    "deletable": false,
    "nbgrader": {
     "cell_type": "markdown",
     "checksum": "2653d6fd0d4d164f0fc1c89923901faa",
     "grade": true,
     "grade_id": "cell-500e86f52b100e06",
     "locked": false,
     "points": 2,
     "schema_version": 3,
     "solution": true,
     "task": false
    }
   },
   "source": [
    "- float() is a function, change the type of string into float. \n",
    "\n",
    "- append() is a method, add each float(row) into the list temperatures. \n",
    "\n",
    "- Then, if we leave out the \"float()\" commend, there's an error. "
   ]
  },
  {
   "cell_type": "markdown",
   "metadata": {
    "deletable": false,
    "editable": false,
    "nbgrader": {
     "cell_type": "markdown",
     "checksum": "ea10dd8b94337c18b98c1262adef51f3",
     "grade": false,
     "grade_id": "cell-1ed6dd0ce4068fd0",
     "locked": true,
     "schema_version": 3,
     "solution": false,
     "task": false
    }
   },
   "source": [
    "c) How many temperatures have been recorded in the file?"
   ]
  },
  {
   "cell_type": "code",
   "execution_count": 46,
   "metadata": {
    "deletable": false,
    "nbgrader": {
     "cell_type": "code",
     "checksum": "dbc06dc4272e2b3a0cd8d01d2ca6858e",
     "grade": true,
     "grade_id": "cell-4102cec12478cb95",
     "locked": false,
     "points": 0.5,
     "schema_version": 3,
     "solution": true,
     "task": false
    }
   },
   "outputs": [
    {
     "data": {
      "text/plain": [
       "828"
      ]
     },
     "execution_count": 46,
     "metadata": {},
     "output_type": "execute_result"
    }
   ],
   "source": [
    "len(temperatures)"
   ]
  },
  {
   "cell_type": "markdown",
   "metadata": {
    "deletable": false,
    "nbgrader": {
     "cell_type": "markdown",
     "checksum": "d44ea0463e761488492da1a6a2d5ddb0",
     "grade": true,
     "grade_id": "cell-6ad7e392521a4a0e",
     "locked": false,
     "points": 0.5,
     "schema_version": 3,
     "solution": true,
     "task": false
    }
   },
   "source": [
    "YOUR ANSWER HERE"
   ]
  },
  {
   "cell_type": "markdown",
   "metadata": {
    "deletable": false,
    "editable": false,
    "nbgrader": {
     "cell_type": "markdown",
     "checksum": "f61e1abf01d6a8746451fb557e8da1fa",
     "grade": false,
     "grade_id": "cell-5d583cf14544aa4b",
     "locked": true,
     "schema_version": 3,
     "solution": false,
     "task": false
    }
   },
   "source": [
    "d) What are the highest and lowest temperatures recorded?"
   ]
  },
  {
   "cell_type": "code",
   "execution_count": 47,
   "metadata": {
    "deletable": false,
    "nbgrader": {
     "cell_type": "code",
     "checksum": "5d080e038ed4c41f8f093cadae3129f7",
     "grade": true,
     "grade_id": "cell-31ed00b609d91dea",
     "locked": false,
     "points": 1,
     "schema_version": 3,
     "solution": true,
     "task": false
    }
   },
   "outputs": [
    {
     "name": "stdout",
     "output_type": "stream",
     "text": [
      "0.8\n",
      "28.2\n"
     ]
    }
   ],
   "source": [
    "temperatures.sort()\n",
    "print(temperatures[0])\n",
    "print(temperatures[-1])"
   ]
  },
  {
   "cell_type": "markdown",
   "metadata": {
    "deletable": false,
    "nbgrader": {
     "cell_type": "markdown",
     "checksum": "e7b582d3c953ee1738d64a6724411862",
     "grade": true,
     "grade_id": "cell-c0b16d7f7383f06d",
     "locked": false,
     "points": 1,
     "schema_version": 3,
     "solution": true,
     "task": false
    }
   },
   "source": [
    "The highest temperature is 28.2 (in degrees Celsius).\n",
    "\n",
    "The lowest temperature is 0.8 (in degrees Celsius).\n",
    "\n",
    "\n",
    "YOUR ANSWER HERE"
   ]
  },
  {
   "cell_type": "markdown",
   "metadata": {
    "deletable": false,
    "editable": false,
    "nbgrader": {
     "cell_type": "markdown",
     "checksum": "f4ca30d4c3f7ee53e1293d0e284acd90",
     "grade": false,
     "grade_id": "cell-339113f64bcb4534",
     "locked": true,
     "schema_version": 3,
     "solution": false,
     "task": false
    }
   },
   "source": [
    "e) Find the mean temperature (using only the commands you learned from chapter 5, not using additional modules or libraries). Use Python to round your result to two after-decimal digits. "
   ]
  },
  {
   "cell_type": "code",
   "execution_count": 48,
   "metadata": {
    "deletable": false,
    "nbgrader": {
     "cell_type": "code",
     "checksum": "97288dbeefb3f5b7e5f72f607a3b2dd4",
     "grade": true,
     "grade_id": "cell-559818acd1c52615",
     "locked": false,
     "points": 1,
     "schema_version": 3,
     "solution": true,
     "task": false
    }
   },
   "outputs": [
    {
     "data": {
      "text/plain": [
       "14.85"
      ]
     },
     "execution_count": 48,
     "metadata": {},
     "output_type": "execute_result"
    }
   ],
   "source": [
    "round(sum(temperatures)/len(temperatures), 2)"
   ]
  },
  {
   "cell_type": "markdown",
   "metadata": {
    "deletable": false,
    "nbgrader": {
     "cell_type": "markdown",
     "checksum": "62f3029f7a8a92b456c18fbb2608acaf",
     "grade": true,
     "grade_id": "cell-522e5e9fef2c8465",
     "locked": false,
     "points": 1,
     "schema_version": 3,
     "solution": true,
     "task": false
    }
   },
   "source": [
    "YOUR ANSWER HERE"
   ]
  },
  {
   "cell_type": "markdown",
   "metadata": {
    "deletable": false,
    "editable": false,
    "nbgrader": {
     "cell_type": "markdown",
     "checksum": "a2f33a7b5987ab76cd2d977abeb0c398",
     "grade": false,
     "grade_id": "cell-7a234034741311d6",
     "locked": true,
     "schema_version": 3,
     "solution": false,
     "task": false
    }
   },
   "source": [
    "e) Find the median temperature (using only the commands you learned from chapter 5, not using additional modules or libraries)."
   ]
  },
  {
   "cell_type": "code",
   "execution_count": 50,
   "metadata": {
    "deletable": false,
    "nbgrader": {
     "cell_type": "code",
     "checksum": "0a5806945131dcdad3fe0413115fc201",
     "grade": true,
     "grade_id": "cell-befa8725c629dacc",
     "locked": false,
     "points": 1,
     "schema_version": 3,
     "solution": true,
     "task": false
    }
   },
   "outputs": [
    {
     "data": {
      "text/plain": [
       "14.7"
      ]
     },
     "execution_count": 50,
     "metadata": {},
     "output_type": "execute_result"
    }
   ],
   "source": [
    "L = int(len(temperatures)/2 - 1)\n",
    "median = (temperatures[L] + temperatures[L + 1])/2\n",
    "median"
   ]
  },
  {
   "cell_type": "markdown",
   "metadata": {
    "deletable": false,
    "nbgrader": {
     "cell_type": "markdown",
     "checksum": "13338e0a285333aed0cac52b6c20c3d3",
     "grade": true,
     "grade_id": "cell-1a00335306f17863",
     "locked": false,
     "points": 1,
     "schema_version": 3,
     "solution": true,
     "task": false
    }
   },
   "source": [
    "YOUR ANSWER HERE"
   ]
  },
  {
   "cell_type": "markdown",
   "metadata": {
    "deletable": false,
    "editable": false,
    "nbgrader": {
     "cell_type": "markdown",
     "checksum": "15ed5f46b68cd7b84b96f940c779c3ad",
     "grade": false,
     "grade_id": "cell-fba2aab074745cee",
     "locked": true,
     "schema_version": 3,
     "solution": false,
     "task": false
    }
   },
   "source": [
    "## Problem 2 \n",
    "\n",
    "Much of data science these days is done on text data. The text to be analyzed may be literature or postings on social media. The tasks to be performed could be sentiment analysis (trying to guess whether the writing is \"pro\" or \"con\" on a certain issue) to automatically detecting postings by Russian bots. However, before you can perform any kind of machine learning procedure on a text, you have to first learn how to \"clean\" the text. That usually means removing all non-text elements and sometimes also removing filler words such as \"the\", \"it\", \"and\" etc. After that. what is usually analyzed is the frequency with which certain words appear and most often actually not the *order* in which they appear. \n",
    "\n",
    "The text below are the first three paragraphs of Franz Kafka's book \"Metamorphosis\". Our goal is to clean this text passage. "
   ]
  },
  {
   "cell_type": "code",
   "execution_count": 46,
   "metadata": {
    "deletable": false,
    "editable": false,
    "nbgrader": {
     "cell_type": "code",
     "checksum": "f900eb78bb94d97d003d0d1d541cc72f",
     "grade": false,
     "grade_id": "cell-6b3f5de1cf97e9e0",
     "locked": true,
     "schema_version": 3,
     "solution": false,
     "task": false
    }
   },
   "outputs": [],
   "source": [
    "text = \"\"\"One morning, when Gregor Samsa woke from troubled dreams, he found\n",
    "himself transformed in his bed into a horrible vermin.  He lay on\n",
    "his armour-like back, and if he lifted his head a little he could\n",
    "see his brown belly, slightly domed and divided by arches into stiff\n",
    "sections.  The bedding was hardly able to cover it and seemed ready\n",
    "to slide off any moment.  His many legs, pitifully thin compared\n",
    "with the size of the rest of him, waved about helplessly as he\n",
    "looked.\n",
    "\n",
    "\"What's happened to me?\" he thought.  It wasn't a dream.  His room,\n",
    "a proper human room although a little too small, lay peacefully\n",
    "between its four familiar walls.  A collection of textile samples\n",
    "lay spread out on the table - Samsa was a travelling salesman - and\n",
    "above it there hung a picture that he had recently cut out of an\n",
    "illustrated magazine and housed in a nice, gilded frame.  It showed\n",
    "a lady fitted out with a fur hat and fur boa who sat upright,\n",
    "raising a heavy fur muff that covered the whole of her lower arm\n",
    "towards the viewer.\n",
    "\n",
    "Gregor then turned to look out the window at the dull weather.\n",
    "Drops of rain could be heard hitting the pane, which made him feel\n",
    "quite sad.  \"How about if I sleep a little bit longer and forget all\n",
    "this nonsense\", he thought, but that was something he was unable to\n",
    "do because he was used to sleeping on his right, and in his present\n",
    "state couldn't get into that position.  However hard he threw\n",
    "himself onto his right, he always rolled back to where he was.  He\n",
    "must have tried it a hundred times, shut his eyes so that he\n",
    "wouldn't have to look at the floundering legs, and only stopped when\n",
    "he began to feel a mild, dull pain there that he had never felt\n",
    "before.\"\"\""
   ]
  },
  {
   "cell_type": "markdown",
   "metadata": {
    "deletable": false,
    "editable": false,
    "nbgrader": {
     "cell_type": "markdown",
     "checksum": "a4af973a32090ba3056e47cf1667cec7",
     "grade": false,
     "grade_id": "cell-4859f6c152b98634",
     "locked": true,
     "schema_version": 3,
     "solution": false,
     "task": false
    }
   },
   "source": [
    "a) Look at the text. What non-alphabetic character elements do you see in the text?"
   ]
  },
  {
   "cell_type": "markdown",
   "metadata": {
    "deletable": false,
    "nbgrader": {
     "cell_type": "markdown",
     "checksum": "5179b9354da36274477781e343fe5ffc",
     "grade": true,
     "grade_id": "cell-b91c05534addb82e",
     "locked": false,
     "points": 1,
     "schema_version": 3,
     "solution": true,
     "task": false
    }
   },
   "source": [
    "The non-alphabetic character elements in the text are ,.\"'?-"
   ]
  },
  {
   "cell_type": "markdown",
   "metadata": {
    "deletable": false,
    "editable": false,
    "nbgrader": {
     "cell_type": "markdown",
     "checksum": "85ab14583d4965f09f2ea55067a98b4d",
     "grade": false,
     "grade_id": "cell-48d73327e92845c7",
     "locked": true,
     "schema_version": 3,
     "solution": false,
     "task": false
    }
   },
   "source": [
    "b) Using only the commands covered in class so far, write code to remove all non-alphabetic characters (such as punctuation)."
   ]
  },
  {
   "cell_type": "code",
   "execution_count": 47,
   "metadata": {
    "deletable": false,
    "nbgrader": {
     "cell_type": "code",
     "checksum": "2f81bba2fedd201a489616d7ca8eaf9f",
     "grade": true,
     "grade_id": "cell-4b64fbe18b6c49ed",
     "locked": false,
     "points": 2,
     "schema_version": 3,
     "solution": true,
     "task": false
    }
   },
   "outputs": [
    {
     "name": "stdout",
     "output_type": "stream",
     "text": [
      "One morning when Gregor Samsa woke from troubled dreams he found\n",
      "himself transformed in his bed into a horrible vermin  He lay on\n",
      "his armourlike back and if he lifted his head a little he could\n",
      "see his brown belly slightly domed and divided by arches into stiff\n",
      "sections  The bedding was hardly able to cover it and seemed ready\n",
      "to slide off any moment  His many legs pitifully thin compared\n",
      "with the size of the rest of him waved about helplessly as he\n",
      "looked\n",
      "\n",
      "Whats happened to me he thought  It wasnt a dream  His room\n",
      "a proper human room although a little too small lay peacefully\n",
      "between its four familiar walls  A collection of textile samples\n",
      "lay spread out on the table  Samsa was a travelling salesman  and\n",
      "above it there hung a picture that he had recently cut out of an\n",
      "illustrated magazine and housed in a nice gilded frame  It showed\n",
      "a lady fitted out with a fur hat and fur boa who sat upright\n",
      "raising a heavy fur muff that covered the whole of her lower arm\n",
      "towards the viewer\n",
      "\n",
      "Gregor then turned to look out the window at the dull weather\n",
      "Drops of rain could be heard hitting the pane which made him feel\n",
      "quite sad  How about if I sleep a little bit longer and forget all\n",
      "this nonsense he thought but that was something he was unable to\n",
      "do because he was used to sleeping on his right and in his present\n",
      "state couldnt get into that position  However hard he threw\n",
      "himself onto his right he always rolled back to where he was  He\n",
      "must have tried it a hundred times shut his eyes so that he\n",
      "wouldnt have to look at the floundering legs and only stopped when\n",
      "he began to feel a mild dull pain there that he had never felt\n",
      "before\n"
     ]
    }
   ],
   "source": [
    "text = text.replace(\",\",\"\")\n",
    "text = text.replace(\".\",\"\")\n",
    "text = text.replace(\"\\\"\",\"\")\n",
    "text = text.replace(\"'\",\"\")\n",
    "text = text.replace(\"?\",\"\")\n",
    "text = text.replace(\"-\",\"\")\n",
    "print(text)"
   ]
  },
  {
   "cell_type": "markdown",
   "metadata": {
    "deletable": false,
    "editable": false,
    "nbgrader": {
     "cell_type": "markdown",
     "checksum": "32207b82a63b01152a56cac936acf742",
     "grade": false,
     "grade_id": "cell-d3b4342173920c17",
     "locked": true,
     "schema_version": 3,
     "solution": false,
     "task": false
    }
   },
   "source": [
    "c) Write code to make everything lower case and convert the text into a list of single words. "
   ]
  },
  {
   "cell_type": "code",
   "execution_count": 49,
   "metadata": {
    "deletable": false,
    "nbgrader": {
     "cell_type": "code",
     "checksum": "29a38852d5f6edf9f02883a477aeba80",
     "grade": true,
     "grade_id": "cell-1f0da4f57b41fe5e",
     "locked": false,
     "points": 2,
     "schema_version": 3,
     "solution": true,
     "task": false
    }
   },
   "outputs": [
    {
     "name": "stdout",
     "output_type": "stream",
     "text": [
      "['one', 'morning', 'when', 'gregor', 'samsa', 'woke', 'from', 'troubled', 'dreams', 'he', 'found', 'himself', 'transformed', 'in', 'his', 'bed', 'into', 'a', 'horrible', 'vermin', 'he', 'lay', 'on', 'his', 'armourlike', 'back', 'and', 'if', 'he', 'lifted', 'his', 'head', 'a', 'little', 'he', 'could', 'see', 'his', 'brown', 'belly', 'slightly', 'domed', 'and', 'divided', 'by', 'arches', 'into', 'stiff', 'sections', 'the', 'bedding', 'was', 'hardly', 'able', 'to', 'cover', 'it', 'and', 'seemed', 'ready', 'to', 'slide', 'off', 'any', 'moment', 'his', 'many', 'legs', 'pitifully', 'thin', 'compared', 'with', 'the', 'size', 'of', 'the', 'rest', 'of', 'him', 'waved', 'about', 'helplessly', 'as', 'he', 'looked', 'whats', 'happened', 'to', 'me', 'he', 'thought', 'it', 'wasnt', 'a', 'dream', 'his', 'room', 'a', 'proper', 'human', 'room', 'although', 'a', 'little', 'too', 'small', 'lay', 'peacefully', 'between', 'its', 'four', 'familiar', 'walls', 'a', 'collection', 'of', 'textile', 'samples', 'lay', 'spread', 'out', 'on', 'the', 'table', 'samsa', 'was', 'a', 'travelling', 'salesman', 'and', 'above', 'it', 'there', 'hung', 'a', 'picture', 'that', 'he', 'had', 'recently', 'cut', 'out', 'of', 'an', 'illustrated', 'magazine', 'and', 'housed', 'in', 'a', 'nice', 'gilded', 'frame', 'it', 'showed', 'a', 'lady', 'fitted', 'out', 'with', 'a', 'fur', 'hat', 'and', 'fur', 'boa', 'who', 'sat', 'upright', 'raising', 'a', 'heavy', 'fur', 'muff', 'that', 'covered', 'the', 'whole', 'of', 'her', 'lower', 'arm', 'towards', 'the', 'viewer', 'gregor', 'then', 'turned', 'to', 'look', 'out', 'the', 'window', 'at', 'the', 'dull', 'weather', 'drops', 'of', 'rain', 'could', 'be', 'heard', 'hitting', 'the', 'pane', 'which', 'made', 'him', 'feel', 'quite', 'sad', 'how', 'about', 'if', 'i', 'sleep', 'a', 'little', 'bit', 'longer', 'and', 'forget', 'all', 'this', 'nonsense', 'he', 'thought', 'but', 'that', 'was', 'something', 'he', 'was', 'unable', 'to', 'do', 'because', 'he', 'was', 'used', 'to', 'sleeping', 'on', 'his', 'right', 'and', 'in', 'his', 'present', 'state', 'couldnt', 'get', 'into', 'that', 'position', 'however', 'hard', 'he', 'threw', 'himself', 'onto', 'his', 'right', 'he', 'always', 'rolled', 'back', 'to', 'where', 'he', 'was', 'he', 'must', 'have', 'tried', 'it', 'a', 'hundred', 'times', 'shut', 'his', 'eyes', 'so', 'that', 'he', 'wouldnt', 'have', 'to', 'look', 'at', 'the', 'floundering', 'legs', 'and', 'only', 'stopped', 'when', 'he', 'began', 'to', 'feel', 'a', 'mild', 'dull', 'pain', 'there', 'that', 'he', 'had', 'never', 'felt', 'before']\n"
     ]
    }
   ],
   "source": [
    "text = text.lower()\n",
    "textList = text.split()\n",
    "print(textList)"
   ]
  },
  {
   "cell_type": "markdown",
   "metadata": {
    "deletable": false,
    "editable": false,
    "nbgrader": {
     "cell_type": "markdown",
     "checksum": "f766733e1d8a4f84a8f2a37a54d99112",
     "grade": false,
     "grade_id": "cell-c6d3acee7f698a50",
     "locked": true,
     "schema_version": 3,
     "solution": false,
     "task": false
    }
   },
   "source": [
    "d) How many words are in the list? Count, how often the word \"he\" appears in the three paragraphs. "
   ]
  },
  {
   "cell_type": "code",
   "execution_count": 50,
   "metadata": {
    "deletable": false,
    "nbgrader": {
     "cell_type": "code",
     "checksum": "5575b4a10677310a03bbaf2c2fd4965e",
     "grade": true,
     "grade_id": "cell-6e885dd0313883a1",
     "locked": false,
     "points": 1,
     "schema_version": 3,
     "solution": true,
     "task": false
    }
   },
   "outputs": [
    {
     "name": "stdout",
     "output_type": "stream",
     "text": [
      "313\n",
      "17\n"
     ]
    }
   ],
   "source": [
    "print(len(textList))\n",
    "print(textList.count(\"he\"))"
   ]
  },
  {
   "cell_type": "markdown",
   "metadata": {
    "deletable": false,
    "nbgrader": {
     "cell_type": "markdown",
     "checksum": "53b88972cb79abe71d19552c7640315b",
     "grade": true,
     "grade_id": "cell-fabf0ebc115053cf",
     "locked": false,
     "points": 1,
     "schema_version": 3,
     "solution": true,
     "task": false
    }
   },
   "source": [
    "YOUR ANSWER HERE"
   ]
  },
  {
   "cell_type": "markdown",
   "metadata": {
    "deletable": false,
    "editable": false,
    "nbgrader": {
     "cell_type": "markdown",
     "checksum": "2c1348e4dd63fa18eff4e5f0478b0f87",
     "grade": false,
     "grade_id": "cell-c0ad33a5db7f9482",
     "locked": true,
     "schema_version": 3,
     "solution": false,
     "task": false
    }
   },
   "source": [
    "e) How many distinct (different) words appear in the first three paragragraphs?"
   ]
  },
  {
   "cell_type": "code",
   "execution_count": 52,
   "metadata": {
    "deletable": false,
    "nbgrader": {
     "cell_type": "code",
     "checksum": "101e34d5cc002ae92867b0775099b32e",
     "grade": true,
     "grade_id": "cell-b7c0416724c28ac2",
     "locked": false,
     "points": 1,
     "schema_version": 3,
     "solution": true,
     "task": false
    }
   },
   "outputs": [
    {
     "data": {
      "text/plain": [
       "194"
      ]
     },
     "execution_count": 52,
     "metadata": {},
     "output_type": "execute_result"
    }
   ],
   "source": [
    "textSet = set(textList)\n",
    "len(textSet)"
   ]
  },
  {
   "cell_type": "markdown",
   "metadata": {
    "deletable": false,
    "nbgrader": {
     "cell_type": "markdown",
     "checksum": "0df877b836c7268995a5a38e259e3516",
     "grade": true,
     "grade_id": "cell-34bd774a86b1e1b5",
     "locked": false,
     "points": 1,
     "schema_version": 3,
     "solution": true,
     "task": false
    }
   },
   "source": [
    "YOUR ANSWER HERE"
   ]
  }
 ],
 "metadata": {
  "kernelspec": {
   "display_name": "Python 3",
   "language": "python",
   "name": "python3"
  },
  "language_info": {
   "codemirror_mode": {
    "name": "ipython",
    "version": 3
   },
   "file_extension": ".py",
   "mimetype": "text/x-python",
   "name": "python",
   "nbconvert_exporter": "python",
   "pygments_lexer": "ipython3",
   "version": "3.7.4"
  }
 },
 "nbformat": 4,
 "nbformat_minor": 2
}
