{
 "cells": [
  {
   "cell_type": "markdown",
   "metadata": {},
   "source": [
    "## In-Class Problem Set 2\n",
    "\n",
    "**Problem:** Remove duplicates from a list but keep items in the original order. \n",
    "\n",
    "**Examples:**\n",
    "<br>$[4,23,5,6,13,23,5,7]$ becomes $[4,23,5,6,13,7]$\n",
    "<br>$[4,4,4,2,7]$ becomes $[4,2,7]$\n",
    "\n",
    "If you feel up to it, write your code as a function that accepts the long list as an argument and returns the list with duplicates removed. "
   ]
  },
  {
   "cell_type": "code",
   "execution_count": 4,
   "metadata": {},
   "outputs": [
    {
     "name": "stdout",
     "output_type": "stream",
     "text": [
      "[4, 23, 5, 6, 13, 7]\n"
     ]
    }
   ],
   "source": [
    "y = []\n",
    "x = [4,23,5,6,13,23,5,7]\n",
    "for i in x:\n",
    "    if i not in y:\n",
    "        y.append(i)\n",
    "    else:\n",
    "        y = y\n",
    "print(y)"
   ]
  },
  {
   "cell_type": "markdown",
   "metadata": {},
   "source": [
    "## In-Class Problem Set 3\n",
    "\n",
    "**Problem:** Given a dictionary that contains names of people as keys and their ages (in integer format) as values, write a function that finds the name (or names) as a list of the second oldest person (or persons if there is a tie).\n",
    "\n",
    "**Hint:** In Python, there is dictionary comprehension,which is very similar to list comprehension. There are three different variants of dictionary comprehension. You can work with just keys, just values or with key-value parirs. Basic syntac can look like this: \n",
    "\n",
    "**Examples:** \n",
    "<br>{'Adam': 12, 'Betsy': 11, 'Charles': 13, 'David': 15, 'Emma': 13} should result in ['Charles', 'Emma'] \n",
    "<br>since Charles and Emma are tied in age and the second-oldest in this group. Note, that the oldest age may appear more than once."
   ]
  },
  {
   "cell_type": "markdown",
   "metadata": {},
   "source": [
    "**Example_1**"
   ]
  },
  {
   "cell_type": "code",
   "execution_count": 1,
   "metadata": {},
   "outputs": [
    {
     "data": {
      "text/plain": [
       "{'boba': 64, 'anakin': 84, 'yoda': 1792}"
      ]
     },
     "execution_count": 1,
     "metadata": {},
     "output_type": "execute_result"
    }
   ],
   "source": [
    "d2 = {'Luke':19, 'Boba':32, 'Leia':19,'Anakin':42, 'Yoda':896}\n",
    "{name.lower(): 2*age for (name,age) in d2.items() if age>21}"
   ]
  },
  {
   "cell_type": "markdown",
   "metadata": {},
   "source": [
    "**Example_2**"
   ]
  },
  {
   "cell_type": "code",
   "execution_count": 3,
   "metadata": {},
   "outputs": [
    {
     "data": {
      "text/plain": [
       "[25, 21, 23, 25, 23]"
      ]
     },
     "execution_count": 3,
     "metadata": {},
     "output_type": "execute_result"
    }
   ],
   "source": [
    "d1 = {'Adam':15, 'Betsy':11, 'Charles':13, 'David':15, 'Emma':13}\n",
    "[age+10 for age in d1.values() if age%2!=0]"
   ]
  },
  {
   "cell_type": "code",
   "execution_count": 5,
   "metadata": {},
   "outputs": [
    {
     "data": {
      "text/plain": [
       "['Charles', 'Emma']"
      ]
     },
     "execution_count": 5,
     "metadata": {},
     "output_type": "execute_result"
    }
   ],
   "source": [
    "# Way_1: for loop\n",
    "def sec_old(dic):\n",
    "    ls = []\n",
    "    age = sorted(set(dic.values()))[-2]\n",
    "    for name in dic.keys():\n",
    "        if dic[name] == age:\n",
    "            ls.append(name)\n",
    "    return ls\n",
    "sec_old(d1)"
   ]
  },
  {
   "cell_type": "code",
   "execution_count": 7,
   "metadata": {},
   "outputs": [
    {
     "data": {
      "text/plain": [
       "['Charles', 'Emma']"
      ]
     },
     "execution_count": 7,
     "metadata": {},
     "output_type": "execute_result"
    }
   ],
   "source": [
    "# Way2: dictionary comprehension\n",
    "def sec_old_com(dic):\n",
    "    return [name for (name,age) in dic.items() if d1[name]==sorted(set(dic.values()))[-2]]\n",
    "sec_old_com(d1)"
   ]
  },
  {
   "cell_type": "markdown",
   "metadata": {},
   "source": [
    "## In-Class Problem Set 4\n",
    "\n",
    "**Problem:** Write a function that includes n zeros between each of the values in a given one-dimensional NumPy array. \n",
    "\n",
    "Example: \n",
    "\n",
    "array([3,4,6,2,4,8]) would become array([3,0,0,4,0,0,6,0,0,2,0,0,4,0,0,8]) for p=2. \n",
    "\n",
    "array([1., 2., 5., 1.]) would become array([1., 0., 0., 0., 2., 0., 0., 0., 5., 0., 0., 0., 1.]) for p=3 \n",
    "\n",
    "(note the different data type in this latter case). "
   ]
  },
  {
   "cell_type": "code",
   "execution_count": 22,
   "metadata": {},
   "outputs": [
    {
     "name": "stdout",
     "output_type": "stream",
     "text": [
      "True\n",
      "True\n"
     ]
    }
   ],
   "source": [
    "import numpy as np\n",
    "\n",
    "x = np.array([3,4,6,2,4,8])\n",
    "y = np.array([1., 2., 5., 1.])\n",
    "# feel free to create your own array for development, too\n",
    "\n",
    "def insert_zeros(x,p):\n",
    "    \"\"\"Function creates p zeros each of appropriate data type between values in X\"\"\"\n",
    "    data_type = x.dtype                                        # find data type of entries in x\n",
    "    new_array = np.zeros(len(x)+p*(len(x)-1), dtype=data_type) # create matrix of zeros to hold x and enough zeros\n",
    "    new_array[::p+1] = x                                       # populate every p+1st entry with values in x\n",
    "    return new_array\n",
    "\n",
    "# check your work when you're done\n",
    "print(np.array_equal(insert_zeros(x,2), np.array([3, 0, 0, 4, 0, 0, 6, 0, 0, 2, 0, 0, 4, 0, 0, 8])))\n",
    "print(np.array_equal(insert_zeros(y,3), np.array([1., 0., 0., 0., 2., 0., 0., 0., 5., 0., 0., 0., 1.])))"
   ]
  },
  {
   "cell_type": "markdown",
   "metadata": {},
   "source": [
    "**Problem:** Consider the two NumPy \"mini\"-arrays A and B we worked with in class, previously. Stack A and B to make a 2-by-2-by2 array - that is, stack them on top of each other, one array per slice, A in front."
   ]
  },
  {
   "cell_type": "code",
   "execution_count": 38,
   "metadata": {},
   "outputs": [
    {
     "data": {
      "text/plain": [
       "array([[[1, 1],\n",
       "        [1, 1]],\n",
       "\n",
       "       [[2, 2],\n",
       "        [2, 2]]])"
      ]
     },
     "execution_count": 38,
     "metadata": {},
     "output_type": "execute_result"
    }
   ],
   "source": [
    "A = np.array([[1,1],[1,1]])\n",
    "B = np.array([[2,2],[2,2]])\n",
    "\n",
    "np.concatenate([A[np.newaxis,:,:], B[np.newaxis,:,:]],axis=0)  # add slice-dimension first, then stack them slicewise"
   ]
  },
  {
   "cell_type": "code",
   "execution_count": null,
   "metadata": {},
   "outputs": [],
   "source": []
  }
 ],
 "metadata": {
  "kernelspec": {
   "display_name": "Python 3",
   "language": "python",
   "name": "python3"
  },
  "language_info": {
   "codemirror_mode": {
    "name": "ipython",
    "version": 3
   },
   "file_extension": ".py",
   "mimetype": "text/x-python",
   "name": "python",
   "nbconvert_exporter": "python",
   "pygments_lexer": "ipython3",
   "version": "3.7.4"
  }
 },
 "nbformat": 4,
 "nbformat_minor": 2
}
