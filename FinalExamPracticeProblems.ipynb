{
 "cells": [
  {
   "cell_type": "markdown",
   "metadata": {},
   "source": [
    "\n",
    "# Final Exam Practice Problems\n",
    "**Note:** The final exam in Math 167PS is cumulative. Combine this list of practice problems with the lists from the previous two exams to get a better feeling for which topics and kinds of problems may appear on the final. \n",
    "\n",
    "**Disclaimer:** This document is a work in progress. Expect more problems to be added over the next couple of days. "
   ]
  },
  {
   "cell_type": "markdown",
   "metadata": {},
   "source": [
    "## Problem 1\n",
    "\n",
    "To practice SQL commands, try the following exercises from your SQL textbook (which all refer to the bank database, that you have seen in class). You can find the ER-Schema of the bank database on page 272 of your textbook. It is not necessary to run any actual SQL code to answer the questions below. Note, that you are not being asked for output in problems 3-1 to 3-4, but rather just for the SQL code to produce specific output. \n",
    "\n",
    "### Exercise 3-1\n",
    "\n",
    "Write a SQL query to retrieve the employee ID, first name, and last name for all bank employees. Sort by last name and then by first name.\n",
    "\n",
    "### Exercise 3-2\n",
    "\n",
    "Write a SQL query to retrieve the account ID, customer ID, and available balance for all accounts whose status equals 'ACTIVE' and whose available balance is greater than \\\\$2,500.\n",
    "\n",
    "### Exercise 3-3\n",
    "\n",
    "Write a SQL query against the account table that returns the IDs of the employees who opened the accounts (use the account.open_emp_id column). Include a single row for each distinct employee.\n",
    "\n",
    "### Exercise 3-4\n",
    "\n",
    "Fill in the blanks (denoted by <#>) for this multi-data-set query to achieve the results shown here (here, refers to the table shown on page 60 of your text). \n",
    "```\n",
    "mysql> SELECT p.product_cd, a.cust_id, a.avail_balance \n",
    "-> FROM product p INNER JOIN account <1>\n",
    "-> ON p.product_cd = <2>\n",
    "-> WHERE p.<3> = 'ACCOUNT'\n",
    "-> ORDER BY <4>, <5>; \n",
    "```\n",
    "\n",
    "**Note:** The data table for Exercises 4-1 to 4-3 can be found on page 79 of your text. Try to answer the following questions *without* actually running the stated query. Only run the query (or look in appendix C) to check your answer. \n",
    "\n",
    "### Exercise 4-1\n",
    "\n",
    "Which of the transaction IDs would be returned by the following filter conditions?\n",
    "     txn_date < '2005-02-26' AND (txn_type_cd = 'DBT' OR amount > 100)\n",
    "     \n",
    "### Exercise 4-2\n",
    "Which of the transaction IDs would be returned by the following filter conditions?\n",
    "     account_id IN (101,103) AND NOT (txn_type_cd = 'DBT' OR amount > 100)\n",
    "     \n",
    "### Exercise 4-3\n",
    "Write a SQL query that retrieves all accounts opened in 2002.\n",
    "\n",
    "### Exercise 5-1\n",
    "Fill in the blanks (denoted by <#>) for the following query to obtain the results shown on page 97 of the text):\n",
    "```\n",
    "mysql> SELECT e.emp_id, e.fname, e.lname, b.name \n",
    "-> FROM employee e INNER JOIN <1> b\n",
    "-> ON e.assigned_branch_id = b.<2>;\n",
    "```\n",
    "\n",
    "### Exercise 5-2\n",
    "Write a query that returns the account ID for each nonbusiness customer (customer.cust_type_cd = 'I') with the customer’s federal ID (customer.fed_id) and the name of the product on which the account is based (product.name).\n",
    "\n",
    "### Exercise 5-3\n",
    "Construct a query that finds all employees whose supervisor is assigned to a different department. Retrieve the employees’ ID, first name, and last name."
   ]
  },
  {
   "cell_type": "markdown",
   "metadata": {},
   "source": []
  },
  {
   "cell_type": "markdown",
   "metadata": {},
   "source": [
    "## Problem 2\n",
    "\n",
    "For the mystery functions defined below, describe what the function does in one (or at most two) succinct English sentences. What are the input values(s) that this function accepts? Provide input value(s) for which the output will be (3,3)."
   ]
  },
  {
   "cell_type": "code",
   "execution_count": 21,
   "metadata": {},
   "outputs": [],
   "source": [
    "def mystery_function(*foo):\n",
    "    k = len(foo)\n",
    "    return(k, foo[k-1])"
   ]
  },
  {
   "cell_type": "markdown",
   "metadata": {},
   "source": [
    "## Problem 3\n",
    "\n",
    "A website sells Covid-19 masks for $7.99, each. Quantity discounts are given as follows:\n",
    "\n",
    "|  Quantity | Discount  |\n",
    "|:-:|:-:|\n",
    "| 1-9   | none  |\n",
    "| 10-19   | 10\\%  |\n",
    "| 20-49   | 15\\%  |\n",
    "| 50-99   | 20\\%  |\n",
    "| 100 or more   | 25\\%  |\n",
    "\n",
    "\n",
    "Write a function called \"total_cost\" that accepts the number of masks purchased as an argument (integer $\\ge 0$) and returns the total cost in \\$ (as a float, rounded to the nearest cent) after the discount. \n",
    "\n",
    "Example: If the input is 12, then the output should be 86.29."
   ]
  },
  {
   "cell_type": "code",
   "execution_count": 22,
   "metadata": {},
   "outputs": [],
   "source": [
    "def total_cost(n):\n",
    "    \"\"\"Finds total cost of masks\"\"\"\n",
    "        \n",
    "# Example\n",
    "# total_cost(12) ==86.29"
   ]
  },
  {
   "cell_type": "markdown",
   "metadata": {},
   "source": [
    "## Problem 4\n",
    "\n",
    "\n",
    "Write function called \"make_change\" that accepts as input a float (for instance 0.78) and returns (as a string) the description of the smallest number of coins (American currency) with which one could represent that value. \n",
    "\n",
    "Example: 0.78 should return \"3 quarters and 0 dimes and 0 nickels and 3 pennies\". "
   ]
  },
  {
   "cell_type": "code",
   "execution_count": 28,
   "metadata": {},
   "outputs": [],
   "source": [
    "def make_change(val):\n",
    "    \"\"\"Find smallest number of coins to make change\"\"\"\n",
    "\n",
    "# Example\n",
    "# make_change(0.78) == '3 quarters and 0 dimes and 0 nickels and 3 pennies'"
   ]
  },
  {
   "cell_type": "markdown",
   "metadata": {},
   "source": [
    "## Problem 5\n",
    "\n",
    "Write a Python function called \"min_max\" that can read a list of fractions from a file and returns the smallest and largest fractions found in the list in the form of a string. \n",
    "\n",
    "Example: min_max([12/5, 94/37, 25/3, 90/57]) = \"The smallest fraction is 90/57. The largest fraction is 25/3.\"\n",
    "\n",
    "Example: min_max([1/5, 1/6, 1/7]) = \"The smallest fraction is 1/7. The largest fraction is 1/5.\"\n",
    "\n",
    "**Hint:** Use Numpy"
   ]
  },
  {
   "cell_type": "code",
   "execution_count": 29,
   "metadata": {},
   "outputs": [],
   "source": [
    "import numpy as np\n",
    "\n",
    "def min_max(list):\n",
    "    \"\"\"Finds smallest and largest fractions in a list\"\"\"\n",
    "    \n",
    "\n",
    "# Example\n",
    "# min_max(['12/5', '94/37', '25/3', '90/57']) == 'The smallest faction is 90/57. The largest fraction is 25/3.'"
   ]
  },
  {
   "cell_type": "markdown",
   "metadata": {},
   "source": [
    "## Problem 6\n",
    "\n",
    "For the mystery function defined below, describe what the function does in one succinct English sentence. "
   ]
  },
  {
   "cell_type": "code",
   "execution_count": 33,
   "metadata": {},
   "outputs": [],
   "source": [
    "def mystery(list):\n",
    "    foo = False\n",
    "    if len(list) == 1: \n",
    "        foo =  list[0]\n",
    "    else: \n",
    "        foo = mystery(list[1:])\n",
    "    return foo"
   ]
  },
  {
   "cell_type": "markdown",
   "metadata": {},
   "source": [
    "## Problem 7 \n",
    "\n",
    "For the function \"f\" defined below, identify the input value \"a\" that will result in output 3. \n",
    "That is (f(a) ==3) is True\n"
   ]
  },
  {
   "cell_type": "code",
   "execution_count": 63,
   "metadata": {},
   "outputs": [],
   "source": [
    "def f(a):\n",
    "    count = 0\n",
    "    (oldx, oldy, oldz) = (1,1,1)\n",
    "    for (x,y,z) in a:\n",
    "        if ((x != oldy) or (y != oldz)):\n",
    "            return 42\n",
    "        elif (x+y != z):\n",
    "            return -42\n",
    "        else:\n",
    "            (oldx, oldy, oldz) = (x,y,z)\n",
    "            count += 1\n",
    "    return count\n",
    "\n",
    "# Find a such that \n",
    "# f(a)==3"
   ]
  },
  {
   "cell_type": "markdown",
   "metadata": {},
   "source": [
    "## Problem 8\n",
    "\n",
    "For the function \"f\" defined below, identify the input value \"a\" that will result in output ([4,5],6)."
   ]
  },
  {
   "cell_type": "code",
   "execution_count": 92,
   "metadata": {},
   "outputs": [],
   "source": [
    "def f(a):\n",
    "    s = set()\n",
    "    d = dict()\n",
    "    for i in range(len(a)):\n",
    "        if (i%2 == 0):\n",
    "            if (a[i] in d):\n",
    "                s.add(a[i+1])\n",
    "            else:\n",
    "                d[a[i]] = a[i+1]\n",
    "    return (sorted(s), d[42])\n",
    "\n",
    "# Find a, such that \n",
    "# f(a) == ([4,5],6)"
   ]
  },
  {
   "cell_type": "markdown",
   "metadata": {},
   "source": [
    "## Problem 9\n",
    "\n",
    "Write a Python function called \"group_by_owners\". The function should take as its input a dictionary in which file names are the keys and the values are the names of the owner of the files. The function should return another dictionary in which the names of the owners are the keys and the values are lists of files for each owner. \n",
    "\n",
    "Example: Input = {'File1.txt' : 'Bob', 'File2.txt': 'Anna', 'File3.txt': 'Bob'}\n",
    "Output: {'Bob':['File1.txt', 'File3.txt'], 'Anna': ['File2.txt']}"
   ]
  },
  {
   "cell_type": "markdown",
   "metadata": {},
   "source": [
    "## Problem 10\n",
    "\n",
    "Write a Python function called \"coin_value\" that takes as input a string in which each character represents a coin (assume no spaces and only the letters p (penny, \\$0.01), n (nickel, \\\\$0.05), d (dime, \\\\$0.10), and q (quarter, \\\\$0.25). Find the total value represented by the coins in the string. \n",
    "\n",
    "Example: coint_value(pdnnqp) = 0.47 "
   ]
  },
  {
   "cell_type": "code",
   "execution_count": 91,
   "metadata": {},
   "outputs": [],
   "source": [
    "def coin_value(s):\n",
    "    \"\"\" Finds dollar value of coin input string\"\"\"\n",
    "\n",
    "# Example \n",
    "# coin_value('pdnnqp')== 0.47 "
   ]
  }
 ],
 "metadata": {
  "kernelspec": {
   "display_name": "Python 3",
   "language": "python",
   "name": "python3"
  },
  "language_info": {
   "codemirror_mode": {
    "name": "ipython",
    "version": 3
   },
   "file_extension": ".py",
   "mimetype": "text/x-python",
   "name": "python",
   "nbconvert_exporter": "python",
   "pygments_lexer": "ipython3",
   "version": "3.7.4"
  }
 },
 "nbformat": 4,
 "nbformat_minor": 2
}
