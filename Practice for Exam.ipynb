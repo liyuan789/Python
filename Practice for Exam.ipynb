{
 "cells": [
  {
   "cell_type": "markdown",
   "metadata": {},
   "source": [
    "# Practice Problems for Midterm 1\n",
    "\n",
    "Read on below for coding problems that would make reasonable exam problems for midterm 1. On the exam you could be asked:\n",
    "- to explain a concept (in English, without programming anything) \n",
    "- to write code to solve a specific problem (most of the problems below are of that type) \n",
    "- you could be asked to read code and explain what it does\n",
    "- item you could be asked to find a bug or mistake in given code and fix it with minimal changes to the code. "
   ]
  },
  {
   "cell_type": "markdown",
   "metadata": {},
   "source": [
    "**Problem 1**\n",
    "\n",
    "Complete the code below to create a function \"scramble\" that reads in a string ```str``` and modifies the string as follows: Every letter should be replaced by the next letter in the alphabet. That is 'a' is replaced by 'b', 'b' is replaced by 'c', etc, 'z' is replaced by 'a'. Digits and special characters should remain unchanged. Capitalization should remain unchanged. \n",
    "\n",
    "Example: scramble(\"Hello World!\") should result in \"Ifmmp Xpsme!\""
   ]
  },
  {
   "cell_type": "code",
   "execution_count": 193,
   "metadata": {},
   "outputs": [
    {
     "data": {
      "text/plain": [
       "False"
      ]
     },
     "execution_count": 193,
     "metadata": {},
     "output_type": "execute_result"
    }
   ],
   "source": [
    "\"!\".isupper()"
   ]
  },
  {
   "cell_type": "code",
   "execution_count": 189,
   "metadata": {},
   "outputs": [
    {
     "ename": "NameError",
     "evalue": "name 'b' is not defined",
     "output_type": "error",
     "traceback": [
      "\u001b[1;31m---------------------------------------------------------------------------\u001b[0m",
      "\u001b[1;31mNameError\u001b[0m                                 Traceback (most recent call last)",
      "\u001b[1;32m<ipython-input-189-ad85d8b55702>\u001b[0m in \u001b[0;36m<module>\u001b[1;34m\u001b[0m\n\u001b[1;32m----> 1\u001b[1;33m \u001b[0mhash\u001b[0m\u001b[1;33m(\u001b[0m\u001b[0mb\u001b[0m\u001b[1;33m)\u001b[0m\u001b[1;33m\u001b[0m\u001b[1;33m\u001b[0m\u001b[0m\n\u001b[0m",
      "\u001b[1;31mNameError\u001b[0m: name 'b' is not defined"
     ]
    }
   ],
   "source": [
    "hash(b)"
   ]
  },
  {
   "cell_type": "code",
   "execution_count": 182,
   "metadata": {},
   "outputs": [
    {
     "data": {
      "text/plain": [
       "-6935712128227409290"
      ]
     },
     "execution_count": 182,
     "metadata": {},
     "output_type": "execute_result"
    }
   ],
   "source": [
    "'b'.__hash__()"
   ]
  },
  {
   "cell_type": "markdown",
   "metadata": {},
   "source": [
    "**Problem 2**\n",
    "\n",
    "A positive integer greater than 1 which has no other factors except 1 and the number itself is called a prime number. 2, 3, 5, 7 etc. are prime numbers as they do not have any other factors. But 6 is not prime (it is composite) since, 2 x 3 = 6. \n",
    "\n",
    "Write a function called \"prime\" that checks whether a given integer x is a prime number. If the number x is not prime return \"The number x is not prime since ___ * ___ = x\" where the x and the two blanks should be filled in with appropriaate integers. If x is prime, return \"The number x is prime\". "
   ]
  },
  {
   "cell_type": "code",
   "execution_count": 72,
   "metadata": {},
   "outputs": [],
   "source": [
    "def prime(x):\n",
    "    if x <= 1 or x%1 != 0:\n",
    "        return print('Please enter a positive integer greater than 1')\n",
    "    else:\n",
    "        i = 2\n",
    "        while i < x:\n",
    "            if x % i == 0:\n",
    "                return print('The number', x ,'is not prime since', i ,'*', int(x/i), '=', x)\n",
    "                break\n",
    "            else:\n",
    "                i += 1\n",
    "        return print('The number', x ,'is prime')"
   ]
  },
  {
   "cell_type": "code",
   "execution_count": 73,
   "metadata": {},
   "outputs": [
    {
     "name": "stdout",
     "output_type": "stream",
     "text": [
      "Please enter a positive integer greater than 1\n",
      "Please enter a positive integer greater than 1\n",
      "The number 2 is prime\n",
      "The number 5 is prime\n",
      "The number 6 is not prime since 2 * 3 = 6\n",
      "The number 16 is not prime since 2 * 8 = 16\n"
     ]
    }
   ],
   "source": [
    "prime(-1)\n",
    "prime(1.5)\n",
    "prime(2)\n",
    "prime(5)\n",
    "prime(6)\n",
    "prime(16)"
   ]
  },
  {
   "cell_type": "markdown",
   "metadata": {},
   "source": [
    "**Problem 3** \n",
    "\n",
    "Given a list of numbers, return True if the first and last number are the same. \n",
    "\n",
    "Examples: \n",
    "[8,4,2,5,6,3,8] -> True\n",
    "[8,4,2] -> False"
   ]
  },
  {
   "cell_type": "code",
   "execution_count": 9,
   "metadata": {},
   "outputs": [],
   "source": [
    "def problem3(List):\n",
    "    n = len(List)\n",
    "    if n == None or n == 0:\n",
    "        return False\n",
    "    elif n == 1:\n",
    "        return True\n",
    "    else:\n",
    "        if List[0] == List[n - 1]:\n",
    "            return True\n",
    "        else:\n",
    "            return False"
   ]
  },
  {
   "cell_type": "code",
   "execution_count": 69,
   "metadata": {},
   "outputs": [
    {
     "name": "stdout",
     "output_type": "stream",
     "text": [
      "False\n",
      "True\n",
      "True\n",
      "False\n"
     ]
    }
   ],
   "source": [
    "print(problem3([]))\n",
    "print(problem3([2]))\n",
    "print(problem3([8,4,2,5,6,3,8]))\n",
    "print(problem3([8,4,2]))"
   ]
  },
  {
   "cell_type": "markdown",
   "metadata": {},
   "source": [
    "**Problem 4**  \n",
    "\n",
    "Given a phrase as a string, count how often a specific substring occurs ignoring cases (upper- or lower case) and all non-character elements.\n",
    "\n",
    "Example: In the (non-sensical) string \"Blubber di**bo**, **B**um **bob**bity - boo\" the substring \"bob\" occurs twice. "
   ]
  },
  {
   "cell_type": "code",
   "execution_count": 96,
   "metadata": {},
   "outputs": [],
   "source": [
    "def problem4(string, substring):\n",
    "    string_list = list(string.lower())\n",
    "    new_string_list = [a for a in string_list if a.isalpha()]\n",
    "    new_string = \"\".join(new_string_list)\n",
    "    count = new_string.count(substring.lower())\n",
    "    return count"
   ]
  },
  {
   "cell_type": "code",
   "execution_count": 97,
   "metadata": {},
   "outputs": [
    {
     "data": {
      "text/plain": [
       "2"
      ]
     },
     "execution_count": 97,
     "metadata": {},
     "output_type": "execute_result"
    }
   ],
   "source": [
    "string = \"Blubber dibo, B*um *bobbity - boo\"\n",
    "substring = \"bob\"\n",
    "\n",
    "problem4(string, substring)"
   ]
  },
  {
   "cell_type": "markdown",
   "metadata": {},
   "source": [
    "**Problem 5** \n",
    "\n",
    "Given a string, count the occurrence of all characters in the string. Ignore spaces and upper or lower case. Assume that there are no non-alphabetic elements in the string. \n",
    "\n",
    "Example: The string \"Statistics\" has 3 S's, 3 T's, 1 A, 2 I's, and 1 C.\n",
    "\n",
    "**Bonus Problem** (harder, probably too hard to make a reasonable exam problem): Use Python string formatting to create a print statement that generates a result sentence such as the one in the example above. "
   ]
  },
  {
   "cell_type": "code",
   "execution_count": 119,
   "metadata": {},
   "outputs": [],
   "source": [
    "def problem5(string):\n",
    "    string_list = list(string.upper())\n",
    "    dic = {}\n",
    "    for a in string_list:\n",
    "        dic[a] = dic.get(a, 0) + 1\n",
    "    return dic\n",
    "    "
   ]
  },
  {
   "cell_type": "code",
   "execution_count": 120,
   "metadata": {},
   "outputs": [
    {
     "data": {
      "text/plain": [
       "{'S': 3, 'T': 3, 'A': 1, 'I': 2, 'C': 1}"
      ]
     },
     "execution_count": 120,
     "metadata": {},
     "output_type": "execute_result"
    }
   ],
   "source": [
    "problem5(\"Statistics\")"
   ]
  },
  {
   "cell_type": "code",
   "execution_count": 112,
   "metadata": {},
   "outputs": [],
   "source": [
    "def problem5_2(string):\n",
    "    string_list = list(string.upper())\n",
    "    dic = {}\n",
    "    for a in string_list:\n",
    "        dic[a] = dic.get(a, 0) + 1\n",
    "    key_list = list(dic.keys())\n",
    "    value_list = list(dic.values())\n",
    "    new_list = []\n",
    "    for i in range(len(key_list)):\n",
    "        a = str(value_list[i])  + \" \" + key_list[i]\n",
    "        new_list.append(a)\n",
    "        new_string = \", \".join(new_list)\n",
    "    print('The string \\\"', string, '\\\" has', new_string)\n",
    "    "
   ]
  },
  {
   "cell_type": "code",
   "execution_count": 113,
   "metadata": {},
   "outputs": [
    {
     "name": "stdout",
     "output_type": "stream",
     "text": [
      "The string \" Statistics \" has 3 S, 3 T, 1 A, 2 I, 1 C\n"
     ]
    }
   ],
   "source": [
    "problem5_2(\"Statistics\")"
   ]
  },
  {
   "cell_type": "markdown",
   "metadata": {},
   "source": [
    "**Problem 6** \n",
    "\n",
    "Write a function that takes as its input a list of arbitrary entries. Count how often each item occurs in the list and save results in a dictionary with items as keys and numbers of occurrences as values. Return the dictionary.\n",
    "\n",
    "Example: for the list [\"apple\", 2,3,4,2, \"banana\", \"apple\"] your dictionary should return {\"apple\":2, 2:2, 3:1, 4:1, \"banana\":1}"
   ]
  },
  {
   "cell_type": "code",
   "execution_count": 117,
   "metadata": {},
   "outputs": [],
   "source": [
    "def problem6(List):\n",
    "    \n",
    "    dic = {}\n",
    "    for a in List:\n",
    "        dic[a] = dic.get(a, 0) + 1\n",
    "    return dic"
   ]
  },
  {
   "cell_type": "code",
   "execution_count": 118,
   "metadata": {},
   "outputs": [
    {
     "name": "stdout",
     "output_type": "stream",
     "text": [
      "{'apple': 2, 2: 2, 3: 1, 4: 1, 'banana': 1}\n"
     ]
    }
   ],
   "source": [
    "List = [\"apple\", 2,3,4,2, \"banana\", \"apple\"]\n",
    "print(problem6(List))"
   ]
  },
  {
   "cell_type": "markdown",
   "metadata": {},
   "source": [
    "**Problem 7** \n",
    "\n",
    "Let X and Y be integers ($\\in [0,100]$). Let N be an integer $\\in [1,200]$. \n",
    "Given values for X,Y, and N, print out a list of all possible pairs [x,y] with $x \\le X$ and $y \\le Y$ such that $x+y \\le N$. \n",
    "\n",
    "Hint: Use list comprehension.  \n",
    "\n",
    "Example: If X=2 and Y=1 and N=3 then your result could be [[0,0],[0,1],[1,0],[1,1],[2,0],[2,1]]. I do not care about the order of the pairs [x,y] in the larger list. "
   ]
  },
  {
   "cell_type": "code",
   "execution_count": 123,
   "metadata": {},
   "outputs": [],
   "source": [
    "def problem7(X, Y, N):\n",
    "    List = []\n",
    "    for x in range(X+1):\n",
    "        for y in range(Y+1):\n",
    "            List.append([x,y])\n",
    "    new_list = [a for a in List if a[0] + a[1] <= N]\n",
    "    return new_list\n",
    "    "
   ]
  },
  {
   "cell_type": "code",
   "execution_count": 130,
   "metadata": {},
   "outputs": [
    {
     "name": "stdout",
     "output_type": "stream",
     "text": [
      "[[0, 0], [0, 1], [1, 0], [1, 1], [2, 0], [2, 1]]\n",
      "[[0, 0], [0, 1], [0, 2], [1, 0], [1, 1], [1, 2], [2, 0], [2, 1], [3, 0]]\n"
     ]
    }
   ],
   "source": [
    "print(problem7(2, 1, 3))\n",
    "print(problem7(3, 2, 3))"
   ]
  },
  {
   "cell_type": "markdown",
   "metadata": {},
   "source": [
    "**Problem 8** \n",
    "\n",
    "Write a procedure that takes a string of words separated by spaces (assume no punctuation or capitalization), together with a ”target” word, and shows the position of the target word in the string of words. For example, if the string is:\n",
    "\n",
    "```we dont need no education we dont need no thought control no we dont```\n",
    "\n",
    "and the target is the word ”dont” then your procedure should return the list 1, 6, 13 because ”dont” appears at the 1st, 6th, and 13th position in the string. (We start counting positions of words in the string from 0.) Your procedure should return False if the target word doesn’t appear in the string."
   ]
  },
  {
   "cell_type": "code",
   "execution_count": 131,
   "metadata": {},
   "outputs": [],
   "source": [
    "def problem8(string, target):\n",
    "    word_list = string.split()\n",
    "    result = []\n",
    "    for i in range(len(word_list)):\n",
    "        if word_list[i] == target:\n",
    "            result.append(i)\n",
    "    return result\n",
    "        "
   ]
  },
  {
   "cell_type": "code",
   "execution_count": 132,
   "metadata": {},
   "outputs": [
    {
     "data": {
      "text/plain": [
       "[1, 6, 13]"
      ]
     },
     "execution_count": 132,
     "metadata": {},
     "output_type": "execute_result"
    }
   ],
   "source": [
    "string = 'we dont need no education we dont need no thought control no we dont'\n",
    "target = 'dont'\n",
    "\n",
    "problem8(string,  target)"
   ]
  },
  {
   "cell_type": "markdown",
   "metadata": {},
   "source": [
    "**Problem 9** \n",
    "\n",
    "Write a function that solves quadratic equations using the quadratic formula: It should take as arguments three numbers a, b, and c. It should print different error messages if a is zero, or if the roots are complex. Otherwise it should print the two roots.\n",
    "\n",
    "Recall, that the solutions of the equation $ax^2 + bx + c=0$ are $x = \\frac{-b \\pm \\sqrt{b^2 - 4ac}}{2a}$. "
   ]
  },
  {
   "cell_type": "code",
   "execution_count": 139,
   "metadata": {},
   "outputs": [],
   "source": [
    "from math import *\n",
    "def problem9(a, b, c):\n",
    "    if a == 0:\n",
    "        print('It is not a quadratic formula.')\n",
    "    elif b**2 - 4*a*c < 0:\n",
    "        print('The roots are complex')\n",
    "    else:\n",
    "        x1 = (-b + sqrt(b**2 - 4*a*c))/(2*a)\n",
    "        x2 = (-b - sqrt(b**2 - 4*a*c))/(2*a)\n",
    "        print('The two roots are', x1,'and', x2)"
   ]
  },
  {
   "cell_type": "code",
   "execution_count": 141,
   "metadata": {},
   "outputs": [
    {
     "name": "stdout",
     "output_type": "stream",
     "text": [
      "The two roots are 2.0 and 2.0\n",
      "The two roots are 3.0 and 1.0\n"
     ]
    }
   ],
   "source": [
    "problem9(1, -4, 4)\n",
    "problem9(1, -4, 3)"
   ]
  },
  {
   "cell_type": "markdown",
   "metadata": {},
   "source": [
    "**Problem 10** \n",
    "\n",
    "Write a function that takes an integer ($0 \\le N \\le 100$) as its input and then prints as list the first N Fibonacci numbers $F_0, \\ldots, F_N$. \n",
    "\n",
    "Recall: Fibonacci numbers are recursively defined. The definition is \n",
    "$$F_0 = 0, \\quad F_1 = 1, \\quad F_n = F_{n-1}+F_{n-2}$$"
   ]
  },
  {
   "cell_type": "code",
   "execution_count": 149,
   "metadata": {},
   "outputs": [],
   "source": [
    "def problem10(N):\n",
    "    if N == 0:\n",
    "        return [0]\n",
    "        \n",
    "    a = 0\n",
    "    b = 1\n",
    "    List = [0]\n",
    "    for i in range(N):\n",
    "        temp = a + b\n",
    "        a = b\n",
    "        b = temp\n",
    "        List.append(a)\n",
    "    return List\n",
    "    "
   ]
  },
  {
   "cell_type": "code",
   "execution_count": 154,
   "metadata": {},
   "outputs": [
    {
     "data": {
      "text/plain": [
       "[0, 1, 1, 2, 3, 5, 8, 13]"
      ]
     },
     "execution_count": 154,
     "metadata": {},
     "output_type": "execute_result"
    }
   ],
   "source": [
    "problem10(7)"
   ]
  },
  {
   "cell_type": "markdown",
   "metadata": {},
   "source": [
    "**Problem 11** \n",
    "\n",
    "In the game \"mastermind\" (https://en.wikipedia.org/wiki/Mastermind_(board_game))\n",
    "one player tries to guess (or deduce) another player's secret code. The code is comprised by positioning four colored pegs into four possible slots. The allowed colors are (white, black, red, yellow, blue, green). Colors can be used in any combination and a color can be used more than once. Order matters. \n",
    "\n",
    "Example: A possible code is (red, white, red, blue).\n",
    "\n",
    "The other player has to guess the code by also placing four colored pegs (same colors). For each peg in the response that is the correct color in the correct position, the code-maker awards a black key in response. For each peg in the response that is the correct color but in the wrong position, the code-maker awards a white key in response. \n",
    "\n",
    "Example:\n",
    "\n",
    "Code maker has code (white, white, red, blue)\n",
    "Player 2 guesses    (white, blue, black, white)\n",
    "\n",
    "Then the response should be 1 black key (for the white peg in the correct position) and 2 white keys (for the blue and white that are not in the correct position, respectively). \n",
    "\n",
    "Write a function that takes as it's input two lists of colors (corresponding to the secret code and the guess from player 2) and that returns how many black and white keys should be awarded. "
   ]
  },
  {
   "cell_type": "code",
   "execution_count": 211,
   "metadata": {},
   "outputs": [],
   "source": [
    "def problem11(List1, List2):\n",
    "    black = 0\n",
    "    white = 0\n",
    "    dic = {}\n",
    "    for i in range(4):\n",
    "        if List2[i] == List1[i]:\n",
    "            black += 1\n",
    "            dic[i] = List1[i]\n",
    "    print(dic)\n",
    "    dic1 = {}\n",
    "    dic2 = {}\n",
    "    for i in range(4):\n",
    "        if i not in dic.keys():\n",
    "            dic1[List1[i]] = dic1.get(List1[i], 0) + 1\n",
    "            dic2[List2[i]] = dic2.get(List2[i], 0) + 1\n",
    "    print(dic1)\n",
    "    print(dic2)\n",
    "    for a in dic1.keys():\n",
    "        if a in dic2.keys():\n",
    "            white += min(dic1.get(a), dic2.get(a))\n",
    "    \n",
    "    return [black, white]\n",
    "            "
   ]
  },
  {
   "cell_type": "code",
   "execution_count": 212,
   "metadata": {},
   "outputs": [
    {
     "name": "stdout",
     "output_type": "stream",
     "text": [
      "{0: 'white'}\n",
      "{'white': 1, 'red': 1, 'blue': 1}\n",
      "{'blue': 1, 'black': 1, 'white': 1}\n"
     ]
    },
    {
     "data": {
      "text/plain": [
       "[1, 2]"
      ]
     },
     "execution_count": 212,
     "metadata": {},
     "output_type": "execute_result"
    }
   ],
   "source": [
    "List1 = ['white','white','red','blue']\n",
    "List2 = ['white','blue','black','white']\n",
    "problem11(List1, List2)"
   ]
  },
  {
   "cell_type": "code",
   "execution_count": 214,
   "metadata": {},
   "outputs": [
    {
     "name": "stdout",
     "output_type": "stream",
     "text": [
      "{}\n",
      "{'white': 2, 'red': 1, 'blue': 1}\n",
      "{'yellow': 2, 'blue': 1, 'white': 1}\n"
     ]
    },
    {
     "data": {
      "text/plain": [
       "[0, 2]"
      ]
     },
     "execution_count": 214,
     "metadata": {},
     "output_type": "execute_result"
    }
   ],
   "source": [
    "List1 = ['white','white','red','blue']\n",
    "List2 = ['yellow','blue','white','yellow']\n",
    "problem11(List1, List2)"
   ]
  },
  {
   "cell_type": "markdown",
   "metadata": {},
   "source": [
    "**Problem 12** \n",
    "\n",
    "In the game of \"lucky sevens\" players roll two fair six-sided dice. If the rolls add up to seven, the player wins \\\\$4, otherwise they lose \\\\$1. Write a program that simulates a player repeatedly playing this game. Your program should take as input the amount of money (integer number of dollars $N \\in [1,100]$) with which the player starts. It should output how many rolls it took for the player to lose all money (don't worry - the probability that that never happens is zero) and what the maximum fortune was the player achieved in between. "
   ]
  },
  {
   "cell_type": "code",
   "execution_count": 169,
   "metadata": {},
   "outputs": [],
   "source": [
    "import random as random \n",
    "\n",
    "def problem12(N):\n",
    "    \n",
    "    counter = 0\n",
    "    \n",
    "    while N > 0:\n",
    "        dice = random.choices(range(1,7),[1]*6, k = 2)\n",
    "        print(dice)\n",
    "        if dice[0] + dice[1] == 7:\n",
    "            N += 4\n",
    "        else:\n",
    "            N -= 1\n",
    "        print(N) \n",
    "        counter += 1\n",
    "    return counter"
   ]
  },
  {
   "cell_type": "code",
   "execution_count": 170,
   "metadata": {},
   "outputs": [
    {
     "name": "stdout",
     "output_type": "stream",
     "text": [
      "[4, 1]\n",
      "9\n",
      "[3, 5]\n",
      "8\n",
      "[1, 3]\n",
      "7\n",
      "[4, 1]\n",
      "6\n",
      "[1, 3]\n",
      "5\n",
      "[5, 6]\n",
      "4\n",
      "[1, 4]\n",
      "3\n",
      "[6, 1]\n",
      "7\n",
      "[6, 5]\n",
      "6\n",
      "[2, 3]\n",
      "5\n",
      "[4, 2]\n",
      "4\n",
      "[5, 2]\n",
      "8\n",
      "[1, 5]\n",
      "7\n",
      "[5, 2]\n",
      "11\n",
      "[1, 5]\n",
      "10\n",
      "[4, 5]\n",
      "9\n",
      "[4, 3]\n",
      "13\n",
      "[3, 2]\n",
      "12\n",
      "[2, 1]\n",
      "11\n",
      "[6, 6]\n",
      "10\n",
      "[4, 5]\n",
      "9\n",
      "[2, 6]\n",
      "8\n",
      "[4, 6]\n",
      "7\n",
      "[4, 1]\n",
      "6\n",
      "[2, 1]\n",
      "5\n",
      "[5, 1]\n",
      "4\n",
      "[3, 3]\n",
      "3\n",
      "[1, 5]\n",
      "2\n",
      "[5, 6]\n",
      "1\n",
      "[6, 6]\n",
      "0\n"
     ]
    },
    {
     "data": {
      "text/plain": [
       "30"
      ]
     },
     "execution_count": 170,
     "metadata": {},
     "output_type": "execute_result"
    }
   ],
   "source": [
    "problem12(10)"
   ]
  }
 ],
 "metadata": {
  "kernelspec": {
   "display_name": "Python 3",
   "language": "python",
   "name": "python3"
  },
  "language_info": {
   "codemirror_mode": {
    "name": "ipython",
    "version": 3
   },
   "file_extension": ".py",
   "mimetype": "text/x-python",
   "name": "python",
   "nbconvert_exporter": "python",
   "pygments_lexer": "ipython3",
   "version": "3.6.10"
  }
 },
 "nbformat": 4,
 "nbformat_minor": 2
}
