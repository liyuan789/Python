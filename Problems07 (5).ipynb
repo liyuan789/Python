{
  "nbformat": 4,
  "nbformat_minor": 0,
  "metadata": {
    "kernelspec": {
      "display_name": "Python 3",
      "language": "python",
      "name": "python3"
    },
    "language_info": {
      "codemirror_mode": {
        "name": "ipython",
        "version": 3
      },
      "file_extension": ".py",
      "mimetype": "text/x-python",
      "name": "python",
      "nbconvert_exporter": "python",
      "pygments_lexer": "ipython3",
      "version": "3.7.4"
    },
    "colab": {
      "name": "Problems07.ipynb",
      "provenance": []
    }
  },
  "cells": [
    {
      "cell_type": "markdown",
      "metadata": {
        "id": "4UEAi3PDCEX9",
        "colab_type": "text"
      },
      "source": [
        "Import the gapminder data set from the Plotly package with the following lines of code. Or, alternatively, download the data from Canvas and import into Python."
      ]
    },
    {
      "cell_type": "code",
      "metadata": {
        "id": "NosypcL5CEX-",
        "colab_type": "code",
        "outputId": "d01161e2-c4aa-41ed-fec2-df0f7f8a0044",
        "colab": {
          "base_uri": "https://localhost:8080/",
          "height": 419
        }
      },
      "source": [
        "import plotly.express as px\n",
        "\n",
        "df = px.data.gapminder().query(\"year==2007\")\n",
        "df"
      ],
      "execution_count": 0,
      "outputs": [
        {
          "output_type": "execute_result",
          "data": {
            "text/html": [
              "<div>\n",
              "<style scoped>\n",
              "    .dataframe tbody tr th:only-of-type {\n",
              "        vertical-align: middle;\n",
              "    }\n",
              "\n",
              "    .dataframe tbody tr th {\n",
              "        vertical-align: top;\n",
              "    }\n",
              "\n",
              "    .dataframe thead th {\n",
              "        text-align: right;\n",
              "    }\n",
              "</style>\n",
              "<table border=\"1\" class=\"dataframe\">\n",
              "  <thead>\n",
              "    <tr style=\"text-align: right;\">\n",
              "      <th></th>\n",
              "      <th>country</th>\n",
              "      <th>continent</th>\n",
              "      <th>year</th>\n",
              "      <th>lifeExp</th>\n",
              "      <th>pop</th>\n",
              "      <th>gdpPercap</th>\n",
              "      <th>iso_alpha</th>\n",
              "      <th>iso_num</th>\n",
              "    </tr>\n",
              "  </thead>\n",
              "  <tbody>\n",
              "    <tr>\n",
              "      <th>11</th>\n",
              "      <td>Afghanistan</td>\n",
              "      <td>Asia</td>\n",
              "      <td>2007</td>\n",
              "      <td>43.828</td>\n",
              "      <td>31889923</td>\n",
              "      <td>974.580338</td>\n",
              "      <td>AFG</td>\n",
              "      <td>4</td>\n",
              "    </tr>\n",
              "    <tr>\n",
              "      <th>23</th>\n",
              "      <td>Albania</td>\n",
              "      <td>Europe</td>\n",
              "      <td>2007</td>\n",
              "      <td>76.423</td>\n",
              "      <td>3600523</td>\n",
              "      <td>5937.029526</td>\n",
              "      <td>ALB</td>\n",
              "      <td>8</td>\n",
              "    </tr>\n",
              "    <tr>\n",
              "      <th>35</th>\n",
              "      <td>Algeria</td>\n",
              "      <td>Africa</td>\n",
              "      <td>2007</td>\n",
              "      <td>72.301</td>\n",
              "      <td>33333216</td>\n",
              "      <td>6223.367465</td>\n",
              "      <td>DZA</td>\n",
              "      <td>12</td>\n",
              "    </tr>\n",
              "    <tr>\n",
              "      <th>47</th>\n",
              "      <td>Angola</td>\n",
              "      <td>Africa</td>\n",
              "      <td>2007</td>\n",
              "      <td>42.731</td>\n",
              "      <td>12420476</td>\n",
              "      <td>4797.231267</td>\n",
              "      <td>AGO</td>\n",
              "      <td>24</td>\n",
              "    </tr>\n",
              "    <tr>\n",
              "      <th>59</th>\n",
              "      <td>Argentina</td>\n",
              "      <td>Americas</td>\n",
              "      <td>2007</td>\n",
              "      <td>75.320</td>\n",
              "      <td>40301927</td>\n",
              "      <td>12779.379640</td>\n",
              "      <td>ARG</td>\n",
              "      <td>32</td>\n",
              "    </tr>\n",
              "    <tr>\n",
              "      <th>...</th>\n",
              "      <td>...</td>\n",
              "      <td>...</td>\n",
              "      <td>...</td>\n",
              "      <td>...</td>\n",
              "      <td>...</td>\n",
              "      <td>...</td>\n",
              "      <td>...</td>\n",
              "      <td>...</td>\n",
              "    </tr>\n",
              "    <tr>\n",
              "      <th>1655</th>\n",
              "      <td>Vietnam</td>\n",
              "      <td>Asia</td>\n",
              "      <td>2007</td>\n",
              "      <td>74.249</td>\n",
              "      <td>85262356</td>\n",
              "      <td>2441.576404</td>\n",
              "      <td>VNM</td>\n",
              "      <td>704</td>\n",
              "    </tr>\n",
              "    <tr>\n",
              "      <th>1667</th>\n",
              "      <td>West Bank and Gaza</td>\n",
              "      <td>Asia</td>\n",
              "      <td>2007</td>\n",
              "      <td>73.422</td>\n",
              "      <td>4018332</td>\n",
              "      <td>3025.349798</td>\n",
              "      <td>PSE</td>\n",
              "      <td>275</td>\n",
              "    </tr>\n",
              "    <tr>\n",
              "      <th>1679</th>\n",
              "      <td>Yemen, Rep.</td>\n",
              "      <td>Asia</td>\n",
              "      <td>2007</td>\n",
              "      <td>62.698</td>\n",
              "      <td>22211743</td>\n",
              "      <td>2280.769906</td>\n",
              "      <td>YEM</td>\n",
              "      <td>887</td>\n",
              "    </tr>\n",
              "    <tr>\n",
              "      <th>1691</th>\n",
              "      <td>Zambia</td>\n",
              "      <td>Africa</td>\n",
              "      <td>2007</td>\n",
              "      <td>42.384</td>\n",
              "      <td>11746035</td>\n",
              "      <td>1271.211593</td>\n",
              "      <td>ZMB</td>\n",
              "      <td>894</td>\n",
              "    </tr>\n",
              "    <tr>\n",
              "      <th>1703</th>\n",
              "      <td>Zimbabwe</td>\n",
              "      <td>Africa</td>\n",
              "      <td>2007</td>\n",
              "      <td>43.487</td>\n",
              "      <td>12311143</td>\n",
              "      <td>469.709298</td>\n",
              "      <td>ZWE</td>\n",
              "      <td>716</td>\n",
              "    </tr>\n",
              "  </tbody>\n",
              "</table>\n",
              "<p>142 rows × 8 columns</p>\n",
              "</div>"
            ],
            "text/plain": [
              "                 country continent  year  ...     gdpPercap  iso_alpha  iso_num\n",
              "11           Afghanistan      Asia  2007  ...    974.580338        AFG        4\n",
              "23               Albania    Europe  2007  ...   5937.029526        ALB        8\n",
              "35               Algeria    Africa  2007  ...   6223.367465        DZA       12\n",
              "47                Angola    Africa  2007  ...   4797.231267        AGO       24\n",
              "59             Argentina  Americas  2007  ...  12779.379640        ARG       32\n",
              "...                  ...       ...   ...  ...           ...        ...      ...\n",
              "1655             Vietnam      Asia  2007  ...   2441.576404        VNM      704\n",
              "1667  West Bank and Gaza      Asia  2007  ...   3025.349798        PSE      275\n",
              "1679         Yemen, Rep.      Asia  2007  ...   2280.769906        YEM      887\n",
              "1691              Zambia    Africa  2007  ...   1271.211593        ZMB      894\n",
              "1703            Zimbabwe    Africa  2007  ...    469.709298        ZWE      716\n",
              "\n",
              "[142 rows x 8 columns]"
            ]
          },
          "metadata": {
            "tags": []
          },
          "execution_count": 1
        }
      ]
    },
    {
      "cell_type": "markdown",
      "metadata": {
        "id": "9cNPyFh_CEYC",
        "colab_type": "text"
      },
      "source": [
        "Use Pandas to subset the data as necessary and use Matplotlib to create a panel-plot that shows histograms of life expectancy separated by continent in five different panels (side-by-side). \n",
        "\n",
        "* title each histogram my its respective continent\n",
        "* give each histogram the same scale on both x and y-axis\n",
        "* use a different color for each histogram\n",
        "* use a different bin size only for Oceania (look at the actual Oceania data first to understand what's going on). "
      ]
    },
    {
      "cell_type": "code",
      "metadata": {
        "id": "bKo9o-CrCEYE",
        "colab_type": "code",
        "outputId": "8eb4bc45-dc2c-4d25-c427-64dc6d66314c",
        "colab": {
          "base_uri": "https://localhost:8080/",
          "height": 311
        }
      },
      "source": [
        "import matplotlib.pyplot as plt\n",
        "import numpy as np\n",
        "import pandas as pd\n",
        "\n",
        "fig, ax = plt.subplots(1,5,figsize=(25,5))       # create five different panels side by side \n",
        "continent = list(set(df.continent))              # get the list of all possible continents\n",
        "colors = ['orange','purple','red','blue','green']\n",
        "\n",
        "for i in range(len(continent)):\n",
        "  ax.flat[i].hist(df[df.continent == continent[i]].lifeExp, color = colors[i], bins = 10)\n",
        "  ax.flat[i].set_title(continent[i])\n",
        "  ax.flat[i].set_xlim(35,85)\n",
        "  ax.flat[i].set_ylim(0,10.5);\n",
        "\n",
        "ax.flat[1].hist(df[df.continent == continent[1]].lifeExp, color = colors[1], bins = [80,82]);"
      ],
      "execution_count": 103,
      "outputs": [
        {
          "output_type": "display_data",
          "data": {
            "image/png": "[encoded data removed]",
            "text/plain": [
              "<Figure size 1800x360 with 5 Axes>"
            ]
          },
          "metadata": {
            "tags": []
          }
        }
      ]
    },
    {
      "cell_type": "code",
      "metadata": {
        "id": "-yzzQr3jtwAL",
        "colab_type": "code",
        "colab": {}
      },
      "source": [
        ""
      ],
      "execution_count": 0,
      "outputs": []
    },
    {
      "cell_type": "code",
      "metadata": {
        "id": "BLqoJc7xCEYH",
        "colab_type": "code",
        "colab": {}
      },
      "source": [
        ""
      ],
      "execution_count": 0,
      "outputs": []
    },
    {
      "cell_type": "code",
      "metadata": {
        "id": "Md1Sp7gxCEYK",
        "colab_type": "code",
        "outputId": "aa2296de-4874-4820-f060-b3e8405f6bb3",
        "colab": {
          "base_uri": "https://localhost:8080/",
          "height": 369
        }
      },
      "source": [
        "plt.rcParams['figure.figsize'] = [15, 5]              # sets the size of figures in this notebook\n",
        "continent = list(set(df.continent))                   # get the list of all possible continents\n",
        "colors = ['orange','purple','red','blue','green']\n",
        "\n",
        "for i in range(len(continent)):\n",
        "    \n",
        "    # Set up the plot\n",
        "    ax = plt.subplot(1, 5, i + 1)                     # ith position in the subplot\n",
        "\n",
        "    # Draw a panel-plot\n",
        "    subgroup = df[df.continent == continent[i]]       # each subgroup represent one continent\n",
        "    ax.hist(subgroup.lifeExp, bins = 10, color = colors[i])\n",
        "    \n",
        "    # Title and labels\n",
        "    ax.set_title(continent[i])                        # add title and x,y labels into graph\n",
        "    ax.set_xlim(35,85)\n",
        "    ax.set_ylim(0,11)\n",
        "\n",
        "plt.tight_layout()\n",
        "plt.show();"
      ],
      "execution_count": 110,
      "outputs": [
        {
          "output_type": "display_data",
          "data": {
            "image/png": "[encoded data removed]",
            "text/plain": [
              "<Figure size 1080x360 with 5 Axes>"
            ]
          },
          "metadata": {
            "tags": []
          }
        }
      ]
    }
  ]
}