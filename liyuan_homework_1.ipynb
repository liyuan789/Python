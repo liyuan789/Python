{
 "cells": [
  {
   "cell_type": "markdown",
   "metadata": {},
   "source": [
    "# Homework 1\n",
    "\n",
    "## Liyuan Sun"
   ]
  },
  {
   "cell_type": "markdown",
   "metadata": {},
   "source": [
    "We are practicing to work with Jupyter notebooks (formerly known as ipython notebooks). You can write text into these notebooks - you're looking at a block of text right now - or you can add executable code. If your code produces output, then the output can be seen in your document as well. "
   ]
  },
  {
   "cell_type": "markdown",
   "metadata": {},
   "source": [
    "### Problem 1"
   ]
  },
  {
   "cell_type": "markdown",
   "metadata": {},
   "source": [
    "Double click on the line that says \"put your name here\". That will change the color of the text (it's now blue) and open a window in which you can manipulate the text. Replace the \"put your name here\" prompt with your actual name (like this: Martina Bremer). \n",
    "\n",
    "If you would like to display the text again in its original formatting, click \"Run\" while your cursor is in the text cell. "
   ]
  },
  {
   "cell_type": "markdown",
   "metadata": {},
   "source": [
    "### Problem 2"
   ]
  },
  {
   "cell_type": "markdown",
   "metadata": {},
   "source": [
    "Write some code. Insert a block of code after this block of text. To do that, click on this block of text and then  click on \"Insert\" -> \"Cell Below\" and make it into a \"Code\" cell. Type the following text into your code cell\n",
    "\n",
    "print(\"Hello World\")\n",
    "\n",
    "Then click on \"Run\". "
   ]
  },
  {
   "cell_type": "code",
   "execution_count": 1,
   "metadata": {},
   "outputs": [
    {
     "name": "stdout",
     "output_type": "stream",
     "text": [
      "Hello World\n"
     ]
    }
   ],
   "source": [
    "print(\"Hello World\")"
   ]
  },
  {
   "cell_type": "markdown",
   "metadata": {},
   "source": [
    "### Problem 3"
   ]
  },
  {
   "cell_type": "markdown",
   "metadata": {},
   "source": [
    "Save this notebook. Please use the following naming strategy for all course-related submissions: \n",
    "\n",
    "\"YourLastName_YourFirstName_AssignmentName.ipynb\"\n",
    "\n",
    "To change the name of your notebook, click on the field on top that currently says \"Homework_1\". Change it to your desired filename (e.g., Bremer_Martina_Homework_1.ipynb). Click the \"save\" symbol (left-most icon). You should now see a file with the new name in the folder where you had downloaded the original assignment from Canvas. "
   ]
  },
  {
   "cell_type": "markdown",
   "metadata": {},
   "source": [
    "### Problem 4"
   ]
  },
  {
   "cell_type": "markdown",
   "metadata": {},
   "source": [
    "Submit your file on Canvas. Log on to Canvas, click on the assignment link (you should see it on the right side of the page, click on the blue \"Submit Assignment\" button and navigate to your (renamed!!!) file. "
   ]
  }
 ],
 "metadata": {
  "kernelspec": {
   "display_name": "Python 3",
   "language": "python",
   "name": "python3"
  },
  "language_info": {
   "codemirror_mode": {
    "name": "ipython",
    "version": 3
   },
   "file_extension": ".py",
   "mimetype": "text/x-python",
   "name": "python",
   "nbconvert_exporter": "python",
   "pygments_lexer": "ipython3",
   "version": "3.7.4"
  }
 },
 "nbformat": 4,
 "nbformat_minor": 2
}
