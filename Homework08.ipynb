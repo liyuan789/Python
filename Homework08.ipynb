{
 "cells": [
  {
   "cell_type": "markdown",
   "metadata": {},
   "source": [
    "Before you turn this homework set in, make sure everything runs as expected. When you are done modifying this file,  **restart the kernel** (in the menubar, select Kernel$\\rightarrow$Restart) and then **run all cells** (in the menubar, select Cell$\\rightarrow$Run All).\n",
    "\n",
    "Make sure you fill in any place that says `YOUR CODE HERE` or \"YOUR ANSWER HERE\", as well as your name below. In the code cells, make sure to replace the **raise NotImplementedError()** statement with your actual code."
   ]
  },
  {
   "cell_type": "code",
   "execution_count": null,
   "metadata": {},
   "outputs": [],
   "source": [
    "NAME = \"\""
   ]
  },
  {
   "cell_type": "markdown",
   "metadata": {},
   "source": [
    "---"
   ]
  },
  {
   "cell_type": "markdown",
   "metadata": {
    "deletable": false,
    "editable": false,
    "nbgrader": {
     "cell_type": "markdown",
     "checksum": "89a684891d108a2b142b60096d8ee3f4",
     "grade": false,
     "grade_id": "cell-13b6f13920352efb",
     "locked": true,
     "schema_version": 3,
     "solution": false,
     "task": false
    }
   },
   "source": [
    "## Problem 1\n",
    "\n",
    "For each of the code blocks shown below, describe succinctly in English (in one sentence or at most two) what each function does. A literal translation of the given code (line-by-line from Python to \"English\") won't we awarded any credit. There may be parts of the code that actually don't do anything. You do not need to explain those parts. "
   ]
  },
  {
   "cell_type": "code",
   "execution_count": null,
   "metadata": {
    "deletable": false,
    "editable": false,
    "nbgrader": {
     "cell_type": "code",
     "checksum": "e64b6330b7c2ffca321bd09e58a88b72",
     "grade": false,
     "grade_id": "cell-fb904c79cf63ca20",
     "locked": true,
     "schema_version": 3,
     "solution": false,
     "task": false
    }
   },
   "outputs": [],
   "source": [
    "import numpy as np\n",
    "\n",
    "def mystery_1(array):\n",
    "    \"\"\"the input should be a NumPy array\"\"\"  \n",
    "    statement = False\n",
    "    foo = np.isnan(array)\n",
    "    twix = []\n",
    "    for bar in foo:\n",
    "        twix.append(sum(bar))\n",
    "    if sum(twix) == 0:\n",
    "        statement = print(\"there are none\")\n",
    "    else: \n",
    "        statement = twix\n",
    "    return statement"
   ]
  },
  {
   "cell_type": "markdown",
   "metadata": {
    "deletable": false,
    "nbgrader": {
     "cell_type": "markdown",
     "checksum": "f8b7b0df7c1fabd3168720928a2623f1",
     "grade": true,
     "grade_id": "cell-cd1bdcba040e1b77",
     "locked": false,
     "points": 4,
     "schema_version": 3,
     "solution": true,
     "task": false
    }
   },
   "source": [
    "YOUR ANSWER HERE"
   ]
  },
  {
   "cell_type": "code",
   "execution_count": null,
   "metadata": {
    "deletable": false,
    "editable": false,
    "nbgrader": {
     "cell_type": "code",
     "checksum": "ac29a8fd89d99ef4c0913cbdfc732978",
     "grade": false,
     "grade_id": "cell-3f8b3234c65ff8bb",
     "locked": true,
     "schema_version": 3,
     "solution": false,
     "task": false
    }
   },
   "outputs": [],
   "source": [
    "import numpy as np\n",
    "\n",
    "def mystery_2(array):\n",
    "    \"\"\"the input should be a NumPy array\"\"\"  \n",
    "    j = array.shape[0]\n",
    "    g = array.shape[1]\n",
    "    foo = np.nansum(array, axis=1)/(np.sum(~np.isnan(array), axis = 1))\n",
    "    for g in range(j):\n",
    "        bar = np.isnan(array[g,:])\n",
    "        array[g,bar] = foo[g]\n",
    "    return array"
   ]
  },
  {
   "cell_type": "markdown",
   "metadata": {
    "deletable": false,
    "nbgrader": {
     "cell_type": "markdown",
     "checksum": "1db0f5151921fa096202fb3bd363432f",
     "grade": true,
     "grade_id": "cell-997aebda1028ecac",
     "locked": false,
     "points": 4,
     "schema_version": 3,
     "solution": true,
     "task": false
    }
   },
   "source": [
    "YOUR ANSWER HERE"
   ]
  },
  {
   "cell_type": "markdown",
   "metadata": {
    "deletable": false,
    "editable": false,
    "nbgrader": {
     "cell_type": "markdown",
     "checksum": "488c027ca15efeb3fb736ccade0a0f4a",
     "grade": false,
     "grade_id": "cell-0e094dbc11ce5a00",
     "locked": true,
     "schema_version": 3,
     "solution": false,
     "task": false
    }
   },
   "source": [
    "## Problem 2\n",
    "\n",
    "We will continue to practice investigating a data set through visualizations. You can download \"Avocado.csv\" from Canvas. This data set contains information on weekly Hass Avocado sales in the US in 2019-2020. The data comes from the [Hass Avocado Board](https://hassavocadoboard.com/) website. The variables in the file are \n",
    "\n",
    "* ```Geography``` - The area (state or city) of the observation\n",
    "* ```Timeframe``` - all weeekly \n",
    "* ```Current Year Week Ending``` - the week the observations were collected from\n",
    "* ```Type``` - conventional or organic\n",
    "* ```ASP Current``` - the current average sales price of a single avocado\n",
    "* ```Total Bulk and Bags Units``` - Total sales volume\n",
    "* ```4046 Units``` - Total number of avocados with PLU 4046 sold (small CA Avocado)\n",
    "* ```4225 Units``` - Total number of avocados with PLU 4225 sold (medium CA Avocado)\n",
    "* ```4770 Units``` - Total number of avocados with PLU 4770 sold (Hass Avocado)\n",
    "* ```Total Bagged Units``` - Total number of avocados sold in bags\n",
    "* ```SmlBagged Units```, ```LrgBagged Units```, ```X-LrgBagged Units``` is number of bags sold in different sizes\n",
    "\n",
    "\n",
    "Your job: Take these data and create four meaningful graphs. It's ok to subset the data and consider only a subset for each problem part if you want. Each graph should be sufficiently well labeled so that a reader can understand what your graph shows without reading any additional explanations. In addition to each graph, write a short paragraph (a few sentences per graph) that explain what your graph shows and that interpret for the viewer what can be seen in your graph. For example, if you are drawing a graph to compare two populations, you should state whether there are any differences between the populations and if so, describe what these differences are.\n",
    "\n",
    "(a) Investigate the distribution of a *single* variable in the data set. "
   ]
  },
  {
   "cell_type": "code",
   "execution_count": null,
   "metadata": {
    "deletable": false,
    "nbgrader": {
     "cell_type": "code",
     "checksum": "cedd4f888ac7ad13f39b8252a34faac2",
     "grade": true,
     "grade_id": "cell-e5e3fff65c47116d",
     "locked": false,
     "points": 2,
     "schema_version": 3,
     "solution": true,
     "task": false
    }
   },
   "outputs": [],
   "source": [
    "# YOUR CODE HERE\n",
    "raise NotImplementedError()"
   ]
  },
  {
   "cell_type": "markdown",
   "metadata": {
    "deletable": false,
    "nbgrader": {
     "cell_type": "markdown",
     "checksum": "9e8a8ac4ffaabc8bb4ffeef918f3643d",
     "grade": true,
     "grade_id": "cell-765abc91c666d729",
     "locked": false,
     "points": 1,
     "schema_version": 3,
     "solution": true,
     "task": false
    }
   },
   "source": [
    "YOUR ANSWER HERE"
   ]
  },
  {
   "cell_type": "markdown",
   "metadata": {
    "deletable": false,
    "editable": false,
    "nbgrader": {
     "cell_type": "markdown",
     "checksum": "3fd9741caf64ecbd4b77040cc7035c26",
     "grade": false,
     "grade_id": "cell-12ecde96b5e0f255",
     "locked": true,
     "schema_version": 3,
     "solution": false,
     "task": false
    }
   },
   "source": [
    "(b) Investigate the relationship between *exactly two* variables in the data set. "
   ]
  },
  {
   "cell_type": "code",
   "execution_count": null,
   "metadata": {
    "deletable": false,
    "nbgrader": {
     "cell_type": "code",
     "checksum": "ee661e7c17900e6be2acfa1a15a6701a",
     "grade": true,
     "grade_id": "cell-64a91ac4fc8a8a38",
     "locked": false,
     "points": 2,
     "schema_version": 3,
     "solution": true,
     "task": false
    }
   },
   "outputs": [],
   "source": [
    "# YOUR CODE HERE\n",
    "raise NotImplementedError()"
   ]
  },
  {
   "cell_type": "markdown",
   "metadata": {
    "deletable": false,
    "nbgrader": {
     "cell_type": "markdown",
     "checksum": "9bff1f60d5512f1e8cce435745350467",
     "grade": true,
     "grade_id": "cell-097affee3ec33762",
     "locked": false,
     "points": 1,
     "schema_version": 3,
     "solution": true,
     "task": false
    }
   },
   "source": [
    "YOUR ANSWER HERE"
   ]
  },
  {
   "cell_type": "markdown",
   "metadata": {
    "deletable": false,
    "editable": false,
    "nbgrader": {
     "cell_type": "markdown",
     "checksum": "a815dd250bb49ad26c9cc04941a01f7a",
     "grade": false,
     "grade_id": "cell-5ae54c9638a665db",
     "locked": true,
     "schema_version": 3,
     "solution": false,
     "task": false
    }
   },
   "source": [
    "(c) Investigate the relationship between *exactly three* variables in the data set in a single graph. "
   ]
  },
  {
   "cell_type": "code",
   "execution_count": null,
   "metadata": {
    "deletable": false,
    "nbgrader": {
     "cell_type": "code",
     "checksum": "ddfa6429c08783e06bce28c0756f8f76",
     "grade": true,
     "grade_id": "cell-f0701bf1afaeff68",
     "locked": false,
     "points": 2,
     "schema_version": 3,
     "solution": true,
     "task": false
    }
   },
   "outputs": [],
   "source": [
    "# YOUR CODE HERE\n",
    "raise NotImplementedError()"
   ]
  },
  {
   "cell_type": "markdown",
   "metadata": {
    "deletable": false,
    "nbgrader": {
     "cell_type": "markdown",
     "checksum": "b064e799b45009c370a4cc9afba5ac7e",
     "grade": true,
     "grade_id": "cell-7d1711a4c651d09b",
     "locked": false,
     "points": 1,
     "schema_version": 3,
     "solution": true,
     "task": false
    }
   },
   "source": [
    "YOUR ANSWER HERE"
   ]
  },
  {
   "cell_type": "markdown",
   "metadata": {
    "deletable": false,
    "editable": false,
    "nbgrader": {
     "cell_type": "markdown",
     "checksum": "bb3215e49ab34a6de0b5c0f0d10ef898",
     "grade": false,
     "grade_id": "cell-b87bd7a65efa26c4",
     "locked": true,
     "schema_version": 3,
     "solution": false,
     "task": false
    }
   },
   "source": [
    "(d) Investigate the relationship between *exactly four* variables in the data set using a panel plot."
   ]
  },
  {
   "cell_type": "code",
   "execution_count": null,
   "metadata": {
    "deletable": false,
    "nbgrader": {
     "cell_type": "code",
     "checksum": "6bb512b827e506423427661cb00e75a8",
     "grade": true,
     "grade_id": "cell-d35fc6004e438b19",
     "locked": false,
     "points": 2,
     "schema_version": 3,
     "solution": true,
     "task": false
    }
   },
   "outputs": [],
   "source": [
    "# YOUR CODE HERE\n",
    "raise NotImplementedError()"
   ]
  },
  {
   "cell_type": "markdown",
   "metadata": {
    "deletable": false,
    "nbgrader": {
     "cell_type": "markdown",
     "checksum": "11c17c13213d02343a73eef11c2bb22d",
     "grade": true,
     "grade_id": "cell-e7f732fafc4a4ae7",
     "locked": false,
     "points": 1,
     "schema_version": 3,
     "solution": true,
     "task": false
    }
   },
   "source": [
    "YOUR ANSWER HERE"
   ]
  },
  {
   "cell_type": "markdown",
   "metadata": {
    "deletable": false,
    "editable": false,
    "nbgrader": {
     "cell_type": "markdown",
     "checksum": "f76c56d705861d46a4d51588e970f941",
     "grade": false,
     "grade_id": "cell-f27b7b808f5f843f",
     "locked": true,
     "schema_version": 3,
     "solution": false,
     "task": false
    }
   },
   "source": [
    "**Note:** There are many possible solutions for this problem. You don't have to show the same graph you'll see in the solution to obtain full credit. Here are the criteria that we will be grading on:\n",
    "\n",
    "* did you pick non-trivial variable(s) to display (e.g., the distributions of \"year\" or \"date\" by themselves are not interesting).\n",
    "* does your graph show exactly one, two or three variables as requested? \n",
    "* is your graph labeled sufficiently well so that it's easy to understand what one is looking at? \n",
    "* does the type of your graph make sense for the variable(s) you chose to display? (e.g., a bar graph of \"Year\" as a function of \"Region\" would not make any sense). \n",
    "* does your explanation make sense and fit the graph you created?"
   ]
  }
 ],
 "metadata": {
  "kernelspec": {
   "display_name": "Python 3",
   "language": "python",
   "name": "python3"
  },
  "language_info": {
   "codemirror_mode": {
    "name": "ipython",
    "version": 3
   },
   "file_extension": ".py",
   "mimetype": "text/x-python",
   "name": "python",
   "nbconvert_exporter": "python",
   "pygments_lexer": "ipython3",
   "version": "3.7.4"
  }
 },
 "nbformat": 4,
 "nbformat_minor": 2
}
