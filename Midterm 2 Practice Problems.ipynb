{
 "cells": [
  {
   "cell_type": "markdown",
   "metadata": {},
   "source": [
    "## Problem 1\n",
    "\n",
    "Write a Python program called \"k_smallest\" to find the kth smallest value (and it's position(s) as a array of coordinates) in a given NumPy array (of any dimension).\n",
    "\n",
    "Example: \n",
    "\n",
    "X = np.array([[[3,0,3,4],[6,6,1,8],[5,3,5,0]],[[3,0,3,8],[7,3,2,7],[8,6,2,5]]])\n",
    "  \n",
    "k_smallest(X,3) = (2, array([[1, 1, 2],[1, 2, 2]]))"
   ]
  },
  {
   "cell_type": "code",
   "execution_count": 1,
   "metadata": {},
   "outputs": [
    {
     "ename": "SyntaxError",
     "evalue": "unexpected EOF while parsing (<ipython-input-1-fddfdf843854>, line 10)",
     "output_type": "error",
     "traceback": [
      "\u001b[0;36m  File \u001b[0;32m\"<ipython-input-1-fddfdf843854>\"\u001b[0;36m, line \u001b[0;32m10\u001b[0m\n\u001b[0;31m    #k_smallest(X,3)\u001b[0m\n\u001b[0m                    ^\u001b[0m\n\u001b[0;31mSyntaxError\u001b[0m\u001b[0;31m:\u001b[0m unexpected EOF while parsing\n"
     ]
    }
   ],
   "source": [
    "import numpy as np\n",
    "\n",
    "def k_smallest(array, k):\n",
    "    \n",
    "    # your code goes here\n",
    "    \n",
    "# Example: check your answer\n",
    "#X = np.array([[[3,0,3,4],[6,6,1,8],[5,3,5,0]],[[3,0,3,8],[7,3,2,7],[8,6,2,5]]])\n",
    "#k_smallest(X,3)"
   ]
  },
  {
   "cell_type": "markdown",
   "metadata": {},
   "source": [
    "## Problem 2\n",
    "\n",
    "Write a Python function that takes as its input a two-dimensional NumPy array and returns the subset array that consist of all the even rows (second, fourth, sixth row etc.) and all the odd columns (first, third, fifth etc.). If this subset is empty, return the empty array. "
   ]
  },
  {
   "cell_type": "code",
   "execution_count": 2,
   "metadata": {},
   "outputs": [],
   "source": [
    "# your code goes here"
   ]
  },
  {
   "cell_type": "markdown",
   "metadata": {},
   "source": [
    "## Problem 3\n",
    "\n",
    "The following \"mystery\" function takes as its input a two-dimensional numerical NumPy array. \n",
    "Describe what the function does in one (or at most two succinct) English sentence(s). \n",
    "\n",
    "Provide an example input X (X should be a two-dimensional NumPy array) for which the function returns the value 4. Your input array should not have constant entries. "
   ]
  },
  {
   "cell_type": "code",
   "execution_count": 3,
   "metadata": {},
   "outputs": [],
   "source": [
    "import numpy as np\n",
    "\n",
    "def mystery(array):\n",
    "    return array.min(axis=1).max()"
   ]
  },
  {
   "cell_type": "markdown",
   "metadata": {},
   "source": [
    "## Problem 4\n",
    "\n",
    "Write a Python function that takes as its input a two-dimensional Numpy array and returns an array of the same shape in which each row is standardized (has mean 0 and variance 1). "
   ]
  },
  {
   "cell_type": "code",
   "execution_count": 4,
   "metadata": {},
   "outputs": [
    {
     "ename": "SyntaxError",
     "evalue": "unexpected EOF while parsing (<ipython-input-4-b33b71f6e9d7>, line 4)",
     "output_type": "error",
     "traceback": [
      "\u001b[0;36m  File \u001b[0;32m\"<ipython-input-4-b33b71f6e9d7>\"\u001b[0;36m, line \u001b[0;32m4\u001b[0m\n\u001b[0;31m    # your code goes here\u001b[0m\n\u001b[0m                         ^\u001b[0m\n\u001b[0;31mSyntaxError\u001b[0m\u001b[0;31m:\u001b[0m unexpected EOF while parsing\n"
     ]
    }
   ],
   "source": [
    "import numpy as np\n",
    "\n",
    "def standardize_array(array):\n",
    "    # your code goes here"
   ]
  },
  {
   "cell_type": "markdown",
   "metadata": {},
   "source": [
    "## Problem \n",
    "\n",
    "Read the data in the file \"Scores.csv\" (which you can download from Canvas) into Python as a Pandas Data Frame.\n",
    "Suppose that the data in this file are the scores of different students (identifyable through their \"ID\") on different assignments. The assignments include six Homework assignments, eleven Labs, ten Quizzes, two midterms, and a final project. "
   ]
  },
  {
   "cell_type": "markdown",
   "metadata": {},
   "source": [
    "(a) Write Python code to automatically extract all columns that start with (\"HW\", dont' extract them by position or by explicit name). Drop the lowest HW score and compute the percentage of points for each student after dropping the lowest score. Treat missing scores as zeros.  \n",
    "\n",
    "Write function that takes student ID as its input and returns the total HW score (as a number between 0 and 100) for that student. \n",
    "\n",
    "Example: HW_score(49865) = 99.4, HW_score(60921) = 54.0"
   ]
  },
  {
   "cell_type": "markdown",
   "metadata": {},
   "source": [
    "(b) Find the student ID(s) of the student(s) with HW scores in the F range (below 60).  "
   ]
  },
  {
   "cell_type": "markdown",
   "metadata": {},
   "source": [
    "(c) Create a histogram of final HW scores (out of 100 after you dropped the lowest HW score for each student).\n",
    "Use 20 bins, each of width 5. Label the x-axis."
   ]
  },
  {
   "cell_type": "markdown",
   "metadata": {},
   "source": [
    "(d) Create a scatterplot of Midterm 2 scores (on y-axis) against Midterm 1 scores (on x-axis) for each student. Treat missing scores as zero. Make sure to label the axes"
   ]
  },
  {
   "cell_type": "markdown",
   "metadata": {},
   "source": [
    "(e) Create a line graph of lab scores for each student. Treat missing scores as zero. "
   ]
  },
  {
   "cell_type": "markdown",
   "metadata": {},
   "source": [
    "(f) Find the ID's of the two students who missed both labs 7 and 9."
   ]
  },
  {
   "cell_type": "markdown",
   "metadata": {},
   "source": [
    "(g) Find the correlation between student's scores in midterms 1 and 2. "
   ]
  },
  {
   "cell_type": "markdown",
   "metadata": {},
   "source": [
    "## Problem \n",
    "\n",
    "The following \"mystery\" function takes as its input a two-dimensional Numpy array. Describe what the function does succinctly in one (or at most two) English sentences. \n",
    "\n",
    "Provide one example for X for which the function returns \"True\" and another example for which it returns \"False\". "
   ]
  },
  {
   "cell_type": "code",
   "execution_count": 269,
   "metadata": {},
   "outputs": [],
   "source": [
    "import numpy as np\n",
    "\n",
    "def mystery(X):\n",
    "    return (~X.any(axis=0)).any()|(~X.any(axis=1)).any()"
   ]
  },
  {
   "cell_type": "markdown",
   "metadata": {},
   "source": [
    "## Problem \n",
    "\n",
    "Write a function called \"SMA\" that takes as its input a one-dimensional NumPy array $A$ and a window width $n$ (integer $\\ge 1$) and returns a one-dimensional NumPy array of the same size as $A$, whose entries are the simple moving averages over the sliding windows. That is, for window size n, the entry $x_i$ in position i would be replaced by mean$(x_{i-n}, \\ldots, x_i, \\ldots, x_{i+n})$. At the beginning and end of the array the windows have to be truncated. \n",
    "\n",
    "Example: SMA(np.array([1,2,3,4,3,5,6]),1) should be array([1.5,2,3,3.33,4,4.66,5.5]) when rounded to two after-decimal digits. "
   ]
  },
  {
   "cell_type": "code",
   "execution_count": 48,
   "metadata": {},
   "outputs": [
    {
     "data": {
      "text/plain": [
       "array([ True,  True,  True,  True,  True,  True,  True])"
      ]
     },
     "execution_count": 48,
     "metadata": {},
     "output_type": "execute_result"
    }
   ],
   "source": [
    "import numpy as np\n",
    "\n",
    "def SMA(array, n):\n",
    "   # your code goes here\n",
    "\n",
    "## Check your code\n",
    "#A = np.array([1,2,3,4,3,5,6])\n",
    "#np.round_(SMA(A,1),2) == np.array([1.5 , 2. , 3. , 3.33, 4. , 4.67, 5.5 ])"
   ]
  },
  {
   "cell_type": "markdown",
   "metadata": {},
   "source": [
    "## Problem \n",
    "\n",
    "Write a function called \"top_two\" that takes a Pandas series as its input, leaves the two most frequently appearing elements unchanged, and replaces all other elements with \"Other\". Return the result in the form of a new Pandas series object. What is the data type in your returned series? "
   ]
  },
  {
   "cell_type": "code",
   "execution_count": 5,
   "metadata": {},
   "outputs": [
    {
     "ename": "SyntaxError",
     "evalue": "unexpected EOF while parsing (<ipython-input-5-6baa44d05c0b>, line 5)",
     "output_type": "error",
     "traceback": [
      "\u001b[0;36m  File \u001b[0;32m\"<ipython-input-5-6baa44d05c0b>\"\u001b[0;36m, line \u001b[0;32m5\u001b[0m\n\u001b[0;31m    # your code goes here\u001b[0m\n\u001b[0m                         ^\u001b[0m\n\u001b[0;31mSyntaxError\u001b[0m\u001b[0;31m:\u001b[0m unexpected EOF while parsing\n"
     ]
    }
   ],
   "source": [
    "import numpy as np\n",
    "import pandas as pd\n",
    "\n",
    "def top_two(ser):\n",
    "        # your code goes here"
   ]
  },
  {
   "cell_type": "markdown",
   "metadata": {},
   "source": [
    "## Problem\n",
    "\n",
    "Write a function called \"letter_count\" that does the following: Take a Pandas series of string objects as the input. Assume that the strings are all individual words (no punctuation, all lower-case). Return a Pandas Data Frame that contains the following columns:\n",
    "* the original words from the Series\n",
    "* the count of letters in each word\n",
    "* a Boolean variable that evaluates to \"True\" if the word contains the letter sequence \"ing\"\n"
   ]
  },
  {
   "cell_type": "code",
   "execution_count": 6,
   "metadata": {},
   "outputs": [
    {
     "ename": "SyntaxError",
     "evalue": "unexpected EOF while parsing (<ipython-input-6-3e3cfce8d9f1>, line 5)",
     "output_type": "error",
     "traceback": [
      "\u001b[0;36m  File \u001b[0;32m\"<ipython-input-6-3e3cfce8d9f1>\"\u001b[0;36m, line \u001b[0;32m5\u001b[0m\n\u001b[0;31m    # your code goes here\u001b[0m\n\u001b[0m                         ^\u001b[0m\n\u001b[0;31mSyntaxError\u001b[0m\u001b[0;31m:\u001b[0m unexpected EOF while parsing\n"
     ]
    }
   ],
   "source": [
    "import pandas as pd\n",
    "\n",
    "def letter_count(ser):\n",
    "    \n",
    "    # your code goes here"
   ]
  },
  {
   "cell_type": "markdown",
   "metadata": {},
   "source": [
    "## Problem\n",
    "\n",
    "**Disclaimer:** This problem is too hard to make a reasonable exam problem (since here is intensive data wrangling involved before you can draw any conclusions). But it provides good practice for Pandas topics you will encounter on Midterm 2. \n",
    "\n",
    "Download the two files \"Flights.csv\" and \"CarrierNames.txt\" from Canvas. Import the files to Python. The file \"Flights.csv\" contains information downloaded from the Bureau of Tranportation Statistics on 625,763 flights (and their arrival delays) in the US in December 2019. The variables in the file are \n",
    "\n",
    "- OP_UNIQUE_CARRIER: a code for the airline (see below)\n",
    "- DEST: destination city (SFO is San Francisco international airport, for example)\n",
    "- DEST_CITY_NAME: Name of the city the airport is in\n",
    "- DEST_STATE_NM: Name of the state the airport is in\n",
    "- ARR_DELAY_NEW: arrival delay (in minutes). If the plane arrived early or on-time, the delay is \"0\".\n",
    "\n",
    "The file \"CarrierNames.txt\" contains carrier codes and airline names, separated by a comma. For example, \"DL\" stands for \"Delta Airlines\". The carrier codes are the same as the carrier codes in the \"Flights.csv\" file. "
   ]
  },
  {
   "cell_type": "markdown",
   "metadata": {},
   "source": [
    "(a) Combine the two data sets to produce a Pandas DataFrame called \"arrivals\" that fulfills the following conditions. \n",
    "Include only airline/destination combinations (for example Delta Airlines flights to SFO) with more than ten flights in December 2019. Use both airline name (\"airline\") and destination airport code (\"DEST\") as index columns. The other columns of your data frame should be:\n",
    "\n",
    "- Total number of flights in December 2019 (column \"total_flights\")\n",
    "- Number of flights in December 2019 that were on-time (column name \"on_time\")\n",
    "- Number of flights in December 2019 that were delayed (column name \"delayed\") \n",
    "- Average delay (in minutes) for all flights (of an airline into a specific airport) (column name \"ave_delay\")"
   ]
  },
  {
   "cell_type": "markdown",
   "metadata": {},
   "source": [
    "(b) How many arrivals were there at SFO during December 2019. "
   ]
  },
  {
   "cell_type": "markdown",
   "metadata": {},
   "source": [
    "(c) What percentage of flights into SFO were delayed in December 2019? "
   ]
  },
  {
   "cell_type": "markdown",
   "metadata": {},
   "source": [
    "(d) Which airport(s) had the highest average delay across all flights (from all airlines)? How many total arrivals (in December 2019) did that airport have?"
   ]
  }
 ],
 "metadata": {
  "kernelspec": {
   "display_name": "Python 3",
   "language": "python",
   "name": "python3"
  },
  "language_info": {
   "codemirror_mode": {
    "name": "ipython",
    "version": 3
   },
   "file_extension": ".py",
   "mimetype": "text/x-python",
   "name": "python",
   "nbconvert_exporter": "python",
   "pygments_lexer": "ipython3",
   "version": "3.7.4"
  }
 },
 "nbformat": 4,
 "nbformat_minor": 2
}
