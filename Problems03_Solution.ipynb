{
 "cells": [
  {
   "cell_type": "markdown",
   "metadata": {},
   "source": [
    "## Solution for In-Class Problem Set 3\n",
    "\n",
    "**Problem:** Given a dictionary that contains names of people as keys and their ages (in integer format) as values, write a function that finds the name (or names) as a list of the second oldest person (or persons if there is a tie). \n",
    "\n",
    "Examples: \n",
    "{'Adam': 12, 'Betsy': 11, 'Charles': 13, 'David': 15, 'Emma': 13} should result in ['Charles', 'Emma'] since Charles and Emma are tied in age and the second-oldest in this group. Note, that the oldest age may appear more than once. \n",
    "\n",
    "{'Luke': 19, 'Boba': 32, 'Leia': 19, 'Anakin': 42, 'Yoda': 896} should result in ['Anakin']"
   ]
  },
  {
   "cell_type": "code",
   "execution_count": 11,
   "metadata": {},
   "outputs": [],
   "source": [
    "d1 = {'Adam': 15, 'Betsy': 11, 'Charles': 13, 'David': 15, 'Emma': 13}\n",
    "d2 = {'Luke': 19, 'Boba': 32, 'Leia': 19, 'Anakin': 42, 'Yoda': 896}"
   ]
  },
  {
   "cell_type": "code",
   "execution_count": 14,
   "metadata": {},
   "outputs": [
    {
     "data": {
      "text/plain": [
       "['Charles', 'Emma']"
      ]
     },
     "execution_count": 14,
     "metadata": {},
     "output_type": "execute_result"
    }
   ],
   "source": [
    "### Solution 1 - the straightforward way with a for loop over keys\n",
    "\n",
    "def second_highest(d):\n",
    "    age = sorted(set(d.values()))[-2]\n",
    "    names = []\n",
    "    for name in d.keys():\n",
    "        if d[name]==age:\n",
    "            names.append(name)\n",
    "    return names\n",
    "\n",
    "second_highest(d1)"
   ]
  },
  {
   "cell_type": "code",
   "execution_count": 16,
   "metadata": {},
   "outputs": [
    {
     "data": {
      "text/plain": [
       "['Anakin']"
      ]
     },
     "execution_count": 16,
     "metadata": {},
     "output_type": "execute_result"
    }
   ],
   "source": [
    "### Solution 2 - the \"Pythonist\" way, using list comprehension \n",
    "\n",
    "def second_highest(d):\n",
    "    return [key for (key,value) in d.items() if value==sorted(set(d.values()))[-2]]\n",
    "\n",
    "second_highest(d2)"
   ]
  },
  {
   "cell_type": "code",
   "execution_count": null,
   "metadata": {},
   "outputs": [],
   "source": []
  }
 ],
 "metadata": {
  "kernelspec": {
   "display_name": "Python 3",
   "language": "python",
   "name": "python3"
  },
  "language_info": {
   "codemirror_mode": {
    "name": "ipython",
    "version": 3
   },
   "file_extension": ".py",
   "mimetype": "text/x-python",
   "name": "python",
   "nbconvert_exporter": "python",
   "pygments_lexer": "ipython3",
   "version": "3.7.4"
  }
 },
 "nbformat": 4,
 "nbformat_minor": 2
}
