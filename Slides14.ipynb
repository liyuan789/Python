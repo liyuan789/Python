{
 "cells": [
  {
   "cell_type": "markdown",
   "metadata": {
    "slideshow": {
     "slide_type": "slide"
    }
   },
   "source": [
    "![alt text](./Graphs/MySQL_logo.png \"MySQL Logo\")"
   ]
  },
  {
   "cell_type": "markdown",
   "metadata": {
    "slideshow": {
     "slide_type": "slide"
    }
   },
   "source": [
    "**Disclaimer:** Last time, we learned how to log on to MySQL database as root, how to make a new database and a new user and to give that new user permission to the database. Today, we'll learn how to create and populate tables and later how to query data in tables. \n",
    "\n",
    "In most of the following examples, I will log on to the MySQL database 'Example' on my machine as user 'Martina' with password 'password'. If the user you have created on your MySQL database has a different name and/or password, you of course have to change these values before the code in this Jupyter Notebook will run on your machine. "
   ]
  },
  {
   "cell_type": "code",
   "execution_count": 1,
   "metadata": {},
   "outputs": [],
   "source": [
    "import mysql.connector\n",
    "\n",
    "# configuration of user details \n",
    "# change them to your user name and password to make examples run on your machine\n",
    "config = {'user': 'Martina', 'password': 'password', 'host': 'localhost', 'database': 'Example'}\n",
    "# config = {'user': 'Martina', 'password': 'password', 'host': '127.0.0.1', 'database': 'Examples'} # for windows"
   ]
  },
  {
   "cell_type": "markdown",
   "metadata": {
    "slideshow": {
     "slide_type": "slide"
    }
   },
   "source": [
    "## Creating Tables\n",
    "\n",
    "Next, we'll learn how to create a new table in SQL. I will show you the syntax that you would use when working directly from the command line, but we'll actually create our table from within Python. \n",
    "\n",
    "For example, let's make a table that stores information about a person. Start by thinking about what type(s) of information you want to store and what data type each piece of information should have:\n",
    "\n",
    "| Column | Type | Allowable values |\n",
    "|:--|:--|:--|\n",
    "| Name  | Varchar(40)  |   |\n",
    "| Gender  | Char(1)  | M,F  |\n",
    "|  DOB | Date  |   |\n",
    "| Address  | Varchar(100)  |   |\n",
    "| Favorite_foods  | Varchar(200)  |   |"
   ]
  },
  {
   "cell_type": "markdown",
   "metadata": {
    "slideshow": {
     "slide_type": "slide"
    }
   },
   "source": [
    "Consider that names are typically stored in two parts (first name, last name) and that addresses commonly have a street name, street number, city name, zip code etc. Neither names nor addresses or birth-dates uniquely identify people. Therefore, none of these columns make good primary keys. We could create another column (Person_ID) that assigns each person a unique integer value. We don't know how many favorite foods each person would list. It might make sense to list possible foods in a separate table that includes a foreign key linking it to the person table. \n",
    "\n",
    "Here is a second attempt at a refined person table:\n",
    "\n",
    "| Column  | Type  | Allowable values  |\n",
    "|:--|:--|:--|\n",
    "| Person_id  | Smallint (unsigned)  | 0 to 65,535 |\n",
    "| First_name  |  Varchar(20)  |   |\n",
    "| Last_name | Varchar(20)  |   |\n",
    "| Gender  | Char(1)  | M, F  |\n",
    "| Birth_date  | Date  |   |\n",
    "|  Street | Varchar(30)  |   \n",
    "| City  | Varchar(20)  |   |\n",
    "| State  | Varchar(20)  |   |\n",
    "| Country  | Varchar(20)  |   |\n",
    "| Postal_code  | Varchar(20)  |   |"
   ]
  },
  {
   "cell_type": "markdown",
   "metadata": {
    "slideshow": {
     "slide_type": "slide"
    }
   },
   "source": [
    "The \"favorite_food\" table could have the following structure:\n",
    "\n",
    "| Column | Type  |\n",
    "|---|---|\n",
    "| Person_id   | Smallint (unsigned)  |\n",
    "|  food |  Varchar(20) |\n",
    "\n",
    "In this case, the two columns \"Person_id\" and \"food\" together are the primary key of the \"favorite_food\" table since neither uniquely identifies a row by iteself (one person could have more than one favorite food and several people might list \"pizza\"). Person_id is also a foreign key that links to the \"person\" table.  "
   ]
  },
  {
   "cell_type": "markdown",
   "metadata": {
    "slideshow": {
     "slide_type": "slide"
    }
   },
   "source": [
    "**Note:** Right now, we have not specified how many favorite foods people can list or how they should list them. Consider what you will do with the data once it has been collected. If you want to analyze how many people prefer a certain kind of food, you may want to restrict how information is entered. Instead of allowing free responses (what do you do if one person enters \"spaghetti\", another enters \"spagetti\", and somebody else enters \"pasta\"?) you could allow choices from a limited set of options. "
   ]
  },
  {
   "cell_type": "markdown",
   "metadata": {
    "slideshow": {
     "slide_type": "slide"
    }
   },
   "source": [
    "**Creating a Table in SQL:** The syntax for creating the \"person\" table we defined above in SQL is \n",
    "\n",
    "```  \n",
    "CREATE TABLE person\n",
    "    (person_id SMALLINT(5) UNSIGNED,\n",
    "     fname VARCHAR(20), \n",
    "     lname VARCHAR(20), \n",
    "     gender ENUM('M','F'),\n",
    "     birth_date DATE, \n",
    "     street VARCHAR(30),\n",
    "     city VARCHAR(20), state VARCHAR(20),\n",
    "     country VARCHAR(20), postal_code VARCHAR(20),\n",
    "     CONSTRAINT pk_person PRIMARY KEY (person_id));\n",
    "```"
   ]
  },
  {
   "cell_type": "markdown",
   "metadata": {
    "slideshow": {
     "slide_type": "slide"
    }
   },
   "source": [
    "The last statement here tells the database server which column will serve as the primary key for the table. That is done by creating a ```CONSTRAINT``` for the table. Here, the constraint is created on the person_id column and given the name pk_person. The ```ENUM('M','F')``` part after the definition of the gender variable tells SQL that we will only consider the possible values 'M' and 'F' for gender. Other data when entered in this field will produce an error. \n",
    "\n",
    "To look at the table you just created type \n",
    "\n",
    "```\n",
    "DESC person;\n",
    "```\n",
    "\n",
    "```DESC``` is short for \"describe\". To delete the entire table you would type \n",
    "\n",
    "```\n",
    "DROP TABLE person;\n",
    "```"
   ]
  },
  {
   "cell_type": "markdown",
   "metadata": {
    "slideshow": {
     "slide_type": "slide"
    }
   },
   "source": [
    "**Example:** The same table can be created from within Python. First, we will define what we want the table contents to be (as two string objects). Then, we will connect to the database and pass the table contents to MySQL. "
   ]
  },
  {
   "cell_type": "code",
   "execution_count": 2,
   "metadata": {},
   "outputs": [],
   "source": [
    "person_table = (\"\"\"                    \n",
    "    CREATE TABLE person             \n",
    "      (person_id SMALLINT(5) UNSIGNED,\n",
    "      fname VARCHAR(20),\n",
    "      lname VARCHAR(20),\n",
    "      gender ENUM('M','F'),\n",
    "      birth_date DATE,\n",
    "      street VARCHAR(30),\n",
    "      city VARCHAR(20),\n",
    "      state VARCHAR(20),\n",
    "      country VARCHAR(20),\n",
    "      postal_code VARCHAR(20),\n",
    "      CONSTRAINT pk_person PRIMARY KEY (person_id))\"\"\")\n",
    "            # this is one long string to be passed to SQL\n",
    "            # the use of the triple-quotes allows line breaks to be included in the string. \n",
    "\n",
    "favorite_food_table = (\"\"\"CREATE TABLE favorite_food\n",
    "    (person_id SMALLINT(5) UNSIGNED, \n",
    "    `food` VARCHAR(20),\n",
    "    CONSTRAINT pk_favorite_food PRIMARY KEY (`person_id`, `food`),\n",
    "    CONSTRAINT fk_fav_food_person_id \n",
    "        FOREIGN KEY (`person_id`) REFERENCES person (`person_id`))\"\"\")\n",
    "            # another string defines the favorite foods table"
   ]
  },
  {
   "cell_type": "markdown",
   "metadata": {
    "slideshow": {
     "slide_type": "slide"
    }
   },
   "source": [
    "**Note:** In the ```favorite_food_table``` we are making both the person_id and the food together into primary keys that uniquely identify each row. That assumes that each person lists each kind of favorite food only once. In addition there is a second ```CONSTRAINT``` in the ```favorite_food_table```. This is a foreign key constraint. This means that the values in person_id in the ```favorite_food_table``` are only allowed to be a subset of the values that are present in the ```person_table```. That means that you cannot add data to the ```favorite_food_table``` for a person that does not already exist in the ```person_table```. \n",
    "\n",
    "It also means that these two tables are now linked. You won't be able to modify the ```favorite_food``` table without also potentially modifying the person table and vice versa. You can't drop a person from ```person```, for example, who has entries in ```favorite_food```. "
   ]
  },
  {
   "cell_type": "markdown",
   "metadata": {
    "slideshow": {
     "slide_type": "slide"
    }
   },
   "source": [
    "Next, we are passing the two strings we previously created with the statements for creating the two tables: ```person``` and ```favorite_food``` to SQL. Since I have previously already created these same tables (for the other section and to test my code), I will begin by removing the already existing tables. If you are making a brand new table, of course you could omit this step. If you are trying to create a table that already exists you will get an error from Python. "
   ]
  },
  {
   "cell_type": "code",
   "execution_count": 3,
   "metadata": {
    "slideshow": {
     "slide_type": "-"
    }
   },
   "outputs": [],
   "source": [
    "cnx = mysql.connector.connect(**config)     # connect with config-user details\n",
    "cursor = cnx.cursor()                       # create cursor object \n",
    "\n",
    "cursor.execute(\"DROP TABLE IF EXISTS favorite_food\") # delete the food table if it already exists\n",
    "cursor.execute(\"DROP TABLE IF EXISTS person\")        # delete the person table if it already exists\n",
    "\n",
    "cursor.execute(person_table)                # executing the \"CREATE TABLE\" code in SQL\n",
    "cursor.execute(favorite_food_table)         # creating two new tables: person and favorite_food\n",
    "\n",
    "cursor.close()                              # like connections, cursor objects should be closed after use\n",
    "cnx.close()                                 # close connection"
   ]
  },
  {
   "cell_type": "markdown",
   "metadata": {
    "slideshow": {
     "slide_type": "slide"
    }
   },
   "source": [
    "**Recap:** In the above code we are doing the following:\n",
    "\n",
    "* We are connecting to an existing database as an existing user (remember to use your own user details if this code produces an error for you)\n",
    "* Defining the content of two tables (person, favorite_food) as string commands in Python\n",
    "* We are creating the two tables in the database by passing the string commands to SQL"
   ]
  },
  {
   "cell_type": "markdown",
   "metadata": {
    "slideshow": {
     "slide_type": "slide"
    }
   },
   "source": [
    "**Examples:** Once you have created tables, you might want to look at the tables you have. When you use the command line, \n",
    "\n",
    "```\n",
    "SHOW TABLES;\n",
    "```\n",
    "\n",
    "lists all tables in the database and \n",
    "\n",
    "```\n",
    "DESC person;\n",
    "```\n",
    "\n",
    "describes the structure (names and types of variables) of the table \"person\". Shown below is what the command line output would look like. "
   ]
  },
  {
   "cell_type": "markdown",
   "metadata": {},
   "source": [
    "<img src=\"./Graphs/Person_table.png\" width=600 />"
   ]
  },
  {
   "cell_type": "markdown",
   "metadata": {
    "slideshow": {
     "slide_type": "slide"
    }
   },
   "source": [
    " The same can be done from within Python with a little more effort."
   ]
  },
  {
   "cell_type": "code",
   "execution_count": 4,
   "metadata": {},
   "outputs": [
    {
     "name": "stdout",
     "output_type": "stream",
     "text": [
      "('account',)\n",
      "('branch',)\n",
      "('business',)\n",
      "('customer',)\n",
      "('department',)\n",
      "('employee',)\n",
      "('favorite_food',)\n",
      "('individual',)\n",
      "('Movie',)\n",
      "('officer',)\n",
      "('person',)\n",
      "('product',)\n",
      "('product_type',)\n",
      "('Rating',)\n",
      "('Reviewer',)\n",
      "('transaction',)\n"
     ]
    }
   ],
   "source": [
    "cnx = mysql.connector.connect(**config) # connect with config-user details\n",
    "cursor = cnx.cursor()                   # cursor object \n",
    "\n",
    "cursor.execute(\"SHOW TABLES\")           # SQL command to list existing tables in a database\n",
    "\n",
    "tables = cursor.fetchall()              # fetching the result from the command line\n",
    "\n",
    "for table in tables:                    # showing all the tables one by one\n",
    "    print(table)\n",
    "\n",
    "cursor.close()                          # close cursor\n",
    "cnx.close()                             # close connection "
   ]
  },
  {
   "cell_type": "markdown",
   "metadata": {},
   "source": [
    "Here, the ```fetchall()``` method fetches all the rows of our query result (as a list of tuples) so that we can print them one-by-one. "
   ]
  },
  {
   "cell_type": "markdown",
   "metadata": {
    "slideshow": {
     "slide_type": "slide"
    }
   },
   "source": [
    "**Example:** You can also look at the structure of a specific table from within Python. "
   ]
  },
  {
   "cell_type": "code",
   "execution_count": 5,
   "metadata": {},
   "outputs": [
    {
     "name": "stdout",
     "output_type": "stream",
     "text": [
      "('person_id', 'smallint(5) unsigned', 'NO', 'PRI', None, '')\n",
      "('fname', 'varchar(20)', 'YES', '', None, '')\n",
      "('lname', 'varchar(20)', 'YES', '', None, '')\n",
      "('gender', \"enum('M','F')\", 'YES', '', None, '')\n",
      "('birth_date', 'date', 'YES', '', None, '')\n",
      "('street', 'varchar(30)', 'YES', '', None, '')\n",
      "('city', 'varchar(20)', 'YES', '', None, '')\n",
      "('state', 'varchar(20)', 'YES', '', None, '')\n",
      "('country', 'varchar(20)', 'YES', '', None, '')\n",
      "('postal_code', 'varchar(20)', 'YES', '', None, '')\n"
     ]
    }
   ],
   "source": [
    "cnx = mysql.connector.connect(**config) # connect with config-user details\n",
    "cursor = cnx.cursor()                   \n",
    "\n",
    "cursor.execute(\"DESC person\")           # SQL command to show an existing table\n",
    "\n",
    "results = cursor.fetchall()             # fetching the description of the person table\n",
    "\n",
    "for row in results:                     # contents of the person table\n",
    "    print(row)\n",
    "\n",
    "cursor.close() \n",
    "cnx.close()"
   ]
  },
  {
   "cell_type": "markdown",
   "metadata": {
    "slideshow": {
     "slide_type": "slide"
    }
   },
   "source": [
    "**Example:** Make the returned information more easily readable by converting the list of tuples obtained from the console into a Pandas DataFrame."
   ]
  },
  {
   "cell_type": "code",
   "execution_count": 6,
   "metadata": {},
   "outputs": [
    {
     "data": {
      "text/html": [
       "<div>\n",
       "<style scoped>\n",
       "    .dataframe tbody tr th:only-of-type {\n",
       "        vertical-align: middle;\n",
       "    }\n",
       "\n",
       "    .dataframe tbody tr th {\n",
       "        vertical-align: top;\n",
       "    }\n",
       "\n",
       "    .dataframe thead th {\n",
       "        text-align: right;\n",
       "    }\n",
       "</style>\n",
       "<table border=\"1\" class=\"dataframe\">\n",
       "  <thead>\n",
       "    <tr style=\"text-align: right;\">\n",
       "      <th></th>\n",
       "      <th>Field</th>\n",
       "      <th>Type</th>\n",
       "      <th>Null</th>\n",
       "      <th>Key</th>\n",
       "      <th>Default</th>\n",
       "      <th>Extra</th>\n",
       "    </tr>\n",
       "  </thead>\n",
       "  <tbody>\n",
       "    <tr>\n",
       "      <td>0</td>\n",
       "      <td>person_id</td>\n",
       "      <td>smallint(5) unsigned</td>\n",
       "      <td>NO</td>\n",
       "      <td>PRI</td>\n",
       "      <td>None</td>\n",
       "      <td></td>\n",
       "    </tr>\n",
       "    <tr>\n",
       "      <td>1</td>\n",
       "      <td>fname</td>\n",
       "      <td>varchar(20)</td>\n",
       "      <td>YES</td>\n",
       "      <td></td>\n",
       "      <td>None</td>\n",
       "      <td></td>\n",
       "    </tr>\n",
       "    <tr>\n",
       "      <td>2</td>\n",
       "      <td>lname</td>\n",
       "      <td>varchar(20)</td>\n",
       "      <td>YES</td>\n",
       "      <td></td>\n",
       "      <td>None</td>\n",
       "      <td></td>\n",
       "    </tr>\n",
       "    <tr>\n",
       "      <td>3</td>\n",
       "      <td>gender</td>\n",
       "      <td>enum('M','F')</td>\n",
       "      <td>YES</td>\n",
       "      <td></td>\n",
       "      <td>None</td>\n",
       "      <td></td>\n",
       "    </tr>\n",
       "    <tr>\n",
       "      <td>4</td>\n",
       "      <td>birth_date</td>\n",
       "      <td>date</td>\n",
       "      <td>YES</td>\n",
       "      <td></td>\n",
       "      <td>None</td>\n",
       "      <td></td>\n",
       "    </tr>\n",
       "    <tr>\n",
       "      <td>5</td>\n",
       "      <td>street</td>\n",
       "      <td>varchar(30)</td>\n",
       "      <td>YES</td>\n",
       "      <td></td>\n",
       "      <td>None</td>\n",
       "      <td></td>\n",
       "    </tr>\n",
       "    <tr>\n",
       "      <td>6</td>\n",
       "      <td>city</td>\n",
       "      <td>varchar(20)</td>\n",
       "      <td>YES</td>\n",
       "      <td></td>\n",
       "      <td>None</td>\n",
       "      <td></td>\n",
       "    </tr>\n",
       "    <tr>\n",
       "      <td>7</td>\n",
       "      <td>state</td>\n",
       "      <td>varchar(20)</td>\n",
       "      <td>YES</td>\n",
       "      <td></td>\n",
       "      <td>None</td>\n",
       "      <td></td>\n",
       "    </tr>\n",
       "    <tr>\n",
       "      <td>8</td>\n",
       "      <td>country</td>\n",
       "      <td>varchar(20)</td>\n",
       "      <td>YES</td>\n",
       "      <td></td>\n",
       "      <td>None</td>\n",
       "      <td></td>\n",
       "    </tr>\n",
       "    <tr>\n",
       "      <td>9</td>\n",
       "      <td>postal_code</td>\n",
       "      <td>varchar(20)</td>\n",
       "      <td>YES</td>\n",
       "      <td></td>\n",
       "      <td>None</td>\n",
       "      <td></td>\n",
       "    </tr>\n",
       "  </tbody>\n",
       "</table>\n",
       "</div>"
      ],
      "text/plain": [
       "         Field                  Type Null  Key Default Extra\n",
       "0    person_id  smallint(5) unsigned   NO  PRI    None      \n",
       "1        fname           varchar(20)  YES         None      \n",
       "2        lname           varchar(20)  YES         None      \n",
       "3       gender         enum('M','F')  YES         None      \n",
       "4   birth_date                  date  YES         None      \n",
       "5       street           varchar(30)  YES         None      \n",
       "6         city           varchar(20)  YES         None      \n",
       "7        state           varchar(20)  YES         None      \n",
       "8      country           varchar(20)  YES         None      \n",
       "9  postal_code           varchar(20)  YES         None      "
      ]
     },
     "execution_count": 6,
     "metadata": {},
     "output_type": "execute_result"
    }
   ],
   "source": [
    "import pandas as pd\n",
    "\n",
    "pd.DataFrame(results, columns = ['Field', 'Type', 'Null', 'Key', 'Default', 'Extra'])"
   ]
  },
  {
   "cell_type": "markdown",
   "metadata": {
    "slideshow": {
     "slide_type": "slide"
    }
   },
   "source": [
    "**Example:** Let's interpret the results. \n",
    "\n",
    "The table shows us the columns that the person table contains (under ```Field```). It also shows us the data type for each column. The ```Null``` columns tells us whether an entry is required or could be omitted when data is entered into the table. In our table, the only required entry is the person_id. The ```Key``` column lists all columns (variables) that are involved in constructing the primary key. It is possible to populate entries with default values if no data is entered, but we have not specified any such default values. That's reflected in the ```Default``` column. The ```Extra``` column can store other pertinent information about variables. "
   ]
  },
  {
   "cell_type": "markdown",
   "metadata": {
    "slideshow": {
     "slide_type": "slide"
    }
   },
   "source": [
    "**Example:** Look at the ```favorite_food``` table we have created. "
   ]
  },
  {
   "cell_type": "code",
   "execution_count": 7,
   "metadata": {},
   "outputs": [
    {
     "data": {
      "text/html": [
       "<div>\n",
       "<style scoped>\n",
       "    .dataframe tbody tr th:only-of-type {\n",
       "        vertical-align: middle;\n",
       "    }\n",
       "\n",
       "    .dataframe tbody tr th {\n",
       "        vertical-align: top;\n",
       "    }\n",
       "\n",
       "    .dataframe thead th {\n",
       "        text-align: right;\n",
       "    }\n",
       "</style>\n",
       "<table border=\"1\" class=\"dataframe\">\n",
       "  <thead>\n",
       "    <tr style=\"text-align: right;\">\n",
       "      <th></th>\n",
       "      <th>Field</th>\n",
       "      <th>Type</th>\n",
       "      <th>Null</th>\n",
       "      <th>Key</th>\n",
       "      <th>Default</th>\n",
       "      <th>Extra</th>\n",
       "    </tr>\n",
       "  </thead>\n",
       "  <tbody>\n",
       "    <tr>\n",
       "      <td>0</td>\n",
       "      <td>person_id</td>\n",
       "      <td>smallint(5) unsigned</td>\n",
       "      <td>NO</td>\n",
       "      <td>PRI</td>\n",
       "      <td>None</td>\n",
       "      <td></td>\n",
       "    </tr>\n",
       "    <tr>\n",
       "      <td>1</td>\n",
       "      <td>food</td>\n",
       "      <td>varchar(20)</td>\n",
       "      <td>NO</td>\n",
       "      <td>PRI</td>\n",
       "      <td>None</td>\n",
       "      <td></td>\n",
       "    </tr>\n",
       "  </tbody>\n",
       "</table>\n",
       "</div>"
      ],
      "text/plain": [
       "       Field                  Type Null  Key Default Extra\n",
       "0  person_id  smallint(5) unsigned   NO  PRI    None      \n",
       "1       food           varchar(20)   NO  PRI    None      "
      ]
     },
     "execution_count": 7,
     "metadata": {},
     "output_type": "execute_result"
    }
   ],
   "source": [
    "cnx = mysql.connector.connect(**config) # open connection\n",
    "cursor = cnx.cursor() \n",
    "\n",
    "cursor.execute(\"DESC favorite_food\")   # SQL command to show an existing table\n",
    "\n",
    "results = cursor.fetchall()            # fetching the description of the favorite_food table\n",
    "\n",
    "cursor.close() \n",
    "cnx.close()                            # close connection\n",
    "\n",
    "pd.DataFrame(results, columns = ['Field', 'Type', 'Null', 'Key', 'Default', 'Extra'])"
   ]
  },
  {
   "cell_type": "markdown",
   "metadata": {},
   "source": [
    "**Note:** that in this table both ```person_id``` and ```food``` are used in constructing the primary key. "
   ]
  },
  {
   "cell_type": "markdown",
   "metadata": {
    "slideshow": {
     "slide_type": "slide"
    }
   },
   "source": [
    "## Populating and Modifying Tables\n",
    "\n",
    "**Example:** Now that we have constructed our two tables, the next step is to enter some data. In general, there are four things you might want to do with existing tables\n",
    "\n",
    "* INSERT (enter new data into your table)\n",
    "* UPDATE (modify an existing entry in your table)\n",
    "* DELETE (remove an existing entry from your table)\n",
    "* SELECT (retrieve (subset of) table - much more detail on that later)"
   ]
  },
  {
   "cell_type": "markdown",
   "metadata": {
    "slideshow": {
     "slide_type": "slide"
    }
   },
   "source": [
    "### Inserting Data\n",
    "\n",
    "To insert new data into a table, you have to specify three things:\n",
    "\n",
    "* the name of the table \n",
    "* the names of the column(s)\n",
    "* the value(s) you want to insert\n",
    "\n",
    "Depending on how the table is defined (in particular, how the ```Null``` attribute is set) you are not required to provide values for all columns in the table."
   ]
  },
  {
   "cell_type": "markdown",
   "metadata": {
    "slideshow": {
     "slide_type": "slide"
    }
   },
   "source": [
    "### Generating automatic primary key counters\n",
    "\n",
    "Recall, that our ```person``` table has primary key ```person_id```. How should we generate those primary key  values? It would make sense to use sequential values (i.e., start with 1 and then keep going with 2,3,...). You could assign a value yourself (but keep in mind that more than one user may be able to enter data into the same database and this way users would have to be careful to not accidentally assign the same ID to two different people). An alternative is to let SQL generate the primary key values for you. You do that by specifying ```AUTO_INCREMENT``` in the row that assigns the variable ```person_id```. It can also be done after the table is also created with a ```ALTER TABLE``` command. "
   ]
  },
  {
   "cell_type": "markdown",
   "metadata": {
    "slideshow": {
     "slide_type": "slide"
    }
   },
   "source": [
    "However, since the ```person_id``` is used as a foreign key in the ```favorite_foods``` table, we cannot modify it in the ```person``` table alone. Instead, first we have to modify the favorite foods table to drop the foreign key constraint, then we can modify ```person_id``` to make it auto-incremented and lastly we recreate the foreign key constraint. \n",
    "\n",
    "```\n",
    "ALTER TABLE favorite_food \n",
    "    DROP FOREIGN KEY fk_fav_food_person_id,\n",
    "    MODIFY person_id SMALLINT UNSIGNED;\n",
    "            \n",
    "ALTER TABLE person MODIFY person_id SMALLINT(5) UNSIGNED AUTO_INCREMENT;\n",
    "\n",
    "ALTER TABLE favorite_food\n",
    "    ADD CONSTRAINT fk_fav_food_person_id FOREIGN KEY (person_id)\n",
    "          REFERENCES person (person_id);\n",
    "```"
   ]
  },
  {
   "cell_type": "markdown",
   "metadata": {},
   "source": [
    "**Note:** In a *real* database, you would want to restrict other users from accessing the data while you make a change like this. "
   ]
  },
  {
   "cell_type": "markdown",
   "metadata": {
    "slideshow": {
     "slide_type": "slide"
    }
   },
   "source": [
    "Or we could do the same thing in Python. The command line syntax has to be \"fed\" to Python as a string (wrapped in \"quotes\" if you need one line or wrapped in \"\"\"triple quotes\"\"\" if you need more than one line). You can omit the semi-colon (;) symbol that is required in the command line when you use the ```cursor.execute()``` method. "
   ]
  },
  {
   "cell_type": "code",
   "execution_count": 8,
   "metadata": {},
   "outputs": [],
   "source": [
    "cnx = mysql.connector.connect(**config) # open connection\n",
    "cursor = cnx.cursor() \n",
    "\n",
    "cursor.execute(\"\"\"ALTER TABLE favorite_food      \n",
    "    DROP FOREIGN KEY fk_fav_food_person_id,\n",
    "    MODIFY person_id SMALLINT UNSIGNED\"\"\")\n",
    "    # drop foreign key restriction in favorite_food\n",
    "    \n",
    "cursor.execute(\"ALTER TABLE person MODIFY person_id SMALLINT(5) UNSIGNED AUTO_INCREMENT\")\n",
    "    # alter primary key to auto-increment in person table\n",
    "    \n",
    "cursor.execute(\"\"\"ALTER TABLE favorite_food\n",
    "    ADD CONSTRAINT fk_fav_food_person_id FOREIGN KEY (person_id)\n",
    "          REFERENCES person (person_id)\"\"\")\n",
    "    # reinstate foreign key restriction in favorite_food\n",
    "    \n",
    "cursor.close() \n",
    "cnx.close()    # close connection "
   ]
  },
  {
   "cell_type": "markdown",
   "metadata": {
    "slideshow": {
     "slide_type": "slide"
    }
   },
   "source": [
    "Now look at your modified ```person``` table again:"
   ]
  },
  {
   "cell_type": "code",
   "execution_count": 9,
   "metadata": {},
   "outputs": [
    {
     "data": {
      "text/html": [
       "<div>\n",
       "<style scoped>\n",
       "    .dataframe tbody tr th:only-of-type {\n",
       "        vertical-align: middle;\n",
       "    }\n",
       "\n",
       "    .dataframe tbody tr th {\n",
       "        vertical-align: top;\n",
       "    }\n",
       "\n",
       "    .dataframe thead th {\n",
       "        text-align: right;\n",
       "    }\n",
       "</style>\n",
       "<table border=\"1\" class=\"dataframe\">\n",
       "  <thead>\n",
       "    <tr style=\"text-align: right;\">\n",
       "      <th></th>\n",
       "      <th>Field</th>\n",
       "      <th>Type</th>\n",
       "      <th>Null</th>\n",
       "      <th>Key</th>\n",
       "      <th>Default</th>\n",
       "      <th>Extra</th>\n",
       "    </tr>\n",
       "  </thead>\n",
       "  <tbody>\n",
       "    <tr>\n",
       "      <td>0</td>\n",
       "      <td>person_id</td>\n",
       "      <td>smallint(5) unsigned</td>\n",
       "      <td>NO</td>\n",
       "      <td>PRI</td>\n",
       "      <td>None</td>\n",
       "      <td>auto_increment</td>\n",
       "    </tr>\n",
       "    <tr>\n",
       "      <td>1</td>\n",
       "      <td>fname</td>\n",
       "      <td>varchar(20)</td>\n",
       "      <td>YES</td>\n",
       "      <td></td>\n",
       "      <td>None</td>\n",
       "      <td></td>\n",
       "    </tr>\n",
       "    <tr>\n",
       "      <td>2</td>\n",
       "      <td>lname</td>\n",
       "      <td>varchar(20)</td>\n",
       "      <td>YES</td>\n",
       "      <td></td>\n",
       "      <td>None</td>\n",
       "      <td></td>\n",
       "    </tr>\n",
       "    <tr>\n",
       "      <td>3</td>\n",
       "      <td>gender</td>\n",
       "      <td>enum('M','F')</td>\n",
       "      <td>YES</td>\n",
       "      <td></td>\n",
       "      <td>None</td>\n",
       "      <td></td>\n",
       "    </tr>\n",
       "    <tr>\n",
       "      <td>4</td>\n",
       "      <td>birth_date</td>\n",
       "      <td>date</td>\n",
       "      <td>YES</td>\n",
       "      <td></td>\n",
       "      <td>None</td>\n",
       "      <td></td>\n",
       "    </tr>\n",
       "    <tr>\n",
       "      <td>5</td>\n",
       "      <td>street</td>\n",
       "      <td>varchar(30)</td>\n",
       "      <td>YES</td>\n",
       "      <td></td>\n",
       "      <td>None</td>\n",
       "      <td></td>\n",
       "    </tr>\n",
       "    <tr>\n",
       "      <td>6</td>\n",
       "      <td>city</td>\n",
       "      <td>varchar(20)</td>\n",
       "      <td>YES</td>\n",
       "      <td></td>\n",
       "      <td>None</td>\n",
       "      <td></td>\n",
       "    </tr>\n",
       "    <tr>\n",
       "      <td>7</td>\n",
       "      <td>state</td>\n",
       "      <td>varchar(20)</td>\n",
       "      <td>YES</td>\n",
       "      <td></td>\n",
       "      <td>None</td>\n",
       "      <td></td>\n",
       "    </tr>\n",
       "    <tr>\n",
       "      <td>8</td>\n",
       "      <td>country</td>\n",
       "      <td>varchar(20)</td>\n",
       "      <td>YES</td>\n",
       "      <td></td>\n",
       "      <td>None</td>\n",
       "      <td></td>\n",
       "    </tr>\n",
       "    <tr>\n",
       "      <td>9</td>\n",
       "      <td>postal_code</td>\n",
       "      <td>varchar(20)</td>\n",
       "      <td>YES</td>\n",
       "      <td></td>\n",
       "      <td>None</td>\n",
       "      <td></td>\n",
       "    </tr>\n",
       "  </tbody>\n",
       "</table>\n",
       "</div>"
      ],
      "text/plain": [
       "         Field                  Type Null  Key Default           Extra\n",
       "0    person_id  smallint(5) unsigned   NO  PRI    None  auto_increment\n",
       "1        fname           varchar(20)  YES         None                \n",
       "2        lname           varchar(20)  YES         None                \n",
       "3       gender         enum('M','F')  YES         None                \n",
       "4   birth_date                  date  YES         None                \n",
       "5       street           varchar(30)  YES         None                \n",
       "6         city           varchar(20)  YES         None                \n",
       "7        state           varchar(20)  YES         None                \n",
       "8      country           varchar(20)  YES         None                \n",
       "9  postal_code           varchar(20)  YES         None                "
      ]
     },
     "execution_count": 9,
     "metadata": {},
     "output_type": "execute_result"
    }
   ],
   "source": [
    "cnx = mysql.connector.connect(**config)  # open connection\n",
    "cursor = cnx.cursor() \n",
    "\n",
    "cursor.execute(\"DESC person\")            # SQL command to show structure of an existing table\n",
    "\n",
    "results = cursor.fetchall()              # fetch the description of the person table\n",
    "\n",
    "cursor.close() \n",
    "cnx.close()                              # close connection\n",
    "\n",
    "pd.DataFrame(results, columns = ['Field', 'Type', 'Null', 'Key', 'Default', 'Extra'])"
   ]
  },
  {
   "cell_type": "markdown",
   "metadata": {},
   "source": [
    "and note the additional statement ```auto_increment``` in the **Extra** column. When you now provide data for the ```person``` table, you can provide a null value for ```person_id``` and SQL will automatilly populate the field with the next largest integer."
   ]
  },
  {
   "cell_type": "markdown",
   "metadata": {
    "slideshow": {
     "slide_type": "slide"
    }
   },
   "source": [
    "**Example:** Inserting data\n",
    "\n",
    "Let's add some actual data to our table. On the command line we could write\n",
    "\n",
    "```\n",
    "INSERT INTO person\n",
    "-> (person_id, fname, lname, gender, birth_date)\n",
    "-> VALUES (null, 'William','Turner', 'M', '1972-05-27');\n",
    "```\n",
    "\n",
    "Note, that the ```birth_date``` has to be specified in the date format \"year-month-day\". The \"null\" for ```person_id``` is SQL's way of specifying missing data. In this case, since the ```person_id``` is auto incremented and William Turner is our first entry in the table, it means that he will be assigned ```person_id = 1```."
   ]
  },
  {
   "cell_type": "markdown",
   "metadata": {},
   "source": [
    "You can look at all the data in the person table with the statement\n",
    "\n",
    "```\n",
    "SELECT * FROM person;\n",
    "```"
   ]
  },
  {
   "cell_type": "markdown",
   "metadata": {
    "slideshow": {
     "slide_type": "slide"
    }
   },
   "source": [
    "In Python you would add data to a table and then look at the table as follows:"
   ]
  },
  {
   "cell_type": "code",
   "execution_count": 10,
   "metadata": {},
   "outputs": [
    {
     "name": "stdout",
     "output_type": "stream",
     "text": [
      "(1, 'William', 'Turner', 'M', datetime.date(1972, 5, 27), None, None, None, None, None)\n"
     ]
    }
   ],
   "source": [
    "cnx = mysql.connector.connect(**config)  # open connection\n",
    "cursor = cnx.cursor()                   \n",
    "\n",
    "cursor.execute(\"DELETE FROM person\")     # deleted all current entries in the person table\n",
    "cursor.execute(\"\"\"INSERT INTO person (person_id, fname, lname, gender, birth_date) \n",
    "                  VALUES (null, 'William', 'Turner', 'M', '1972-05-27')\"\"\")\n",
    "cnx.commit()                             # commit new data to the database\n",
    "           \n",
    "cursor.execute(\"SELECT * FROM person\")   # SQL command to show all data in an existing table\n",
    "\n",
    "row = cursor.fetchone()\n",
    "\n",
    "while row is not None:\n",
    "    print(row)\n",
    "    row = cursor.fetchone()\n",
    "    \n",
    "cursor.close()                          \n",
    "cnx.close()                              # close connection"
   ]
  },
  {
   "cell_type": "markdown",
   "metadata": {},
   "source": [
    "Note the ```cnx.commit()``` command after the data insertion statement. It commits the current transaction. This is only necessary if you insert or update data in any of your tables. "
   ]
  },
  {
   "cell_type": "markdown",
   "metadata": {
    "slideshow": {
     "slide_type": "slide"
    }
   },
   "source": [
    "**Notes:** Note, that the birth-date was passed as a string (in quotes). The date has to be in the date format specified when the table was created ('yyyy-mm-dd')."
   ]
  },
  {
   "cell_type": "markdown",
   "metadata": {},
   "source": [
    "**Note:** In the previous example, we have used the ```cursor.fetchone()``` command to retrieve one line of information (at a time) from the console output. Previously, you have seen a related command ```cursor.fetchall()```. There is a third option, too.\n",
    "\n",
    "* ```cursor.fetchone()``` will fetch one line at a time from output mysql produces (what you would see on the console) and return it as a tuple of records.\n",
    "* ```cursor.fetchmany(n)``` will return n lines of output (formatted as a list of tuples)\n",
    "* ```cursor.fetchall()``` will return all lines of output as a list of tuples. If there is no output, the list will be empty. "
   ]
  },
  {
   "cell_type": "markdown",
   "metadata": {
    "slideshow": {
     "slide_type": "slide"
    }
   },
   "source": [
    "**Example:** Suppose William has specified three favorite foods (Pizza, Cookies, and Nachos). We can enter this information into the ```favorite_foods``` table. However, recall that we placed a foreign key constraint in the favorite\\_food table. If we tried to enter a person_id that does not exist in the person table, this code would not run. "
   ]
  },
  {
   "cell_type": "code",
   "execution_count": 11,
   "metadata": {},
   "outputs": [
    {
     "name": "stdout",
     "output_type": "stream",
     "text": [
      "(1, 'cookies')\n",
      "(1, 'nachos')\n",
      "(1, 'pizza')\n"
     ]
    }
   ],
   "source": [
    "cnx = mysql.connector.connect(**config)         # open connection\n",
    "cursor = cnx.cursor()                  \n",
    "\n",
    "cursor.execute(\"DELETE FROM favorite_food\")     # deleted all current entries in the favorite_food table\n",
    "cursor.execute(\"INSERT INTO favorite_food (person_id, food)\"\n",
    "               \"VALUES (1, 'pizza')\")\n",
    "cursor.execute(\"INSERT INTO favorite_food (person_id, food)\"\n",
    "               \"VALUES (1, 'cookies')\")\n",
    "cursor.execute(\"INSERT INTO favorite_food (person_id, food)\"\n",
    "               \"VALUES (1, 'nachos')\")\n",
    "cnx.commit()                                    # commit new data to the favorite_food table\n",
    "\n",
    "cursor.execute(\"SELECT * FROM favorite_food\")   # SQL command to show entries in an existing table\n",
    "\n",
    "row = cursor.fetchone()\n",
    "\n",
    "while row is not None:\n",
    "    print(row)\n",
    "    row = cursor.fetchone()\n",
    "\n",
    "cursor.close()                                  \n",
    "cnx.close()                                     # close connection"
   ]
  },
  {
   "cell_type": "markdown",
   "metadata": {
    "slideshow": {
     "slide_type": "slide"
    }
   },
   "source": [
    "## Updating Data\n",
    "\n",
    "You can modify data in an existing table. Recall, that when we first entered William Turner's information into the ```person``` table, we omitted his address. We can add it now using an UPDATE statement. The corresponding command line SQL code would be \n",
    "\n",
    "```\n",
    "UPDATE person\n",
    "-> SET street = '1225 Tremont St.',\n",
    "-> city = 'Boston',\n",
    "-> state = 'MA',\n",
    "-> country = 'USA',\n",
    "-> postal_code = '02138'\n",
    "-> WHERE person_id = 1;\n",
    "```"
   ]
  },
  {
   "cell_type": "markdown",
   "metadata": {
    "slideshow": {
     "slide_type": "slide"
    }
   },
   "source": [
    "In Python, we could write"
   ]
  },
  {
   "cell_type": "code",
   "execution_count": 12,
   "metadata": {},
   "outputs": [
    {
     "name": "stdout",
     "output_type": "stream",
     "text": [
      "(1, 'William', 'Turner', 'M', datetime.date(1972, 5, 27), '1225 Tremont St.', 'Boston', 'MA', 'USA', '02138')\n"
     ]
    }
   ],
   "source": [
    "cnx = mysql.connector.connect(**config) # connect with config-user details\n",
    "cursor = cnx.cursor()                   # cursor object \n",
    "\n",
    "cursor.execute(\"\"\"UPDATE person           \n",
    "                SET street = '1225 Tremont St.',  state = 'MA', city = 'Boston', country = 'USA', postal_code = '02138'\n",
    "                WHERE person_id=1\"\"\")\n",
    "cnx.commit()\n",
    "\n",
    "cursor.execute(\"SELECT * FROM person\")   # SQL command to show entries in an existing table\n",
    "\n",
    "row = cursor.fetchone()\n",
    "\n",
    "while row is not None:\n",
    "    print(row)\n",
    "    row = cursor.fetchone()\n",
    "               \n",
    "cursor.close()                          # close.cursor()\n",
    "cnx.close()   "
   ]
  },
  {
   "cell_type": "markdown",
   "metadata": {},
   "source": [
    "Now, William Turner has an address in our table."
   ]
  },
  {
   "cell_type": "markdown",
   "metadata": {
    "slideshow": {
     "slide_type": "slide"
    }
   },
   "source": [
    "## Deleting table entries\n",
    "\n",
    "Suppose William has changed his mind and does no longer like Nachos. We could update the ```favorite_food``` table with the line \n",
    "\n",
    "```\n",
    "DELETE FROM favorite_food \n",
    "WHERE person_id=1 AND food = 'nachos';\n",
    "```"
   ]
  },
  {
   "cell_type": "code",
   "execution_count": 13,
   "metadata": {},
   "outputs": [
    {
     "name": "stdout",
     "output_type": "stream",
     "text": [
      "(1, 'cookies')\n",
      "(1, 'pizza')\n"
     ]
    }
   ],
   "source": [
    "cnx = mysql.connector.connect(**config) # connect with config-user details\n",
    "cursor = cnx.cursor()                   # cursor object \n",
    "\n",
    "cursor.execute(\"\"\"DELETE FROM favorite_food \n",
    "                  WHERE person_id=1 AND food = 'nachos' \"\"\")\n",
    "\n",
    "cursor.execute(\"SELECT * FROM favorite_food\")   # SQL command to show all entries in an existing table\n",
    "\n",
    "row = cursor.fetchone()\n",
    "\n",
    "while row is not None:\n",
    "    print(row)\n",
    "    row = cursor.fetchone()\n",
    "               \n",
    "cursor.close()                          # close.cursor()\n",
    "cnx.close()   "
   ]
  },
  {
   "cell_type": "markdown",
   "metadata": {},
   "source": [
    "**Note:** The WHERE statement is quite important! Note, that here we want to delete the \"Nachos\" entry only for William Turner (he's the only guy in our table right now). If we omit the ```person_id=1``` statement from WHERE, we would delete Nachos for everybody. If you forget the entire WHERE statement, you delete all data in the table - oops."
   ]
  },
  {
   "cell_type": "markdown",
   "metadata": {
    "slideshow": {
     "slide_type": "slide"
    }
   },
   "source": [
    "## Query Statements in SQL\n",
    "\n",
    "So far, we have learned how to do basic database administration. \n",
    "\n",
    "* Create and delete a database (as root user)\n",
    "* Create new users and give them admission to specific databases\n",
    "* Create and delete tables\n",
    "* Insert, update and delete values in tables\n",
    "\n",
    "In many applications, most of your job will likely center on retrieving data from existing tables, based on given criteria. You may have to combine information from more than one table to get what you need. This query process is what we'll study next. "
   ]
  },
  {
   "cell_type": "markdown",
   "metadata": {
    "slideshow": {
     "slide_type": "slide"
    }
   },
   "source": [
    "**Remark:** The tables that we've created ourselves for practice purposes are too small to write interesting queries. Therefore, I will now make a new database called \"bank\" and populate it with the data from the book. That's the database we'll use for the subsequent examples. If you have already imported the book data into your \"Examples\" database, you can also continue to work with that database. \n",
    "\n",
    "It's faster to do this on the command line. \n",
    "\n",
    "1. log in as root\n",
    "2. make a new database ```CREATE DATABASE bank;```\n",
    "3. Give full priviledges to existing user ```GRANT ALL PRIVILEGES ON bank.* to 'Martina'@'localhost';```\n",
    "4. log out as root\n",
    "5. log in as user 'Martina'\n",
    "6. switch database in use ``` USE bank;```\n",
    "7. import data ```source /Users/mb/SJSU/Math167PS/SQL-Example/LearningSQLExample.sql;```"
   ]
  },
  {
   "cell_type": "markdown",
   "metadata": {
    "slideshow": {
     "slide_type": "slide"
    }
   },
   "source": [
    "**Example:** Let's take a look at what tables we now have in our bank database. \n",
    "You may have to change the user name and password on your machine!"
   ]
  },
  {
   "cell_type": "code",
   "execution_count": 14,
   "metadata": {},
   "outputs": [
    {
     "name": "stdout",
     "output_type": "stream",
     "text": [
      "('account',)\n",
      "('branch',)\n",
      "('business',)\n",
      "('customer',)\n",
      "('department',)\n",
      "('employee',)\n",
      "('individual',)\n",
      "('officer',)\n",
      "('product',)\n",
      "('product_type',)\n",
      "('transaction',)\n"
     ]
    }
   ],
   "source": [
    "config = {'user': 'Martina', 'password': 'password', 'host': 'localhost', 'database': 'bank'}\n",
    "            # connect to 'bank' database as user Martina\n",
    "cnx = mysql.connector.connect(**config) # connect with config-user details\n",
    "cursor = cnx.cursor()                   # cursor object \n",
    "\n",
    "cursor.execute(\"\"\"SHOW tables\"\"\")       # generate list of existing tables in daatabase bank\n",
    "\n",
    "row = cursor.fetchone()\n",
    "\n",
    "while row is not None:\n",
    "    print(row)\n",
    "    row = cursor.fetchone()\n",
    "    \n",
    "cursor.close()                          # close.cursor()\n",
    "cnx.close()                             # close connection"
   ]
  },
  {
   "cell_type": "markdown",
   "metadata": {
    "slideshow": {
     "slide_type": "slide"
    }
   },
   "source": [
    "**Example:** The following graph shows the tables contained in the \"bank\" database and the relationships between those tables. This kind of diagram is called an entity-relationship (ER) diagram. The primary key variables are designated by a key symbol. Foreign keys are marked with (FR). Dotted lines describe how foreign keys relate to another table's primary key. \n",
    "\n",
    "The markings at the end of the lines tell us how many objects are mapped to how many. For example, one bank branch maps to many employees. "
   ]
  },
  {
   "cell_type": "markdown",
   "metadata": {
    "slideshow": {
     "slide_type": "slide"
    }
   },
   "source": [
    "![alt text](./Graphs/Bank_Schema.png \"Bank Schema\")"
   ]
  },
  {
   "cell_type": "markdown",
   "metadata": {
    "slideshow": {
     "slide_type": "slide"
    }
   },
   "source": [
    "## General Query Syntax\n",
    "\n",
    "Query statements have a specific structure. They are usually constructed by combining two or more of the following clauses: \n",
    "\n",
    "| Clause Name  | Purpose  |\n",
    "|:--|:--|\n",
    "| SELECT  | Determines which columns to include in the query result |\n",
    "| FROM  | Identifies the table from which to draw data and how tables should be joined*  |\n",
    "| WHERE  | Filters data  |\n",
    "| GROUP BY  | Groups rows by common column values  |\n",
    "| HAVING  | Filters groups  |\n",
    "| ORDER BY  | Sort the rows of the result by one or more columns  |\n",
    "\n",
    "(*) We have not yet discussed how to join tables, we'll get that later! "
   ]
  },
  {
   "cell_type": "markdown",
   "metadata": {
    "slideshow": {
     "slide_type": "slide"
    }
   },
   "source": [
    "### The SELECT statement\n",
    "\n",
    "**Examples:** SELECT is used to select all (\\*) or some of the columns from a specific table. \n",
    "Here, we are selecting all columns of the table \"department\", for example. In this code we automatically name the columns of the Pandas DataFrame based on the table information provided by SQL. "
   ]
  },
  {
   "cell_type": "code",
   "execution_count": 15,
   "metadata": {},
   "outputs": [
    {
     "data": {
      "text/html": [
       "<div>\n",
       "<style scoped>\n",
       "    .dataframe tbody tr th:only-of-type {\n",
       "        vertical-align: middle;\n",
       "    }\n",
       "\n",
       "    .dataframe tbody tr th {\n",
       "        vertical-align: top;\n",
       "    }\n",
       "\n",
       "    .dataframe thead th {\n",
       "        text-align: right;\n",
       "    }\n",
       "</style>\n",
       "<table border=\"1\" class=\"dataframe\">\n",
       "  <thead>\n",
       "    <tr style=\"text-align: right;\">\n",
       "      <th></th>\n",
       "      <th>dept_id</th>\n",
       "      <th>name</th>\n",
       "    </tr>\n",
       "  </thead>\n",
       "  <tbody>\n",
       "    <tr>\n",
       "      <td>0</td>\n",
       "      <td>1</td>\n",
       "      <td>Operations</td>\n",
       "    </tr>\n",
       "    <tr>\n",
       "      <td>1</td>\n",
       "      <td>2</td>\n",
       "      <td>Loans</td>\n",
       "    </tr>\n",
       "    <tr>\n",
       "      <td>2</td>\n",
       "      <td>3</td>\n",
       "      <td>Administration</td>\n",
       "    </tr>\n",
       "    <tr>\n",
       "      <td>3</td>\n",
       "      <td>4</td>\n",
       "      <td>Operations</td>\n",
       "    </tr>\n",
       "    <tr>\n",
       "      <td>4</td>\n",
       "      <td>5</td>\n",
       "      <td>Loans</td>\n",
       "    </tr>\n",
       "    <tr>\n",
       "      <td>5</td>\n",
       "      <td>6</td>\n",
       "      <td>Administration</td>\n",
       "    </tr>\n",
       "  </tbody>\n",
       "</table>\n",
       "</div>"
      ],
      "text/plain": [
       "   dept_id            name\n",
       "0        1      Operations\n",
       "1        2           Loans\n",
       "2        3  Administration\n",
       "3        4      Operations\n",
       "4        5           Loans\n",
       "5        6  Administration"
      ]
     },
     "execution_count": 15,
     "metadata": {},
     "output_type": "execute_result"
    }
   ],
   "source": [
    "cnx = mysql.connector.connect(**config)             # connect \n",
    "cursor = cnx.cursor()                   \n",
    "\n",
    "cursor.execute(\"\"\"DESC department\"\"\")               # get details of table \"department\"\n",
    "row = cursor.fetchone()\n",
    "\n",
    "colnames = []\n",
    "while row is not None:                              # make vector of variable names (column names)\n",
    "    colnames.append(row[0])\n",
    "    row = cursor.fetchone()\n",
    "    \n",
    "cursor.execute(\"\"\"SELECT * FROM department\"\"\")       # get all data from department table\n",
    "results = cursor.fetchall()\n",
    "\n",
    "cursor.close()                                      \n",
    "cnx.close()                                          # disconnect\n",
    "\n",
    "pd.DataFrame(results, columns = colnames)            # make data frame and label columns appropriately"
   ]
  },
  {
   "cell_type": "markdown",
   "metadata": {
    "slideshow": {
     "slide_type": "slide"
    }
   },
   "source": [
    "**Example:** Selecting only the columns \"product_cd\" and \"name\" from table \"product\". Here, we name the columns in our Pandas dataframe ourselves. "
   ]
  },
  {
   "cell_type": "code",
   "execution_count": 16,
   "metadata": {},
   "outputs": [
    {
     "data": {
      "text/html": [
       "<div>\n",
       "<style scoped>\n",
       "    .dataframe tbody tr th:only-of-type {\n",
       "        vertical-align: middle;\n",
       "    }\n",
       "\n",
       "    .dataframe tbody tr th {\n",
       "        vertical-align: top;\n",
       "    }\n",
       "\n",
       "    .dataframe thead th {\n",
       "        text-align: right;\n",
       "    }\n",
       "</style>\n",
       "<table border=\"1\" class=\"dataframe\">\n",
       "  <thead>\n",
       "    <tr style=\"text-align: right;\">\n",
       "      <th></th>\n",
       "      <th>product_cd</th>\n",
       "      <th>name</th>\n",
       "    </tr>\n",
       "  </thead>\n",
       "  <tbody>\n",
       "    <tr>\n",
       "      <td>0</td>\n",
       "      <td>AUT</td>\n",
       "      <td>auto loan</td>\n",
       "    </tr>\n",
       "    <tr>\n",
       "      <td>1</td>\n",
       "      <td>BUS</td>\n",
       "      <td>business line of credit</td>\n",
       "    </tr>\n",
       "    <tr>\n",
       "      <td>2</td>\n",
       "      <td>CD</td>\n",
       "      <td>certificate of deposit</td>\n",
       "    </tr>\n",
       "    <tr>\n",
       "      <td>3</td>\n",
       "      <td>CHK</td>\n",
       "      <td>checking account</td>\n",
       "    </tr>\n",
       "    <tr>\n",
       "      <td>4</td>\n",
       "      <td>MM</td>\n",
       "      <td>money market account</td>\n",
       "    </tr>\n",
       "    <tr>\n",
       "      <td>5</td>\n",
       "      <td>MRT</td>\n",
       "      <td>home mortgage</td>\n",
       "    </tr>\n",
       "    <tr>\n",
       "      <td>6</td>\n",
       "      <td>SAV</td>\n",
       "      <td>savings account</td>\n",
       "    </tr>\n",
       "    <tr>\n",
       "      <td>7</td>\n",
       "      <td>SBL</td>\n",
       "      <td>small business loan</td>\n",
       "    </tr>\n",
       "  </tbody>\n",
       "</table>\n",
       "</div>"
      ],
      "text/plain": [
       "  product_cd                     name\n",
       "0        AUT                auto loan\n",
       "1        BUS  business line of credit\n",
       "2         CD   certificate of deposit\n",
       "3        CHK         checking account\n",
       "4         MM     money market account\n",
       "5        MRT            home mortgage\n",
       "6        SAV          savings account\n",
       "7        SBL      small business loan"
      ]
     },
     "execution_count": 16,
     "metadata": {},
     "output_type": "execute_result"
    }
   ],
   "source": [
    "cnx = mysql.connector.connect(**config)               # connect \n",
    "cursor = cnx.cursor()                   \n",
    "\n",
    "colnames = ['product_cd', 'name']\n",
    "    \n",
    "cursor.execute(\"\"\"SELECT product_cd, name FROM product\"\"\") # retrieve two columns of product table\n",
    "results = cursor.fetchall()\n",
    "    \n",
    "cursor.close()                          \n",
    "cnx.close()                                           # disconnect\n",
    "\n",
    "pd.DataFrame(results, columns = colnames)             # make pretty DataFrame"
   ]
  },
  {
   "cell_type": "markdown",
   "metadata": {
    "slideshow": {
     "slide_type": "slide"
    }
   },
   "source": [
    "**Example:** In some cases, you are only interested in retrieving a set of values (as opposed to a list which could contain duplicates). For example, if you would want to know the ID's of all customers who have accounts listed in the \"account\" table, you could type:"
   ]
  },
  {
   "cell_type": "code",
   "execution_count": 17,
   "metadata": {},
   "outputs": [
    {
     "data": {
      "text/html": [
       "<div>\n",
       "<style scoped>\n",
       "    .dataframe tbody tr th:only-of-type {\n",
       "        vertical-align: middle;\n",
       "    }\n",
       "\n",
       "    .dataframe tbody tr th {\n",
       "        vertical-align: top;\n",
       "    }\n",
       "\n",
       "    .dataframe thead th {\n",
       "        text-align: right;\n",
       "    }\n",
       "</style>\n",
       "<table border=\"1\" class=\"dataframe\">\n",
       "  <thead>\n",
       "    <tr style=\"text-align: right;\">\n",
       "      <th></th>\n",
       "      <th>cust_id</th>\n",
       "    </tr>\n",
       "  </thead>\n",
       "  <tbody>\n",
       "    <tr>\n",
       "      <td>0</td>\n",
       "      <td>1</td>\n",
       "    </tr>\n",
       "    <tr>\n",
       "      <td>1</td>\n",
       "      <td>1</td>\n",
       "    </tr>\n",
       "    <tr>\n",
       "      <td>2</td>\n",
       "      <td>1</td>\n",
       "    </tr>\n",
       "    <tr>\n",
       "      <td>3</td>\n",
       "      <td>1</td>\n",
       "    </tr>\n",
       "    <tr>\n",
       "      <td>4</td>\n",
       "      <td>1</td>\n",
       "    </tr>\n",
       "    <tr>\n",
       "      <td>...</td>\n",
       "      <td>...</td>\n",
       "    </tr>\n",
       "    <tr>\n",
       "      <td>67</td>\n",
       "      <td>23</td>\n",
       "    </tr>\n",
       "    <tr>\n",
       "      <td>68</td>\n",
       "      <td>23</td>\n",
       "    </tr>\n",
       "    <tr>\n",
       "      <td>69</td>\n",
       "      <td>24</td>\n",
       "    </tr>\n",
       "    <tr>\n",
       "      <td>70</td>\n",
       "      <td>25</td>\n",
       "    </tr>\n",
       "    <tr>\n",
       "      <td>71</td>\n",
       "      <td>26</td>\n",
       "    </tr>\n",
       "  </tbody>\n",
       "</table>\n",
       "<p>72 rows × 1 columns</p>\n",
       "</div>"
      ],
      "text/plain": [
       "    cust_id\n",
       "0         1\n",
       "1         1\n",
       "2         1\n",
       "3         1\n",
       "4         1\n",
       "..      ...\n",
       "67       23\n",
       "68       23\n",
       "69       24\n",
       "70       25\n",
       "71       26\n",
       "\n",
       "[72 rows x 1 columns]"
      ]
     },
     "execution_count": 17,
     "metadata": {},
     "output_type": "execute_result"
    }
   ],
   "source": [
    "cnx = mysql.connector.connect(**config) # connect with config-user details\n",
    "cursor = cnx.cursor()                   # cursor object \n",
    "    \n",
    "cursor.execute(\"\"\"SELECT cust_id FROM account\"\"\")       # generate list of existing tables in daatabase bank\n",
    "results = cursor.fetchall()\n",
    "    \n",
    "cursor.close()                          # close.cursor()\n",
    "cnx.close()  \n",
    "\n",
    "pd.DataFrame(results, columns = ['cust_id'])"
   ]
  },
  {
   "cell_type": "markdown",
   "metadata": {},
   "source": [
    "But then the same customer could show up more than once in your results. "
   ]
  },
  {
   "cell_type": "markdown",
   "metadata": {
    "slideshow": {
     "slide_type": "slide"
    }
   },
   "source": [
    "**Example:** If you only want the unique values, you could apply the set function in Python or ask for distinct results directly in SQL. Note the addition of \"DISTINCT\" right after the \"SELECT\" statement.\n",
    "\n",
    "**Caution:** Using the \"DISTINCT\" keyword causes the data to be sorted by SQL. If your data set is very large, that can be slow. "
   ]
  },
  {
   "cell_type": "code",
   "execution_count": 18,
   "metadata": {},
   "outputs": [
    {
     "data": {
      "text/html": [
       "<div>\n",
       "<style scoped>\n",
       "    .dataframe tbody tr th:only-of-type {\n",
       "        vertical-align: middle;\n",
       "    }\n",
       "\n",
       "    .dataframe tbody tr th {\n",
       "        vertical-align: top;\n",
       "    }\n",
       "\n",
       "    .dataframe thead th {\n",
       "        text-align: right;\n",
       "    }\n",
       "</style>\n",
       "<table border=\"1\" class=\"dataframe\">\n",
       "  <thead>\n",
       "    <tr style=\"text-align: right;\">\n",
       "      <th></th>\n",
       "      <th>cust_id</th>\n",
       "    </tr>\n",
       "  </thead>\n",
       "  <tbody>\n",
       "    <tr>\n",
       "      <td>0</td>\n",
       "      <td>1</td>\n",
       "    </tr>\n",
       "    <tr>\n",
       "      <td>1</td>\n",
       "      <td>2</td>\n",
       "    </tr>\n",
       "    <tr>\n",
       "      <td>2</td>\n",
       "      <td>3</td>\n",
       "    </tr>\n",
       "    <tr>\n",
       "      <td>3</td>\n",
       "      <td>4</td>\n",
       "    </tr>\n",
       "    <tr>\n",
       "      <td>4</td>\n",
       "      <td>5</td>\n",
       "    </tr>\n",
       "    <tr>\n",
       "      <td>5</td>\n",
       "      <td>6</td>\n",
       "    </tr>\n",
       "    <tr>\n",
       "      <td>6</td>\n",
       "      <td>7</td>\n",
       "    </tr>\n",
       "    <tr>\n",
       "      <td>7</td>\n",
       "      <td>8</td>\n",
       "    </tr>\n",
       "    <tr>\n",
       "      <td>8</td>\n",
       "      <td>9</td>\n",
       "    </tr>\n",
       "    <tr>\n",
       "      <td>9</td>\n",
       "      <td>10</td>\n",
       "    </tr>\n",
       "    <tr>\n",
       "      <td>10</td>\n",
       "      <td>11</td>\n",
       "    </tr>\n",
       "    <tr>\n",
       "      <td>11</td>\n",
       "      <td>12</td>\n",
       "    </tr>\n",
       "    <tr>\n",
       "      <td>12</td>\n",
       "      <td>13</td>\n",
       "    </tr>\n",
       "    <tr>\n",
       "      <td>13</td>\n",
       "      <td>14</td>\n",
       "    </tr>\n",
       "    <tr>\n",
       "      <td>14</td>\n",
       "      <td>15</td>\n",
       "    </tr>\n",
       "    <tr>\n",
       "      <td>15</td>\n",
       "      <td>16</td>\n",
       "    </tr>\n",
       "    <tr>\n",
       "      <td>16</td>\n",
       "      <td>17</td>\n",
       "    </tr>\n",
       "    <tr>\n",
       "      <td>17</td>\n",
       "      <td>18</td>\n",
       "    </tr>\n",
       "    <tr>\n",
       "      <td>18</td>\n",
       "      <td>19</td>\n",
       "    </tr>\n",
       "    <tr>\n",
       "      <td>19</td>\n",
       "      <td>20</td>\n",
       "    </tr>\n",
       "    <tr>\n",
       "      <td>20</td>\n",
       "      <td>21</td>\n",
       "    </tr>\n",
       "    <tr>\n",
       "      <td>21</td>\n",
       "      <td>22</td>\n",
       "    </tr>\n",
       "    <tr>\n",
       "      <td>22</td>\n",
       "      <td>23</td>\n",
       "    </tr>\n",
       "    <tr>\n",
       "      <td>23</td>\n",
       "      <td>24</td>\n",
       "    </tr>\n",
       "    <tr>\n",
       "      <td>24</td>\n",
       "      <td>25</td>\n",
       "    </tr>\n",
       "    <tr>\n",
       "      <td>25</td>\n",
       "      <td>26</td>\n",
       "    </tr>\n",
       "  </tbody>\n",
       "</table>\n",
       "</div>"
      ],
      "text/plain": [
       "    cust_id\n",
       "0         1\n",
       "1         2\n",
       "2         3\n",
       "3         4\n",
       "4         5\n",
       "5         6\n",
       "6         7\n",
       "7         8\n",
       "8         9\n",
       "9        10\n",
       "10       11\n",
       "11       12\n",
       "12       13\n",
       "13       14\n",
       "14       15\n",
       "15       16\n",
       "16       17\n",
       "17       18\n",
       "18       19\n",
       "19       20\n",
       "20       21\n",
       "21       22\n",
       "22       23\n",
       "23       24\n",
       "24       25\n",
       "25       26"
      ]
     },
     "execution_count": 18,
     "metadata": {},
     "output_type": "execute_result"
    }
   ],
   "source": [
    "cnx = mysql.connector.connect(**config)                          # connect \n",
    "cursor = cnx.cursor()                   \n",
    "    \n",
    "cursor.execute(\"\"\"SELECT DISTINCT cust_id FROM account\"\"\")       # generate list of distinct customer IDs\n",
    "results = cursor.fetchall()\n",
    "    \n",
    "cursor.close()                          \n",
    "cnx.close()                                                      # disconnect\n",
    "\n",
    "pd.DataFrame(results, columns = ['cust_id'])                     # make DataFrame"
   ]
  },
  {
   "cell_type": "markdown",
   "metadata": {
    "slideshow": {
     "slide_type": "slide"
    }
   },
   "source": [
    "### The FROM clause\n",
    "\n",
    "In all examples you have seen above, the FROM clause refers to a specific permanently stored table from which to select data. However, the FROM clause can also refer to other query results (that is, a table which is the result of another query) or to a temporary table (or virtual table or view). A virtual table can be the result of a merger of two tables that are joined together by a common attribute (column variable). "
   ]
  },
  {
   "cell_type": "markdown",
   "metadata": {
    "slideshow": {
     "slide_type": "slide"
    }
   },
   "source": [
    "**Example:** We will discuss join statements in more detail later, but here is an example of a  query with a non-trivial FROM clause statement. We are joining the tables \"employee\" and \"department\" by the common column \"dept_id\" and then selecting employee id, first and last name of the employee and their department name to display as the result. "
   ]
  },
  {
   "cell_type": "code",
   "execution_count": 19,
   "metadata": {},
   "outputs": [
    {
     "data": {
      "text/html": [
       "<div>\n",
       "<style scoped>\n",
       "    .dataframe tbody tr th:only-of-type {\n",
       "        vertical-align: middle;\n",
       "    }\n",
       "\n",
       "    .dataframe tbody tr th {\n",
       "        vertical-align: top;\n",
       "    }\n",
       "\n",
       "    .dataframe thead th {\n",
       "        text-align: right;\n",
       "    }\n",
       "</style>\n",
       "<table border=\"1\" class=\"dataframe\">\n",
       "  <thead>\n",
       "    <tr style=\"text-align: right;\">\n",
       "      <th></th>\n",
       "      <th>emp_id</th>\n",
       "      <th>fname</th>\n",
       "      <th>lname</th>\n",
       "      <th>dept_name</th>\n",
       "    </tr>\n",
       "  </thead>\n",
       "  <tbody>\n",
       "    <tr>\n",
       "      <td>0</td>\n",
       "      <td>1</td>\n",
       "      <td>Michael</td>\n",
       "      <td>Smith</td>\n",
       "      <td>Administration</td>\n",
       "    </tr>\n",
       "    <tr>\n",
       "      <td>1</td>\n",
       "      <td>2</td>\n",
       "      <td>Susan</td>\n",
       "      <td>Barker</td>\n",
       "      <td>Administration</td>\n",
       "    </tr>\n",
       "    <tr>\n",
       "      <td>2</td>\n",
       "      <td>3</td>\n",
       "      <td>Robert</td>\n",
       "      <td>Tyler</td>\n",
       "      <td>Administration</td>\n",
       "    </tr>\n",
       "    <tr>\n",
       "      <td>3</td>\n",
       "      <td>4</td>\n",
       "      <td>Susan</td>\n",
       "      <td>Hawthorne</td>\n",
       "      <td>Operations</td>\n",
       "    </tr>\n",
       "    <tr>\n",
       "      <td>4</td>\n",
       "      <td>5</td>\n",
       "      <td>John</td>\n",
       "      <td>Gooding</td>\n",
       "      <td>Loans</td>\n",
       "    </tr>\n",
       "    <tr>\n",
       "      <td>5</td>\n",
       "      <td>6</td>\n",
       "      <td>Helen</td>\n",
       "      <td>Fleming</td>\n",
       "      <td>Operations</td>\n",
       "    </tr>\n",
       "    <tr>\n",
       "      <td>6</td>\n",
       "      <td>7</td>\n",
       "      <td>Chris</td>\n",
       "      <td>Tucker</td>\n",
       "      <td>Operations</td>\n",
       "    </tr>\n",
       "    <tr>\n",
       "      <td>7</td>\n",
       "      <td>8</td>\n",
       "      <td>Sarah</td>\n",
       "      <td>Parker</td>\n",
       "      <td>Operations</td>\n",
       "    </tr>\n",
       "    <tr>\n",
       "      <td>8</td>\n",
       "      <td>9</td>\n",
       "      <td>Jane</td>\n",
       "      <td>Grossman</td>\n",
       "      <td>Operations</td>\n",
       "    </tr>\n",
       "    <tr>\n",
       "      <td>9</td>\n",
       "      <td>10</td>\n",
       "      <td>Paula</td>\n",
       "      <td>Roberts</td>\n",
       "      <td>Operations</td>\n",
       "    </tr>\n",
       "    <tr>\n",
       "      <td>10</td>\n",
       "      <td>11</td>\n",
       "      <td>Thomas</td>\n",
       "      <td>Ziegler</td>\n",
       "      <td>Operations</td>\n",
       "    </tr>\n",
       "    <tr>\n",
       "      <td>11</td>\n",
       "      <td>12</td>\n",
       "      <td>Samantha</td>\n",
       "      <td>Jameson</td>\n",
       "      <td>Operations</td>\n",
       "    </tr>\n",
       "    <tr>\n",
       "      <td>12</td>\n",
       "      <td>13</td>\n",
       "      <td>John</td>\n",
       "      <td>Blake</td>\n",
       "      <td>Operations</td>\n",
       "    </tr>\n",
       "    <tr>\n",
       "      <td>13</td>\n",
       "      <td>14</td>\n",
       "      <td>Cindy</td>\n",
       "      <td>Mason</td>\n",
       "      <td>Operations</td>\n",
       "    </tr>\n",
       "    <tr>\n",
       "      <td>14</td>\n",
       "      <td>15</td>\n",
       "      <td>Frank</td>\n",
       "      <td>Portman</td>\n",
       "      <td>Operations</td>\n",
       "    </tr>\n",
       "    <tr>\n",
       "      <td>15</td>\n",
       "      <td>16</td>\n",
       "      <td>Theresa</td>\n",
       "      <td>Markham</td>\n",
       "      <td>Operations</td>\n",
       "    </tr>\n",
       "    <tr>\n",
       "      <td>16</td>\n",
       "      <td>17</td>\n",
       "      <td>Beth</td>\n",
       "      <td>Fowler</td>\n",
       "      <td>Operations</td>\n",
       "    </tr>\n",
       "    <tr>\n",
       "      <td>17</td>\n",
       "      <td>18</td>\n",
       "      <td>Rick</td>\n",
       "      <td>Tulman</td>\n",
       "      <td>Operations</td>\n",
       "    </tr>\n",
       "  </tbody>\n",
       "</table>\n",
       "</div>"
      ],
      "text/plain": [
       "    emp_id     fname      lname       dept_name\n",
       "0        1   Michael      Smith  Administration\n",
       "1        2     Susan     Barker  Administration\n",
       "2        3    Robert      Tyler  Administration\n",
       "3        4     Susan  Hawthorne      Operations\n",
       "4        5      John    Gooding           Loans\n",
       "5        6     Helen    Fleming      Operations\n",
       "6        7     Chris     Tucker      Operations\n",
       "7        8     Sarah     Parker      Operations\n",
       "8        9      Jane   Grossman      Operations\n",
       "9       10     Paula    Roberts      Operations\n",
       "10      11    Thomas    Ziegler      Operations\n",
       "11      12  Samantha    Jameson      Operations\n",
       "12      13      John      Blake      Operations\n",
       "13      14     Cindy      Mason      Operations\n",
       "14      15     Frank    Portman      Operations\n",
       "15      16   Theresa    Markham      Operations\n",
       "16      17      Beth     Fowler      Operations\n",
       "17      18      Rick     Tulman      Operations"
      ]
     },
     "execution_count": 19,
     "metadata": {},
     "output_type": "execute_result"
    }
   ],
   "source": [
    "cnx = mysql.connector.connect(**config)                         # connect \n",
    "cursor = cnx.cursor()                   \n",
    "    \n",
    "cursor.execute(\"\"\"SELECT employee.emp_id, employee.fname,\n",
    "                employee.lname, department.name AS dept_name\n",
    "                FROM employee INNER JOIN department\n",
    "                ON employee.dept_id = department.dept_id\"\"\")    # select columns from two joined tables\n",
    "\n",
    "results = cursor.fetchall()\n",
    "    \n",
    "cursor.close()                         \n",
    "cnx.close()                                                      # disconnect\n",
    "\n",
    "pd.DataFrame(results, columns = ['emp_id', 'fname', 'lname', 'dept_name'])"
   ]
  },
  {
   "cell_type": "markdown",
   "metadata": {
    "slideshow": {
     "slide_type": "slide"
    }
   },
   "source": [
    "**Example:** Referencing and Aliasing\n",
    "\n",
    "Note, that in the last example, we have to specify the columns we want to select as ```employee.emp_id``` for example. Here, \"employee\" is the name of the table and \"emp_id\" is the column in that table that you want to select. That's necessary, because more than one table is involved in this staement. The \"department\" table could also have had a column \"emp_id\" which could potantially have represented different information. \n",
    "\n",
    "If you do not want to spell out the entire table name, you can assign tables an alias (a short name) that you use to specifiy which table to take a column from. \n",
    "\n",
    "```\n",
    "SELECT e.emp_id, e.fname, e.lname,\n",
    "        d.name AS dept_name\n",
    "FROM employee AS e INNER JOIN department AS d \n",
    "        ON e.dept_id = d.dept_id;\n",
    "```\n",
    "\n",
    "Note the \"AS\" which can be used to assign a column a more meaningful name (here \"dept_name\" for the column \"name\" in \"department\") as well as assigning short \"handles\" (here \"e\" and \"d\") for the table names. "
   ]
  },
  {
   "cell_type": "markdown",
   "metadata": {
    "slideshow": {
     "slide_type": "slide"
    }
   },
   "source": [
    "### The WHERE clause\n",
    "\n",
    "So far, we have usually extracted all the data in a table or all the data in specific columns of a table. But we can also filter the table rows during the querying process. This filtering process is very similar to creating a boolean mask in Python. The WHERE clause is followed by a boolean statement and you extract only rows for which this statement is True. \n",
    "\n",
    "Here, we are only selecting employees whose job title is \"Head Teller\" from the employees table. "
   ]
  },
  {
   "cell_type": "code",
   "execution_count": 20,
   "metadata": {},
   "outputs": [
    {
     "data": {
      "text/html": [
       "<div>\n",
       "<style scoped>\n",
       "    .dataframe tbody tr th:only-of-type {\n",
       "        vertical-align: middle;\n",
       "    }\n",
       "\n",
       "    .dataframe tbody tr th {\n",
       "        vertical-align: top;\n",
       "    }\n",
       "\n",
       "    .dataframe thead th {\n",
       "        text-align: right;\n",
       "    }\n",
       "</style>\n",
       "<table border=\"1\" class=\"dataframe\">\n",
       "  <thead>\n",
       "    <tr style=\"text-align: right;\">\n",
       "      <th></th>\n",
       "      <th>emp_id</th>\n",
       "      <th>fname</th>\n",
       "      <th>lname</th>\n",
       "      <th>start_date</th>\n",
       "      <th>title</th>\n",
       "    </tr>\n",
       "  </thead>\n",
       "  <tbody>\n",
       "    <tr>\n",
       "      <td>0</td>\n",
       "      <td>6</td>\n",
       "      <td>Helen</td>\n",
       "      <td>Fleming</td>\n",
       "      <td>2004-03-17</td>\n",
       "      <td>Head Teller</td>\n",
       "    </tr>\n",
       "    <tr>\n",
       "      <td>1</td>\n",
       "      <td>10</td>\n",
       "      <td>Paula</td>\n",
       "      <td>Roberts</td>\n",
       "      <td>2002-07-27</td>\n",
       "      <td>Head Teller</td>\n",
       "    </tr>\n",
       "    <tr>\n",
       "      <td>2</td>\n",
       "      <td>13</td>\n",
       "      <td>John</td>\n",
       "      <td>Blake</td>\n",
       "      <td>2000-05-11</td>\n",
       "      <td>Head Teller</td>\n",
       "    </tr>\n",
       "    <tr>\n",
       "      <td>3</td>\n",
       "      <td>16</td>\n",
       "      <td>Theresa</td>\n",
       "      <td>Markham</td>\n",
       "      <td>2001-03-15</td>\n",
       "      <td>Head Teller</td>\n",
       "    </tr>\n",
       "  </tbody>\n",
       "</table>\n",
       "</div>"
      ],
      "text/plain": [
       "   emp_id    fname    lname  start_date        title\n",
       "0       6    Helen  Fleming  2004-03-17  Head Teller\n",
       "1      10    Paula  Roberts  2002-07-27  Head Teller\n",
       "2      13     John    Blake  2000-05-11  Head Teller\n",
       "3      16  Theresa  Markham  2001-03-15  Head Teller"
      ]
     },
     "execution_count": 20,
     "metadata": {},
     "output_type": "execute_result"
    }
   ],
   "source": [
    "cnx = mysql.connector.connect(**config)                # connect \n",
    "cursor = cnx.cursor()                   \n",
    "    \n",
    "cursor.execute(\"\"\"SELECT emp_id, fname, lname, start_date, title \n",
    "                FROM employee\n",
    "                WHERE title = 'Head Teller' \"\"\")       # Select four variables from \"employee\" only for \"Head Tellers\" \n",
    "\n",
    "results = cursor.fetchall()\n",
    "    \n",
    "cursor.close()                           \n",
    "cnx.close()                                            # disconnect\n",
    "\n",
    "pd.DataFrame(results, columns = ['emp_id', 'fname', 'lname', 'start_date', 'title']) # display results"
   ]
  },
  {
   "cell_type": "markdown",
   "metadata": {
    "slideshow": {
     "slide_type": "slide"
    }
   },
   "source": [
    "**Example:** Just like you can combine boolean objects in Python, you can also combine several boolean expressions using the keywords AND as well as OR in SQL. Boolean statements do not have to be equalities. For numerical data you can also use inequalities. Use parantheses to group boolean statements together. Which kind of employees is the following statement filtering for? \n",
    "\n",
    "```\n",
    "SELECT emp_id, fname, lname, start_date, title \n",
    "    FROM employee\n",
    "    WHERE (title = 'Head Teller' AND start_date > '2006-01-01')\n",
    "    OR (title = 'Teller' AND start_date > '2007-01-01');\n",
    "```"
   ]
  },
  {
   "cell_type": "markdown",
   "metadata": {
    "slideshow": {
     "slide_type": "fragment"
    }
   },
   "source": [
    "**Answer:** Head Tellers who started after January 1, 2006 as well as Tellers who started after Jan 1st 2007. "
   ]
  },
  {
   "cell_type": "markdown",
   "metadata": {
    "slideshow": {
     "slide_type": "slide"
    }
   },
   "source": [
    "**Note of Caution:** It is possible to write Python scripts that accept user input that is then used to filter the data. When you do that, you have to be extremely careful how you write the code. A \"SQL Injection\" is a web hacking technique in which \"bad guys\" try to place malicious code in SQL statements, often via web page input. "
   ]
  },
  {
   "cell_type": "markdown",
   "metadata": {
    "slideshow": {
     "slide_type": "slide"
    }
   },
   "source": [
    "**Example:** Suppose we want to leave it up to the user to provide the string for \"title\" that is used to filter the first and last names of employees in the \"employee\" table. Here is one (**bad!!**) way of how to write the code using string concatenation."
   ]
  },
  {
   "cell_type": "code",
   "execution_count": 21,
   "metadata": {},
   "outputs": [
    {
     "name": "stdout",
     "output_type": "stream",
     "text": [
      "please provide the job title you would like to filter by: Teller\n",
      "This is your input statement:\n",
      "SELECT lname, fname, title FROM employee WHERE title = 'Teller'\n"
     ]
    },
    {
     "data": {
      "text/html": [
       "<div>\n",
       "<style scoped>\n",
       "    .dataframe tbody tr th:only-of-type {\n",
       "        vertical-align: middle;\n",
       "    }\n",
       "\n",
       "    .dataframe tbody tr th {\n",
       "        vertical-align: top;\n",
       "    }\n",
       "\n",
       "    .dataframe thead th {\n",
       "        text-align: right;\n",
       "    }\n",
       "</style>\n",
       "<table border=\"1\" class=\"dataframe\">\n",
       "  <thead>\n",
       "    <tr style=\"text-align: right;\">\n",
       "      <th></th>\n",
       "      <th>lname</th>\n",
       "      <th>fname</th>\n",
       "      <th>title</th>\n",
       "    </tr>\n",
       "  </thead>\n",
       "  <tbody>\n",
       "    <tr>\n",
       "      <td>0</td>\n",
       "      <td>Tucker</td>\n",
       "      <td>Chris</td>\n",
       "      <td>Teller</td>\n",
       "    </tr>\n",
       "    <tr>\n",
       "      <td>1</td>\n",
       "      <td>Parker</td>\n",
       "      <td>Sarah</td>\n",
       "      <td>Teller</td>\n",
       "    </tr>\n",
       "    <tr>\n",
       "      <td>2</td>\n",
       "      <td>Grossman</td>\n",
       "      <td>Jane</td>\n",
       "      <td>Teller</td>\n",
       "    </tr>\n",
       "    <tr>\n",
       "      <td>3</td>\n",
       "      <td>Ziegler</td>\n",
       "      <td>Thomas</td>\n",
       "      <td>Teller</td>\n",
       "    </tr>\n",
       "    <tr>\n",
       "      <td>4</td>\n",
       "      <td>Jameson</td>\n",
       "      <td>Samantha</td>\n",
       "      <td>Teller</td>\n",
       "    </tr>\n",
       "    <tr>\n",
       "      <td>5</td>\n",
       "      <td>Mason</td>\n",
       "      <td>Cindy</td>\n",
       "      <td>Teller</td>\n",
       "    </tr>\n",
       "    <tr>\n",
       "      <td>6</td>\n",
       "      <td>Portman</td>\n",
       "      <td>Frank</td>\n",
       "      <td>Teller</td>\n",
       "    </tr>\n",
       "    <tr>\n",
       "      <td>7</td>\n",
       "      <td>Fowler</td>\n",
       "      <td>Beth</td>\n",
       "      <td>Teller</td>\n",
       "    </tr>\n",
       "    <tr>\n",
       "      <td>8</td>\n",
       "      <td>Tulman</td>\n",
       "      <td>Rick</td>\n",
       "      <td>Teller</td>\n",
       "    </tr>\n",
       "  </tbody>\n",
       "</table>\n",
       "</div>"
      ],
      "text/plain": [
       "      lname     fname   title\n",
       "0    Tucker     Chris  Teller\n",
       "1    Parker     Sarah  Teller\n",
       "2  Grossman      Jane  Teller\n",
       "3   Ziegler    Thomas  Teller\n",
       "4   Jameson  Samantha  Teller\n",
       "5     Mason     Cindy  Teller\n",
       "6   Portman     Frank  Teller\n",
       "7    Fowler      Beth  Teller\n",
       "8    Tulman      Rick  Teller"
      ]
     },
     "execution_count": 21,
     "metadata": {},
     "output_type": "execute_result"
    }
   ],
   "source": [
    "input_title = input(\"please provide the job title you would like to filter by: \")   # collect user input as a string\n",
    "        # e.g., Teller or Head Teller or President\n",
    "\n",
    "cnx = mysql.connector.connect(**config)                                             # connect \n",
    "cursor = cnx.cursor()                  \n",
    "\n",
    "query = \"SELECT lname, fname, title FROM employee WHERE title = '\" + input_title + \"'\" \n",
    "\n",
    "print(\"This is your input statement:\")                                              # print out the query statment with  \n",
    "print(query)                                                                        # user input incorporated                                                           \n",
    "\n",
    "cursor.execute(query)       \n",
    "\n",
    "results = cursor.fetchall()\n",
    "    \n",
    "cursor.close()                          \n",
    "cnx.close()                                                                         # disconnect\n",
    "\n",
    "pd.DataFrame(results, columns = ['lname', 'fname', 'title'])                        # format table"
   ]
  },
  {
   "cell_type": "markdown",
   "metadata": {
    "slideshow": {
     "slide_type": "slide"
    }
   },
   "source": [
    "**Question:** what would happen, if a user entered the string \n",
    "\n",
    "```\n",
    "anything' OR '1'='1\n",
    "```\n",
    "\n",
    "Go ahead, try it... "
   ]
  },
  {
   "cell_type": "code",
   "execution_count": 22,
   "metadata": {},
   "outputs": [
    {
     "name": "stdout",
     "output_type": "stream",
     "text": [
      "please provide the job title you would like to filter by: Teller\n",
      "This is your input statement:\n",
      "SELECT lname, fname, title FROM employee WHERE title = 'Teller'\n"
     ]
    },
    {
     "data": {
      "text/html": [
       "<div>\n",
       "<style scoped>\n",
       "    .dataframe tbody tr th:only-of-type {\n",
       "        vertical-align: middle;\n",
       "    }\n",
       "\n",
       "    .dataframe tbody tr th {\n",
       "        vertical-align: top;\n",
       "    }\n",
       "\n",
       "    .dataframe thead th {\n",
       "        text-align: right;\n",
       "    }\n",
       "</style>\n",
       "<table border=\"1\" class=\"dataframe\">\n",
       "  <thead>\n",
       "    <tr style=\"text-align: right;\">\n",
       "      <th></th>\n",
       "      <th>lname</th>\n",
       "      <th>fname</th>\n",
       "      <th>title</th>\n",
       "    </tr>\n",
       "  </thead>\n",
       "  <tbody>\n",
       "    <tr>\n",
       "      <td>0</td>\n",
       "      <td>Tucker</td>\n",
       "      <td>Chris</td>\n",
       "      <td>Teller</td>\n",
       "    </tr>\n",
       "    <tr>\n",
       "      <td>1</td>\n",
       "      <td>Parker</td>\n",
       "      <td>Sarah</td>\n",
       "      <td>Teller</td>\n",
       "    </tr>\n",
       "    <tr>\n",
       "      <td>2</td>\n",
       "      <td>Grossman</td>\n",
       "      <td>Jane</td>\n",
       "      <td>Teller</td>\n",
       "    </tr>\n",
       "    <tr>\n",
       "      <td>3</td>\n",
       "      <td>Ziegler</td>\n",
       "      <td>Thomas</td>\n",
       "      <td>Teller</td>\n",
       "    </tr>\n",
       "    <tr>\n",
       "      <td>4</td>\n",
       "      <td>Jameson</td>\n",
       "      <td>Samantha</td>\n",
       "      <td>Teller</td>\n",
       "    </tr>\n",
       "    <tr>\n",
       "      <td>5</td>\n",
       "      <td>Mason</td>\n",
       "      <td>Cindy</td>\n",
       "      <td>Teller</td>\n",
       "    </tr>\n",
       "    <tr>\n",
       "      <td>6</td>\n",
       "      <td>Portman</td>\n",
       "      <td>Frank</td>\n",
       "      <td>Teller</td>\n",
       "    </tr>\n",
       "    <tr>\n",
       "      <td>7</td>\n",
       "      <td>Fowler</td>\n",
       "      <td>Beth</td>\n",
       "      <td>Teller</td>\n",
       "    </tr>\n",
       "    <tr>\n",
       "      <td>8</td>\n",
       "      <td>Tulman</td>\n",
       "      <td>Rick</td>\n",
       "      <td>Teller</td>\n",
       "    </tr>\n",
       "  </tbody>\n",
       "</table>\n",
       "</div>"
      ],
      "text/plain": [
       "      lname     fname   title\n",
       "0    Tucker     Chris  Teller\n",
       "1    Parker     Sarah  Teller\n",
       "2  Grossman      Jane  Teller\n",
       "3   Ziegler    Thomas  Teller\n",
       "4   Jameson  Samantha  Teller\n",
       "5     Mason     Cindy  Teller\n",
       "6   Portman     Frank  Teller\n",
       "7    Fowler      Beth  Teller\n",
       "8    Tulman      Rick  Teller"
      ]
     },
     "execution_count": 22,
     "metadata": {},
     "output_type": "execute_result"
    }
   ],
   "source": [
    "input_title = input(\"please provide the job title you would like to filter by: \")   # collect user input as a string\n",
    "        # e.g., Teller or Head Teller or President\n",
    "\n",
    "cnx = mysql.connector.connect(**config)                                             # connect \n",
    "cursor = cnx.cursor()                  \n",
    "\n",
    "query = \"SELECT lname, fname, title FROM employee WHERE title = '\" + input_title + \"'\" \n",
    "\n",
    "print(\"This is your input statement:\")                                              # print out the query statment with  \n",
    "print(query)                                                                        # user input incorporated                                                           \n",
    "\n",
    "cursor.execute(query)       \n",
    "\n",
    "results = cursor.fetchall()\n",
    "    \n",
    "cursor.close()                          \n",
    "cnx.close()                                                                         # disconnect\n",
    "\n",
    "pd.DataFrame(results, columns = ['lname', 'fname', 'title'])    "
   ]
  },
  {
   "cell_type": "markdown",
   "metadata": {
    "slideshow": {
     "slide_type": "slide"
    }
   },
   "source": [
    "And then **think about** what would happen if a user entered the following statement instead\n",
    "\n",
    "```\n",
    "Teller'; DELETE ALL FROM customers; --\n",
    "```\n",
    "\n",
    "**Note:** the \"--\" is SQL's way to insert a comment into a line of code. "
   ]
  },
  {
   "cell_type": "code",
   "execution_count": 23,
   "metadata": {},
   "outputs": [
    {
     "name": "stdout",
     "output_type": "stream",
     "text": [
      "please provide the job title you would like to filter by: Teller\n",
      "This is your input statement:\n",
      "SELECT lname, fname, title FROM employee WHERE title = 'Teller'\n"
     ]
    }
   ],
   "source": [
    "input_title = input(\"please provide the job title you would like to filter by: \")   # collect user input as a string\n",
    "        # e.g., Teller or Head Teller or President\n",
    "\n",
    "cnx = mysql.connector.connect(**config)                                             # connect \n",
    "cursor = cnx.cursor()                  \n",
    "\n",
    "query = \"SELECT lname, fname, title FROM employee WHERE title = '\" + input_title + \"'\" \n",
    "\n",
    "print(\"This is your input statement:\")                                              # print out the query statment with  \n",
    "print(query)                                                                        # user input incorporated                                                           \n",
    "\n",
    "# cursor.execute(query)       \n",
    "\n",
    "# results = cursor.fetchall()\n",
    "    \n",
    "cursor.close()                          \n",
    "cnx.close()                                                                         # disconnect"
   ]
  },
  {
   "cell_type": "markdown",
   "metadata": {
    "slideshow": {
     "slide_type": "slide"
    }
   },
   "source": [
    "In the latter case, if we were to uncomment the ```cursor.execute(query)``` statement,  ```mysql connector python``` would actually produce an error since the execute function can only execute one SQL command at a time. You could try to include a ```multi = True``` argument into your ```cursor.execute()``` function, but then you would have to load the data again from file afterwards :-)\n",
    "\n",
    "However, SQL commands can be executed in many ways: often they are run through web-sites where input may come through the url directly or through other forms of user input. If the SQL statements are not written carefully, then they make the database vulnerable to malicious activity. \n",
    "\n",
    "If you're interested in reading more about these kinds of attacks, the [Wikipedia site on SQL injection](https://en.wikipedia.org/wiki/SQL_injection) is a good place to start. "
   ]
  },
  {
   "cell_type": "markdown",
   "metadata": {
    "slideshow": {
     "slide_type": "slide"
    }
   },
   "source": [
    "**Example:** To avoid this problem, use Python's ability to insert variables into string statements directly. "
   ]
  },
  {
   "cell_type": "code",
   "execution_count": 24,
   "metadata": {},
   "outputs": [
    {
     "name": "stdout",
     "output_type": "stream",
     "text": [
      "please provide the job title you would like to filter by: Teller\n"
     ]
    },
    {
     "data": {
      "text/html": [
       "<div>\n",
       "<style scoped>\n",
       "    .dataframe tbody tr th:only-of-type {\n",
       "        vertical-align: middle;\n",
       "    }\n",
       "\n",
       "    .dataframe tbody tr th {\n",
       "        vertical-align: top;\n",
       "    }\n",
       "\n",
       "    .dataframe thead th {\n",
       "        text-align: right;\n",
       "    }\n",
       "</style>\n",
       "<table border=\"1\" class=\"dataframe\">\n",
       "  <thead>\n",
       "    <tr style=\"text-align: right;\">\n",
       "      <th></th>\n",
       "      <th>lname</th>\n",
       "      <th>fname</th>\n",
       "      <th>title</th>\n",
       "    </tr>\n",
       "  </thead>\n",
       "  <tbody>\n",
       "    <tr>\n",
       "      <td>0</td>\n",
       "      <td>Tucker</td>\n",
       "      <td>Chris</td>\n",
       "      <td>Teller</td>\n",
       "    </tr>\n",
       "    <tr>\n",
       "      <td>1</td>\n",
       "      <td>Parker</td>\n",
       "      <td>Sarah</td>\n",
       "      <td>Teller</td>\n",
       "    </tr>\n",
       "    <tr>\n",
       "      <td>2</td>\n",
       "      <td>Grossman</td>\n",
       "      <td>Jane</td>\n",
       "      <td>Teller</td>\n",
       "    </tr>\n",
       "    <tr>\n",
       "      <td>3</td>\n",
       "      <td>Ziegler</td>\n",
       "      <td>Thomas</td>\n",
       "      <td>Teller</td>\n",
       "    </tr>\n",
       "    <tr>\n",
       "      <td>4</td>\n",
       "      <td>Jameson</td>\n",
       "      <td>Samantha</td>\n",
       "      <td>Teller</td>\n",
       "    </tr>\n",
       "    <tr>\n",
       "      <td>5</td>\n",
       "      <td>Mason</td>\n",
       "      <td>Cindy</td>\n",
       "      <td>Teller</td>\n",
       "    </tr>\n",
       "    <tr>\n",
       "      <td>6</td>\n",
       "      <td>Portman</td>\n",
       "      <td>Frank</td>\n",
       "      <td>Teller</td>\n",
       "    </tr>\n",
       "    <tr>\n",
       "      <td>7</td>\n",
       "      <td>Fowler</td>\n",
       "      <td>Beth</td>\n",
       "      <td>Teller</td>\n",
       "    </tr>\n",
       "    <tr>\n",
       "      <td>8</td>\n",
       "      <td>Tulman</td>\n",
       "      <td>Rick</td>\n",
       "      <td>Teller</td>\n",
       "    </tr>\n",
       "  </tbody>\n",
       "</table>\n",
       "</div>"
      ],
      "text/plain": [
       "      lname     fname   title\n",
       "0    Tucker     Chris  Teller\n",
       "1    Parker     Sarah  Teller\n",
       "2  Grossman      Jane  Teller\n",
       "3   Ziegler    Thomas  Teller\n",
       "4   Jameson  Samantha  Teller\n",
       "5     Mason     Cindy  Teller\n",
       "6   Portman     Frank  Teller\n",
       "7    Fowler      Beth  Teller\n",
       "8    Tulman      Rick  Teller"
      ]
     },
     "execution_count": 24,
     "metadata": {},
     "output_type": "execute_result"
    }
   ],
   "source": [
    "input_title = input(\"please provide the job title you would like to filter by: \")\n",
    "        # e.g., Teller or Head Teller (also try anything' OR '1'='1)\n",
    "\n",
    "cnx = mysql.connector.connect(**config) # connect \n",
    "cursor = cnx.cursor()                   \n",
    "\n",
    "\n",
    "sql = \"\"\"SELECT lname, fname, title\n",
    "                FROM employee\n",
    "                WHERE title = %s\"\"\"\n",
    "title = (input_title, )                 # provide the input as a tuple with just one element\n",
    "\n",
    "cursor.execute(sql, title)              # a different way to incorporate user input that is less vulnerable to attack\n",
    "\n",
    "results = cursor.fetchall()\n",
    "    \n",
    "cursor.close()                          \n",
    "cnx.close()                             # close connection\n",
    "\n",
    "pd.DataFrame(results, columns = ['lname', 'fname', 'title'])"
   ]
  },
  {
   "cell_type": "markdown",
   "metadata": {
    "slideshow": {
     "slide_type": "slide"
    }
   },
   "source": [
    "### The GROUP BY clause\n",
    "\n",
    "The GROUP BY statement allows you to group the results of a query by common values. The HAVING statement plays the same role for GROUP BY as WHERE does for SELECT. That means, it can be used as a filter for results who fulfill a specific GROUP BY condition. \n",
    "\n",
    "For example, in our database, the table \"department\" contains the names of different departments and department ID's. Whereas the employee table also contains department ID's for each employee but no department names. Suppose we want to find the names of all departments with at least two employees. "
   ]
  },
  {
   "cell_type": "markdown",
   "metadata": {
    "slideshow": {
     "slide_type": "slide"
    }
   },
   "source": [
    "We could do the following:\n",
    "* join the department and employee tables on the common column \"emp_id\"\n",
    "* group the results and filter by count>2\n",
    "* select the department name from the result as well as the count of employees to display"
   ]
  },
  {
   "cell_type": "code",
   "execution_count": 25,
   "metadata": {},
   "outputs": [
    {
     "data": {
      "text/html": [
       "<div>\n",
       "<style scoped>\n",
       "    .dataframe tbody tr th:only-of-type {\n",
       "        vertical-align: middle;\n",
       "    }\n",
       "\n",
       "    .dataframe tbody tr th {\n",
       "        vertical-align: top;\n",
       "    }\n",
       "\n",
       "    .dataframe thead th {\n",
       "        text-align: right;\n",
       "    }\n",
       "</style>\n",
       "<table border=\"1\" class=\"dataframe\">\n",
       "  <thead>\n",
       "    <tr style=\"text-align: right;\">\n",
       "      <th></th>\n",
       "      <th>name</th>\n",
       "      <th>employee number</th>\n",
       "    </tr>\n",
       "  </thead>\n",
       "  <tbody>\n",
       "    <tr>\n",
       "      <td>0</td>\n",
       "      <td>Operations</td>\n",
       "      <td>14</td>\n",
       "    </tr>\n",
       "    <tr>\n",
       "      <td>1</td>\n",
       "      <td>Administration</td>\n",
       "      <td>3</td>\n",
       "    </tr>\n",
       "  </tbody>\n",
       "</table>\n",
       "</div>"
      ],
      "text/plain": [
       "             name  employee number\n",
       "0      Operations               14\n",
       "1  Administration                3"
      ]
     },
     "execution_count": 25,
     "metadata": {},
     "output_type": "execute_result"
    }
   ],
   "source": [
    "cnx = mysql.connector.connect(**config) # connect with config-user details\n",
    "cursor = cnx.cursor()                   # cursor object \n",
    "    \n",
    "cursor.execute(\"\"\"SELECT d.name, count(e.emp_id) AS num_employees\n",
    "                    FROM department AS d INNER JOIN employee AS e\n",
    "                        ON d.dept_id = e.dept_id\n",
    "                    GROUP BY d.name\n",
    "                    HAVING count(e.emp_id) > 2\"\"\")       \n",
    "\n",
    "results = cursor.fetchall()\n",
    "    \n",
    "cursor.close()                          # close.cursor()\n",
    "cnx.close()  \n",
    "\n",
    "pd.DataFrame(results, columns = ['name', 'employee number'])"
   ]
  },
  {
   "cell_type": "markdown",
   "metadata": {
    "slideshow": {
     "slide_type": "slide"
    }
   },
   "source": [
    "**Note:** there are other ways to aggregate data from a SQL query. For instance, you may want to find the mean of all results that fulfill certain conditions. Or use MIN(), MAX(), SUM() functions. Time permitting, we'll look at those aggregating statements in more detail later. "
   ]
  },
  {
   "cell_type": "markdown",
   "metadata": {
    "slideshow": {
     "slide_type": "slide"
    }
   },
   "source": [
    "### The ORDER BY clause\n",
    "\n",
    "When you filter data from a table using SELECT and WHERE statements, the results are returned not in any particular order. If you would like to return the results ordered by one or more columns, you can specify that through the ORDER clause. \n",
    "\n",
    "The general syntax looks like this:\n",
    "\n",
    "```\n",
    "SELECT column1, column2, ...\n",
    "FROM table_name\n",
    "ORDER BY column1, column2, ... ASC|DESC; \n",
    "```\n",
    "\n",
    "where you can specify whether you want ascending (ASC) or descending (DESC) order in each column. "
   ]
  },
  {
   "cell_type": "markdown",
   "metadata": {
    "slideshow": {
     "slide_type": "slide"
    }
   },
   "source": [
    "**Example:** The \"account\" table has one row per account and contains columns \"open_emp_id\" (presumably the employee who opened the account) and \"product_cd\" (the code for the account product like checking (CHK) or saving (SAV) etc.) If you want to study employee activity in different product types, you could extract employee ID's as well as product codes and order the results first by employee and then by product code. "
   ]
  },
  {
   "cell_type": "code",
   "execution_count": 26,
   "metadata": {},
   "outputs": [
    {
     "data": {
      "text/html": [
       "<div>\n",
       "<style scoped>\n",
       "    .dataframe tbody tr th:only-of-type {\n",
       "        vertical-align: middle;\n",
       "    }\n",
       "\n",
       "    .dataframe tbody tr th {\n",
       "        vertical-align: top;\n",
       "    }\n",
       "\n",
       "    .dataframe thead th {\n",
       "        text-align: right;\n",
       "    }\n",
       "</style>\n",
       "<table border=\"1\" class=\"dataframe\">\n",
       "  <thead>\n",
       "    <tr style=\"text-align: right;\">\n",
       "      <th></th>\n",
       "      <th>employee ID</th>\n",
       "      <th>product code</th>\n",
       "    </tr>\n",
       "  </thead>\n",
       "  <tbody>\n",
       "    <tr>\n",
       "      <td>0</td>\n",
       "      <td>1</td>\n",
       "      <td>CD</td>\n",
       "    </tr>\n",
       "    <tr>\n",
       "      <td>1</td>\n",
       "      <td>1</td>\n",
       "      <td>CD</td>\n",
       "    </tr>\n",
       "    <tr>\n",
       "      <td>2</td>\n",
       "      <td>1</td>\n",
       "      <td>CD</td>\n",
       "    </tr>\n",
       "    <tr>\n",
       "      <td>3</td>\n",
       "      <td>1</td>\n",
       "      <td>CD</td>\n",
       "    </tr>\n",
       "    <tr>\n",
       "      <td>4</td>\n",
       "      <td>1</td>\n",
       "      <td>CD</td>\n",
       "    </tr>\n",
       "    <tr>\n",
       "      <td>...</td>\n",
       "      <td>...</td>\n",
       "      <td>...</td>\n",
       "    </tr>\n",
       "    <tr>\n",
       "      <td>67</td>\n",
       "      <td>16</td>\n",
       "      <td>CHK</td>\n",
       "    </tr>\n",
       "    <tr>\n",
       "      <td>68</td>\n",
       "      <td>16</td>\n",
       "      <td>CHK</td>\n",
       "    </tr>\n",
       "    <tr>\n",
       "      <td>69</td>\n",
       "      <td>16</td>\n",
       "      <td>SAV</td>\n",
       "    </tr>\n",
       "    <tr>\n",
       "      <td>70</td>\n",
       "      <td>16</td>\n",
       "      <td>SAV</td>\n",
       "    </tr>\n",
       "    <tr>\n",
       "      <td>71</td>\n",
       "      <td>16</td>\n",
       "      <td>SAV</td>\n",
       "    </tr>\n",
       "  </tbody>\n",
       "</table>\n",
       "<p>72 rows × 2 columns</p>\n",
       "</div>"
      ],
      "text/plain": [
       "    employee ID product code\n",
       "0             1           CD\n",
       "1             1           CD\n",
       "2             1           CD\n",
       "3             1           CD\n",
       "4             1           CD\n",
       "..          ...          ...\n",
       "67           16          CHK\n",
       "68           16          CHK\n",
       "69           16          SAV\n",
       "70           16          SAV\n",
       "71           16          SAV\n",
       "\n",
       "[72 rows x 2 columns]"
      ]
     },
     "execution_count": 26,
     "metadata": {},
     "output_type": "execute_result"
    }
   ],
   "source": [
    "cnx = mysql.connector.connect(**config) \n",
    "cursor = cnx.cursor()                   \n",
    "    \n",
    "cursor.execute(\"\"\"SELECT open_emp_id, product_cd\n",
    "                  FROM account\n",
    "                  ORDER BY open_emp_id ASC, product_cd ASC\"\"\")       \n",
    "\n",
    "results = cursor.fetchall()\n",
    "    \n",
    "cursor.close()                         \n",
    "cnx.close()  \n",
    "\n",
    "pd.DataFrame(results, columns = ['employee ID', 'product code'])"
   ]
  },
  {
   "cell_type": "markdown",
   "metadata": {
    "slideshow": {
     "slide_type": "slide"
    }
   },
   "source": [
    "**Example:** You can also order by values that are derived from the data, but that are not the actual data themselves. The \"RIGHT(value, n)\" function returns the last n entries of the value argument. So, if you would like to order customers by the last four digits of federal ID (think SSN), then you could do that with the following code:"
   ]
  },
  {
   "cell_type": "code",
   "execution_count": 27,
   "metadata": {},
   "outputs": [
    {
     "data": {
      "text/html": [
       "<div>\n",
       "<style scoped>\n",
       "    .dataframe tbody tr th:only-of-type {\n",
       "        vertical-align: middle;\n",
       "    }\n",
       "\n",
       "    .dataframe tbody tr th {\n",
       "        vertical-align: top;\n",
       "    }\n",
       "\n",
       "    .dataframe thead th {\n",
       "        text-align: right;\n",
       "    }\n",
       "</style>\n",
       "<table border=\"1\" class=\"dataframe\">\n",
       "  <thead>\n",
       "    <tr style=\"text-align: right;\">\n",
       "      <th></th>\n",
       "      <th>cust ID</th>\n",
       "      <th>cust_type_cd</th>\n",
       "      <th>city</th>\n",
       "      <th>state</th>\n",
       "      <th>fed_ID</th>\n",
       "    </tr>\n",
       "  </thead>\n",
       "  <tbody>\n",
       "    <tr>\n",
       "      <td>0</td>\n",
       "      <td>1</td>\n",
       "      <td>I</td>\n",
       "      <td>Lynnfield</td>\n",
       "      <td>MA</td>\n",
       "      <td>111-11-1111</td>\n",
       "    </tr>\n",
       "    <tr>\n",
       "      <td>1</td>\n",
       "      <td>10</td>\n",
       "      <td>B</td>\n",
       "      <td>Salem</td>\n",
       "      <td>NH</td>\n",
       "      <td>04-1111111</td>\n",
       "    </tr>\n",
       "    <tr>\n",
       "      <td>2</td>\n",
       "      <td>14</td>\n",
       "      <td>I</td>\n",
       "      <td>Lynnfield</td>\n",
       "      <td>MA</td>\n",
       "      <td>111-11-1111</td>\n",
       "    </tr>\n",
       "    <tr>\n",
       "      <td>3</td>\n",
       "      <td>23</td>\n",
       "      <td>B</td>\n",
       "      <td>Salem</td>\n",
       "      <td>NH</td>\n",
       "      <td>04-1111111</td>\n",
       "    </tr>\n",
       "    <tr>\n",
       "      <td>4</td>\n",
       "      <td>2</td>\n",
       "      <td>I</td>\n",
       "      <td>Woburn</td>\n",
       "      <td>MA</td>\n",
       "      <td>222-22-2222</td>\n",
       "    </tr>\n",
       "    <tr>\n",
       "      <td>5</td>\n",
       "      <td>11</td>\n",
       "      <td>B</td>\n",
       "      <td>Wilmington</td>\n",
       "      <td>MA</td>\n",
       "      <td>04-2222222</td>\n",
       "    </tr>\n",
       "    <tr>\n",
       "      <td>6</td>\n",
       "      <td>15</td>\n",
       "      <td>I</td>\n",
       "      <td>Woburn</td>\n",
       "      <td>MA</td>\n",
       "      <td>222-22-2222</td>\n",
       "    </tr>\n",
       "    <tr>\n",
       "      <td>7</td>\n",
       "      <td>24</td>\n",
       "      <td>B</td>\n",
       "      <td>Wilmington</td>\n",
       "      <td>MA</td>\n",
       "      <td>04-2222222</td>\n",
       "    </tr>\n",
       "    <tr>\n",
       "      <td>8</td>\n",
       "      <td>3</td>\n",
       "      <td>I</td>\n",
       "      <td>Quincy</td>\n",
       "      <td>MA</td>\n",
       "      <td>333-33-3333</td>\n",
       "    </tr>\n",
       "    <tr>\n",
       "      <td>9</td>\n",
       "      <td>12</td>\n",
       "      <td>B</td>\n",
       "      <td>Salem</td>\n",
       "      <td>NH</td>\n",
       "      <td>04-3333333</td>\n",
       "    </tr>\n",
       "    <tr>\n",
       "      <td>10</td>\n",
       "      <td>16</td>\n",
       "      <td>I</td>\n",
       "      <td>Quincy</td>\n",
       "      <td>MA</td>\n",
       "      <td>333-33-3333</td>\n",
       "    </tr>\n",
       "    <tr>\n",
       "      <td>11</td>\n",
       "      <td>25</td>\n",
       "      <td>B</td>\n",
       "      <td>Salem</td>\n",
       "      <td>NH</td>\n",
       "      <td>04-3333333</td>\n",
       "    </tr>\n",
       "    <tr>\n",
       "      <td>12</td>\n",
       "      <td>4</td>\n",
       "      <td>I</td>\n",
       "      <td>Waltham</td>\n",
       "      <td>MA</td>\n",
       "      <td>444-44-4444</td>\n",
       "    </tr>\n",
       "    <tr>\n",
       "      <td>13</td>\n",
       "      <td>13</td>\n",
       "      <td>B</td>\n",
       "      <td>Quincy</td>\n",
       "      <td>MA</td>\n",
       "      <td>04-4444444</td>\n",
       "    </tr>\n",
       "    <tr>\n",
       "      <td>14</td>\n",
       "      <td>17</td>\n",
       "      <td>I</td>\n",
       "      <td>Waltham</td>\n",
       "      <td>MA</td>\n",
       "      <td>444-44-4444</td>\n",
       "    </tr>\n",
       "    <tr>\n",
       "      <td>15</td>\n",
       "      <td>26</td>\n",
       "      <td>B</td>\n",
       "      <td>Quincy</td>\n",
       "      <td>MA</td>\n",
       "      <td>04-4444444</td>\n",
       "    </tr>\n",
       "    <tr>\n",
       "      <td>16</td>\n",
       "      <td>5</td>\n",
       "      <td>I</td>\n",
       "      <td>Salem</td>\n",
       "      <td>NH</td>\n",
       "      <td>555-55-5555</td>\n",
       "    </tr>\n",
       "    <tr>\n",
       "      <td>17</td>\n",
       "      <td>18</td>\n",
       "      <td>I</td>\n",
       "      <td>Salem</td>\n",
       "      <td>NH</td>\n",
       "      <td>555-55-5555</td>\n",
       "    </tr>\n",
       "    <tr>\n",
       "      <td>18</td>\n",
       "      <td>6</td>\n",
       "      <td>I</td>\n",
       "      <td>Waltham</td>\n",
       "      <td>MA</td>\n",
       "      <td>666-66-6666</td>\n",
       "    </tr>\n",
       "    <tr>\n",
       "      <td>19</td>\n",
       "      <td>19</td>\n",
       "      <td>I</td>\n",
       "      <td>Waltham</td>\n",
       "      <td>MA</td>\n",
       "      <td>666-66-6666</td>\n",
       "    </tr>\n",
       "    <tr>\n",
       "      <td>20</td>\n",
       "      <td>7</td>\n",
       "      <td>I</td>\n",
       "      <td>Wilmington</td>\n",
       "      <td>MA</td>\n",
       "      <td>777-77-7777</td>\n",
       "    </tr>\n",
       "    <tr>\n",
       "      <td>21</td>\n",
       "      <td>20</td>\n",
       "      <td>I</td>\n",
       "      <td>Wilmington</td>\n",
       "      <td>MA</td>\n",
       "      <td>777-77-7777</td>\n",
       "    </tr>\n",
       "    <tr>\n",
       "      <td>22</td>\n",
       "      <td>8</td>\n",
       "      <td>I</td>\n",
       "      <td>Salem</td>\n",
       "      <td>NH</td>\n",
       "      <td>888-88-8888</td>\n",
       "    </tr>\n",
       "    <tr>\n",
       "      <td>23</td>\n",
       "      <td>21</td>\n",
       "      <td>I</td>\n",
       "      <td>Salem</td>\n",
       "      <td>NH</td>\n",
       "      <td>888-88-8888</td>\n",
       "    </tr>\n",
       "    <tr>\n",
       "      <td>24</td>\n",
       "      <td>9</td>\n",
       "      <td>I</td>\n",
       "      <td>Newton</td>\n",
       "      <td>MA</td>\n",
       "      <td>999-99-9999</td>\n",
       "    </tr>\n",
       "    <tr>\n",
       "      <td>25</td>\n",
       "      <td>22</td>\n",
       "      <td>I</td>\n",
       "      <td>Newton</td>\n",
       "      <td>MA</td>\n",
       "      <td>999-99-9999</td>\n",
       "    </tr>\n",
       "  </tbody>\n",
       "</table>\n",
       "</div>"
      ],
      "text/plain": [
       "    cust ID cust_type_cd        city state       fed_ID\n",
       "0         1            I   Lynnfield    MA  111-11-1111\n",
       "1        10            B       Salem    NH   04-1111111\n",
       "2        14            I   Lynnfield    MA  111-11-1111\n",
       "3        23            B       Salem    NH   04-1111111\n",
       "4         2            I      Woburn    MA  222-22-2222\n",
       "5        11            B  Wilmington    MA   04-2222222\n",
       "6        15            I      Woburn    MA  222-22-2222\n",
       "7        24            B  Wilmington    MA   04-2222222\n",
       "8         3            I      Quincy    MA  333-33-3333\n",
       "9        12            B       Salem    NH   04-3333333\n",
       "10       16            I      Quincy    MA  333-33-3333\n",
       "11       25            B       Salem    NH   04-3333333\n",
       "12        4            I     Waltham    MA  444-44-4444\n",
       "13       13            B      Quincy    MA   04-4444444\n",
       "14       17            I     Waltham    MA  444-44-4444\n",
       "15       26            B      Quincy    MA   04-4444444\n",
       "16        5            I       Salem    NH  555-55-5555\n",
       "17       18            I       Salem    NH  555-55-5555\n",
       "18        6            I     Waltham    MA  666-66-6666\n",
       "19       19            I     Waltham    MA  666-66-6666\n",
       "20        7            I  Wilmington    MA  777-77-7777\n",
       "21       20            I  Wilmington    MA  777-77-7777\n",
       "22        8            I       Salem    NH  888-88-8888\n",
       "23       21            I       Salem    NH  888-88-8888\n",
       "24        9            I      Newton    MA  999-99-9999\n",
       "25       22            I      Newton    MA  999-99-9999"
      ]
     },
     "execution_count": 27,
     "metadata": {},
     "output_type": "execute_result"
    }
   ],
   "source": [
    "cnx = mysql.connector.connect(**config) \n",
    "cursor = cnx.cursor()                   \n",
    "    \n",
    "cursor.execute(\"\"\"SELECT cust_id, cust_type_cd, city, state, fed_id\n",
    "                  FROM customer\n",
    "                  ORDER BY RIGHT(fed_id, 4)\"\"\")       \n",
    "\n",
    "results = cursor.fetchall()\n",
    "    \n",
    "cursor.close()                          # close.cursor()\n",
    "cnx.close()  \n",
    "\n",
    "pd.DataFrame(results, columns = ['cust ID', 'cust_type_cd', 'city', 'state', \"fed_ID\"])"
   ]
  },
  {
   "cell_type": "markdown",
   "metadata": {},
   "source": [
    "# Querying Multiple Tables\n",
    "\n",
    "Frequently, you will need to combine information from two or more tables in order to gather the data you want. \n",
    "There are several different ways of merging tables in SQL. They are generally called \"joins\". \n",
    "\n",
    "* INNER JOIN\n",
    "* LEFT JOIN\n",
    "* RIGHT JOIN \n",
    "* OUTER JOIN\n",
    "\n",
    "They differ by how much data you will end up with in the result table. The intersection of rows (inner), all the rows in the left table (left join), all the rows in the right table (right join) or the union of rows from both tables (outer join). Most frequently in practice you will likely need inner joins and those are the type of merger will we cover next. An inner join will merge two tables by specified common columns. Often, one of these columns is the primary key of its table whereas the other column is a foreign key in its table. The two columns do not have to have the same name, but they have to refer to the same entities. "
   ]
  },
  {
   "cell_type": "markdown",
   "metadata": {},
   "source": [
    "**Example:** You have already previously seen examples of such join statements. Recall, that in the bank example the employee table has \"emp_id\" as its primary key. That same table also contains employee first and last names and department IDs but not department names. The department names can be found in the \"department\" table which contains department IDs as well as department names. "
   ]
  },
  {
   "cell_type": "code",
   "execution_count": 28,
   "metadata": {},
   "outputs": [
    {
     "name": "stdout",
     "output_type": "stream",
     "text": [
      "('Susan', 'Hawthorne', 'Operations')\n",
      "('Helen', 'Fleming', 'Operations')\n",
      "('Chris', 'Tucker', 'Operations')\n",
      "('Sarah', 'Parker', 'Operations')\n",
      "('Jane', 'Grossman', 'Operations')\n",
      "('Paula', 'Roberts', 'Operations')\n",
      "('Thomas', 'Ziegler', 'Operations')\n",
      "('Samantha', 'Jameson', 'Operations')\n",
      "('John', 'Blake', 'Operations')\n",
      "('Cindy', 'Mason', 'Operations')\n",
      "('Frank', 'Portman', 'Operations')\n",
      "('Theresa', 'Markham', 'Operations')\n",
      "('Beth', 'Fowler', 'Operations')\n",
      "('Rick', 'Tulman', 'Operations')\n",
      "('John', 'Gooding', 'Loans')\n",
      "('Michael', 'Smith', 'Administration')\n",
      "('Susan', 'Barker', 'Administration')\n",
      "('Robert', 'Tyler', 'Administration')\n"
     ]
    }
   ],
   "source": [
    "cnx = mysql.connector.connect(**config) # connect \n",
    "cursor = cnx.cursor()                   \n",
    "\n",
    "cursor.execute(\"\"\" SELECT e.fname, e.lname, d.name\n",
    "                   FROM employee AS e INNER JOIN department AS d\n",
    "                       ON e.dept_id = d.dept_id\"\"\")           \n",
    "                                        # SQL command \n",
    "\n",
    "tables = cursor.fetchall()              # fetching the result from the command line\n",
    "\n",
    "for table in tables:                    # print results\n",
    "    print(table)\n",
    "\n",
    "cursor.close()                          \n",
    "cnx.close()                             # disconnect"
   ]
  },
  {
   "cell_type": "markdown",
   "metadata": {},
   "source": [
    "**Note:** If there were departments whose IDs show up in one of the two tables but not in the other, then they would not be reflected in this resulting table. \"INNER\" is the default for joins, you could omit that word from your syntax. "
   ]
  },
  {
   "cell_type": "markdown",
   "metadata": {},
   "source": [
    "**Example:** You can also join more than two tables. For example, let's retrieve the account number and tax ID of all business accounts as well as the name (first and last) of the employee who openend the account. \n",
    "\n",
    "The information about whether an account is a personal or a business account is in the customer table. The customer table can be joined with the account table to find account numbers. Federal ID's are in the customer table. The name of the employee who opened the account is in the employee table, which can be joined with the account table through the account table's foreign key \"open_emp_id\". "
   ]
  },
  {
   "cell_type": "code",
   "execution_count": 29,
   "metadata": {},
   "outputs": [
    {
     "data": {
      "text/html": [
       "<div>\n",
       "<style scoped>\n",
       "    .dataframe tbody tr th:only-of-type {\n",
       "        vertical-align: middle;\n",
       "    }\n",
       "\n",
       "    .dataframe tbody tr th {\n",
       "        vertical-align: top;\n",
       "    }\n",
       "\n",
       "    .dataframe thead th {\n",
       "        text-align: right;\n",
       "    }\n",
       "</style>\n",
       "<table border=\"1\" class=\"dataframe\">\n",
       "  <thead>\n",
       "    <tr style=\"text-align: right;\">\n",
       "      <th></th>\n",
       "      <th>account_id</th>\n",
       "      <th>fed_id</th>\n",
       "      <th>first name</th>\n",
       "      <th>last name</th>\n",
       "    </tr>\n",
       "  </thead>\n",
       "  <tbody>\n",
       "    <tr>\n",
       "      <td>0</td>\n",
       "      <td>24</td>\n",
       "      <td>04-1111111</td>\n",
       "      <td>Theresa</td>\n",
       "      <td>Markham</td>\n",
       "    </tr>\n",
       "    <tr>\n",
       "      <td>1</td>\n",
       "      <td>25</td>\n",
       "      <td>04-1111111</td>\n",
       "      <td>Theresa</td>\n",
       "      <td>Markham</td>\n",
       "    </tr>\n",
       "    <tr>\n",
       "      <td>2</td>\n",
       "      <td>85</td>\n",
       "      <td>04-1111111</td>\n",
       "      <td>Theresa</td>\n",
       "      <td>Markham</td>\n",
       "    </tr>\n",
       "    <tr>\n",
       "      <td>3</td>\n",
       "      <td>86</td>\n",
       "      <td>04-1111111</td>\n",
       "      <td>Theresa</td>\n",
       "      <td>Markham</td>\n",
       "    </tr>\n",
       "    <tr>\n",
       "      <td>4</td>\n",
       "      <td>27</td>\n",
       "      <td>04-2222222</td>\n",
       "      <td>Paula</td>\n",
       "      <td>Roberts</td>\n",
       "    </tr>\n",
       "    <tr>\n",
       "      <td>5</td>\n",
       "      <td>92</td>\n",
       "      <td>04-2222222</td>\n",
       "      <td>Paula</td>\n",
       "      <td>Roberts</td>\n",
       "    </tr>\n",
       "    <tr>\n",
       "      <td>6</td>\n",
       "      <td>28</td>\n",
       "      <td>04-3333333</td>\n",
       "      <td>Theresa</td>\n",
       "      <td>Markham</td>\n",
       "    </tr>\n",
       "    <tr>\n",
       "      <td>7</td>\n",
       "      <td>95</td>\n",
       "      <td>04-3333333</td>\n",
       "      <td>Theresa</td>\n",
       "      <td>Markham</td>\n",
       "    </tr>\n",
       "    <tr>\n",
       "      <td>8</td>\n",
       "      <td>29</td>\n",
       "      <td>04-4444444</td>\n",
       "      <td>John</td>\n",
       "      <td>Blake</td>\n",
       "    </tr>\n",
       "    <tr>\n",
       "      <td>9</td>\n",
       "      <td>98</td>\n",
       "      <td>04-4444444</td>\n",
       "      <td>John</td>\n",
       "      <td>Blake</td>\n",
       "    </tr>\n",
       "    <tr>\n",
       "      <td>10</td>\n",
       "      <td>87</td>\n",
       "      <td>04-1111111</td>\n",
       "      <td>Theresa</td>\n",
       "      <td>Markham</td>\n",
       "    </tr>\n",
       "    <tr>\n",
       "      <td>11</td>\n",
       "      <td>88</td>\n",
       "      <td>04-1111111</td>\n",
       "      <td>Theresa</td>\n",
       "      <td>Markham</td>\n",
       "    </tr>\n",
       "    <tr>\n",
       "      <td>12</td>\n",
       "      <td>93</td>\n",
       "      <td>04-2222222</td>\n",
       "      <td>Paula</td>\n",
       "      <td>Roberts</td>\n",
       "    </tr>\n",
       "    <tr>\n",
       "      <td>13</td>\n",
       "      <td>96</td>\n",
       "      <td>04-3333333</td>\n",
       "      <td>Theresa</td>\n",
       "      <td>Markham</td>\n",
       "    </tr>\n",
       "    <tr>\n",
       "      <td>14</td>\n",
       "      <td>99</td>\n",
       "      <td>04-4444444</td>\n",
       "      <td>John</td>\n",
       "      <td>Blake</td>\n",
       "    </tr>\n",
       "  </tbody>\n",
       "</table>\n",
       "</div>"
      ],
      "text/plain": [
       "    account_id      fed_id first name last name\n",
       "0           24  04-1111111    Theresa   Markham\n",
       "1           25  04-1111111    Theresa   Markham\n",
       "2           85  04-1111111    Theresa   Markham\n",
       "3           86  04-1111111    Theresa   Markham\n",
       "4           27  04-2222222      Paula   Roberts\n",
       "5           92  04-2222222      Paula   Roberts\n",
       "6           28  04-3333333    Theresa   Markham\n",
       "7           95  04-3333333    Theresa   Markham\n",
       "8           29  04-4444444       John     Blake\n",
       "9           98  04-4444444       John     Blake\n",
       "10          87  04-1111111    Theresa   Markham\n",
       "11          88  04-1111111    Theresa   Markham\n",
       "12          93  04-2222222      Paula   Roberts\n",
       "13          96  04-3333333    Theresa   Markham\n",
       "14          99  04-4444444       John     Blake"
      ]
     },
     "execution_count": 29,
     "metadata": {},
     "output_type": "execute_result"
    }
   ],
   "source": [
    "cnx = mysql.connector.connect(**config) # connect \n",
    "cursor = cnx.cursor()                   \n",
    "\n",
    "cursor.execute(\"\"\" SELECT a.account_id, c.fed_id, e.fname, e.lname\n",
    "                    FROM account AS a INNER JOIN customer AS c\n",
    "                    ON a.cust_id = c.cust_id\n",
    "                    INNER JOIN employee AS e\n",
    "                    ON a.open_emp_id = e.emp_id\n",
    "                    WHERE c.cust_type_cd = 'B'\"\"\")                        # SQL command  \n",
    "                                        \n",
    "result = cursor.fetchall()              # fetching the result from the command line\n",
    "\n",
    "cursor.close()                          \n",
    "cnx.close()    \n",
    "\n",
    "pd.DataFrame(result, columns=['account_id', 'fed_id', 'first name', 'last name'])"
   ]
  },
  {
   "cell_type": "markdown",
   "metadata": {},
   "source": [
    "**Note:** In the above example, we are combining the three tables \"account\", \"customer\", and \"employee\". You can choose in which order you combine the accounts. Here \"accounts\" is linked to both customers and employees, but employees and customers are not linked to each other. That means that you have two options: You can first join accounts and customers and then join in employees (as in the above example) or you could have first joined accounts and employees and then joined in customers. It also does not matter in your first JOIN statement, in which order you specify the tables. \n",
    "\n",
    "In general, the manner in which a SQL query that you write is actually executed is left to a component of your database called the \"optimizer\". The optimizer will try to find an efficient way to carry out the procedure specified in your statement. It is possible to control the optimizer's decisions on how to carry out a procedure by specifying \"optimizer hints\".\n",
    "\n",
    "**Caution:** If your \"hints\" are not very good, there is a reasonable chance, that you will be making your machine work harder rather than make things more efficient. Therefore, only provide \"hints\" if you're really sure you know what you're doing. That will likely not be the case for most of you after 2 weeks of learning SQL. If you are interested in learning more, [read this](https://www.red-gate.com/simple-talk/sql/oracle/a-beginners-guide-to-optimizer-hints/), for example. "
   ]
  },
  {
   "cell_type": "markdown",
   "metadata": {},
   "source": [
    "## Self Joins\n",
    "\n",
    "Sometimes, you may have to join a table to itself. Consider the employee table for instance, which contains the variables emp_ID, fname, lname and superior_emp_id. The latter is the ID of the supervisor of the employee with emp_ID. Suppose you want to create a table of all employees at Headquarters together with the names of their supervisors. "
   ]
  },
  {
   "cell_type": "markdown",
   "metadata": {},
   "source": [
    "That can be done by joining the employee table to itself. "
   ]
  },
  {
   "cell_type": "code",
   "execution_count": 30,
   "metadata": {},
   "outputs": [
    {
     "data": {
      "text/html": [
       "<div>\n",
       "<style scoped>\n",
       "    .dataframe tbody tr th:only-of-type {\n",
       "        vertical-align: middle;\n",
       "    }\n",
       "\n",
       "    .dataframe tbody tr th {\n",
       "        vertical-align: top;\n",
       "    }\n",
       "\n",
       "    .dataframe thead th {\n",
       "        text-align: right;\n",
       "    }\n",
       "</style>\n",
       "<table border=\"1\" class=\"dataframe\">\n",
       "  <thead>\n",
       "    <tr style=\"text-align: right;\">\n",
       "      <th></th>\n",
       "      <th>employee first name</th>\n",
       "      <th>employee last name</th>\n",
       "      <th>manager first name</th>\n",
       "      <th>manager last name</th>\n",
       "    </tr>\n",
       "  </thead>\n",
       "  <tbody>\n",
       "    <tr>\n",
       "      <td>0</td>\n",
       "      <td>Susan</td>\n",
       "      <td>Barker</td>\n",
       "      <td>Michael</td>\n",
       "      <td>Smith</td>\n",
       "    </tr>\n",
       "    <tr>\n",
       "      <td>1</td>\n",
       "      <td>Robert</td>\n",
       "      <td>Tyler</td>\n",
       "      <td>Michael</td>\n",
       "      <td>Smith</td>\n",
       "    </tr>\n",
       "    <tr>\n",
       "      <td>2</td>\n",
       "      <td>Susan</td>\n",
       "      <td>Hawthorne</td>\n",
       "      <td>Robert</td>\n",
       "      <td>Tyler</td>\n",
       "    </tr>\n",
       "    <tr>\n",
       "      <td>3</td>\n",
       "      <td>John</td>\n",
       "      <td>Gooding</td>\n",
       "      <td>Susan</td>\n",
       "      <td>Hawthorne</td>\n",
       "    </tr>\n",
       "    <tr>\n",
       "      <td>4</td>\n",
       "      <td>Helen</td>\n",
       "      <td>Fleming</td>\n",
       "      <td>Susan</td>\n",
       "      <td>Hawthorne</td>\n",
       "    </tr>\n",
       "    <tr>\n",
       "      <td>5</td>\n",
       "      <td>Chris</td>\n",
       "      <td>Tucker</td>\n",
       "      <td>Helen</td>\n",
       "      <td>Fleming</td>\n",
       "    </tr>\n",
       "    <tr>\n",
       "      <td>6</td>\n",
       "      <td>Sarah</td>\n",
       "      <td>Parker</td>\n",
       "      <td>Helen</td>\n",
       "      <td>Fleming</td>\n",
       "    </tr>\n",
       "    <tr>\n",
       "      <td>7</td>\n",
       "      <td>Jane</td>\n",
       "      <td>Grossman</td>\n",
       "      <td>Helen</td>\n",
       "      <td>Fleming</td>\n",
       "    </tr>\n",
       "  </tbody>\n",
       "</table>\n",
       "</div>"
      ],
      "text/plain": [
       "  employee first name employee last name manager first name manager last name\n",
       "0               Susan             Barker            Michael             Smith\n",
       "1              Robert              Tyler            Michael             Smith\n",
       "2               Susan          Hawthorne             Robert             Tyler\n",
       "3                John            Gooding              Susan         Hawthorne\n",
       "4               Helen            Fleming              Susan         Hawthorne\n",
       "5               Chris             Tucker              Helen           Fleming\n",
       "6               Sarah             Parker              Helen           Fleming\n",
       "7                Jane           Grossman              Helen           Fleming"
      ]
     },
     "execution_count": 30,
     "metadata": {},
     "output_type": "execute_result"
    }
   ],
   "source": [
    "cnx = mysql.connector.connect(**config) # connect \n",
    "cursor = cnx.cursor()                   \n",
    "\n",
    "cursor.execute(\"\"\" SELECT e.fname, e.lname, e_mgr.fname mgr_fname, e_mgr.lname mgr_lname\n",
    "                     FROM employee AS e INNER JOIN employee AS e_mgr\n",
    "                     ON e.superior_emp_id = e_mgr.emp_id\n",
    "                     INNER JOIN branch AS b\n",
    "                     ON e.assigned_branch_id=b.branch_id \n",
    "                     WHERE b.name = 'Headquarters'\"\"\")                        # SQL command  \n",
    "                                        \n",
    "result = cursor.fetchall()              # fetching the result from the command line\n",
    "\n",
    "cursor.close()                          \n",
    "cnx.close()    \n",
    "\n",
    "pd.DataFrame(result, columns=['employee first name', 'employee last name', 'manager first name', 'manager last name'])"
   ]
  },
  {
   "cell_type": "markdown",
   "metadata": {},
   "source": [
    "## Grouping and Aggregating\n",
    "\n",
    "Data is usually stored at the level of the lowest entity of interest. In the case of the bank data, we might have data on transactions, which are nested within accounts which are nested within customers, which are nested within branches, for example. You might want to aggregate data at any of these levels: How many transactions are there on average during a certain time frame per account, or per customer, or per branch? Similarly, you could also aggregate the total amount of transactions.\n",
    "\n",
    "If you will use SQL in your future jobs, then there is a good chance that you will be asked to aggregate data from your employers database to generate tables that show descriptive statistics for some quantity of interest. \n",
    "\n",
    "The GROUP BY clause (which we have encountered previously briefly when we discussed how to query data) is what you usually use to aggregate your data. "
   ]
  },
  {
   "cell_type": "markdown",
   "metadata": {},
   "source": [
    "**Example:** Suppose you want to know how many new accounts have been openend by each employee. This information is available in the account table. But it's tedious to count how often each employee appears, especially if your database is very large. "
   ]
  },
  {
   "cell_type": "code",
   "execution_count": 31,
   "metadata": {},
   "outputs": [
    {
     "data": {
      "text/html": [
       "<div>\n",
       "<style scoped>\n",
       "    .dataframe tbody tr th:only-of-type {\n",
       "        vertical-align: middle;\n",
       "    }\n",
       "\n",
       "    .dataframe tbody tr th {\n",
       "        vertical-align: top;\n",
       "    }\n",
       "\n",
       "    .dataframe thead th {\n",
       "        text-align: right;\n",
       "    }\n",
       "</style>\n",
       "<table border=\"1\" class=\"dataframe\">\n",
       "  <thead>\n",
       "    <tr style=\"text-align: right;\">\n",
       "      <th></th>\n",
       "      <th>employee id</th>\n",
       "    </tr>\n",
       "  </thead>\n",
       "  <tbody>\n",
       "    <tr>\n",
       "      <td>0</td>\n",
       "      <td>1</td>\n",
       "    </tr>\n",
       "    <tr>\n",
       "      <td>1</td>\n",
       "      <td>1</td>\n",
       "    </tr>\n",
       "    <tr>\n",
       "      <td>2</td>\n",
       "      <td>1</td>\n",
       "    </tr>\n",
       "    <tr>\n",
       "      <td>3</td>\n",
       "      <td>1</td>\n",
       "    </tr>\n",
       "    <tr>\n",
       "      <td>4</td>\n",
       "      <td>1</td>\n",
       "    </tr>\n",
       "    <tr>\n",
       "      <td>...</td>\n",
       "      <td>...</td>\n",
       "    </tr>\n",
       "    <tr>\n",
       "      <td>67</td>\n",
       "      <td>16</td>\n",
       "    </tr>\n",
       "    <tr>\n",
       "      <td>68</td>\n",
       "      <td>16</td>\n",
       "    </tr>\n",
       "    <tr>\n",
       "      <td>69</td>\n",
       "      <td>16</td>\n",
       "    </tr>\n",
       "    <tr>\n",
       "      <td>70</td>\n",
       "      <td>16</td>\n",
       "    </tr>\n",
       "    <tr>\n",
       "      <td>71</td>\n",
       "      <td>16</td>\n",
       "    </tr>\n",
       "  </tbody>\n",
       "</table>\n",
       "<p>72 rows × 1 columns</p>\n",
       "</div>"
      ],
      "text/plain": [
       "    employee id\n",
       "0             1\n",
       "1             1\n",
       "2             1\n",
       "3             1\n",
       "4             1\n",
       "..          ...\n",
       "67           16\n",
       "68           16\n",
       "69           16\n",
       "70           16\n",
       "71           16\n",
       "\n",
       "[72 rows x 1 columns]"
      ]
     },
     "execution_count": 31,
     "metadata": {},
     "output_type": "execute_result"
    }
   ],
   "source": [
    "cnx = mysql.connector.connect(**config) # connect \n",
    "cursor = cnx.cursor()                   \n",
    "\n",
    "cursor.execute(\"\"\" SELECT open_emp_id\n",
    "                   FROM account \"\"\")                        # SQL command  \n",
    "                                        \n",
    "result = cursor.fetchall()              # fetching the result from the command line\n",
    "\n",
    "cursor.close()                          \n",
    "cnx.close()    \n",
    "\n",
    "pd.DataFrame(result, columns=['employee id'])"
   ]
  },
  {
   "cell_type": "markdown",
   "metadata": {},
   "source": [
    "**Example:** Incorporating the GROUP BY clause into your SQL syntax, will group the results by employee ID, that means the output will include each employee ID only once now. "
   ]
  },
  {
   "cell_type": "code",
   "execution_count": 32,
   "metadata": {},
   "outputs": [
    {
     "data": {
      "text/html": [
       "<div>\n",
       "<style scoped>\n",
       "    .dataframe tbody tr th:only-of-type {\n",
       "        vertical-align: middle;\n",
       "    }\n",
       "\n",
       "    .dataframe tbody tr th {\n",
       "        vertical-align: top;\n",
       "    }\n",
       "\n",
       "    .dataframe thead th {\n",
       "        text-align: right;\n",
       "    }\n",
       "</style>\n",
       "<table border=\"1\" class=\"dataframe\">\n",
       "  <thead>\n",
       "    <tr style=\"text-align: right;\">\n",
       "      <th></th>\n",
       "      <th>employee id</th>\n",
       "    </tr>\n",
       "  </thead>\n",
       "  <tbody>\n",
       "    <tr>\n",
       "      <td>0</td>\n",
       "      <td>1</td>\n",
       "    </tr>\n",
       "    <tr>\n",
       "      <td>1</td>\n",
       "      <td>10</td>\n",
       "    </tr>\n",
       "    <tr>\n",
       "      <td>2</td>\n",
       "      <td>13</td>\n",
       "    </tr>\n",
       "    <tr>\n",
       "      <td>3</td>\n",
       "      <td>16</td>\n",
       "    </tr>\n",
       "  </tbody>\n",
       "</table>\n",
       "</div>"
      ],
      "text/plain": [
       "   employee id\n",
       "0            1\n",
       "1           10\n",
       "2           13\n",
       "3           16"
      ]
     },
     "execution_count": 32,
     "metadata": {},
     "output_type": "execute_result"
    }
   ],
   "source": [
    "cnx = mysql.connector.connect(**config) # connect \n",
    "cursor = cnx.cursor()                   \n",
    "\n",
    "cursor.execute(\"\"\" SELECT open_emp_id\n",
    "                   FROM account \n",
    "                   GROUP BY open_emp_id\"\"\")                        # SQL command  \n",
    "                                        \n",
    "result = cursor.fetchall()              # fetching the result from the command line\n",
    "\n",
    "cursor.close()                          \n",
    "cnx.close()    \n",
    "\n",
    "pd.DataFrame(result, columns=['employee id'])"
   ]
  },
  {
   "cell_type": "markdown",
   "metadata": {},
   "source": [
    "**Example:** COUNT() is an aggregate function that counts how many rows are in a group. The asterisk indicates to count all the rows in the group. "
   ]
  },
  {
   "cell_type": "code",
   "execution_count": 33,
   "metadata": {},
   "outputs": [
    {
     "data": {
      "text/html": [
       "<div>\n",
       "<style scoped>\n",
       "    .dataframe tbody tr th:only-of-type {\n",
       "        vertical-align: middle;\n",
       "    }\n",
       "\n",
       "    .dataframe tbody tr th {\n",
       "        vertical-align: top;\n",
       "    }\n",
       "\n",
       "    .dataframe thead th {\n",
       "        text-align: right;\n",
       "    }\n",
       "</style>\n",
       "<table border=\"1\" class=\"dataframe\">\n",
       "  <thead>\n",
       "    <tr style=\"text-align: right;\">\n",
       "      <th></th>\n",
       "      <th>employee id</th>\n",
       "      <th>number of accounts openend</th>\n",
       "    </tr>\n",
       "  </thead>\n",
       "  <tbody>\n",
       "    <tr>\n",
       "      <td>0</td>\n",
       "      <td>1</td>\n",
       "      <td>24</td>\n",
       "    </tr>\n",
       "    <tr>\n",
       "      <td>1</td>\n",
       "      <td>10</td>\n",
       "      <td>21</td>\n",
       "    </tr>\n",
       "    <tr>\n",
       "      <td>2</td>\n",
       "      <td>13</td>\n",
       "      <td>9</td>\n",
       "    </tr>\n",
       "    <tr>\n",
       "      <td>3</td>\n",
       "      <td>16</td>\n",
       "      <td>18</td>\n",
       "    </tr>\n",
       "  </tbody>\n",
       "</table>\n",
       "</div>"
      ],
      "text/plain": [
       "   employee id  number of accounts openend\n",
       "0            1                          24\n",
       "1           10                          21\n",
       "2           13                           9\n",
       "3           16                          18"
      ]
     },
     "execution_count": 33,
     "metadata": {},
     "output_type": "execute_result"
    }
   ],
   "source": [
    "cnx = mysql.connector.connect(**config) # connect \n",
    "cursor = cnx.cursor()                   \n",
    "\n",
    "cursor.execute(\"\"\" SELECT open_emp_id, COUNT(*) \n",
    "                   FROM account \n",
    "                   GROUP BY open_emp_id\"\"\")                        # SQL command  \n",
    "                                        \n",
    "result = cursor.fetchall()              # fetching the result from the command line\n",
    "\n",
    "cursor.close()                          \n",
    "cnx.close()    \n",
    "\n",
    "pd.DataFrame(result, columns=['employee id', 'number of accounts openend'])"
   ]
  },
  {
   "cell_type": "markdown",
   "metadata": {},
   "source": [
    "## Aggreate Functions in SQL\n",
    "\n",
    "Other aggregating functions that are available in SQL include \n",
    "\n",
    "| Function  | Syntax  |   |\n",
    "|:-:|:-:|:-:|\n",
    "| Maximum   |  MAX() | Find the maximum  |\n",
    "| Minimum  | MIN()  | Finds the minimum  |\n",
    "| Average  | AVG()  | Finds the average value |\n",
    "| Sum   | SUM()  | Finds the sum  |\n",
    "|  Count | COUNT()  | Finds the number of values in a set  |"
   ]
  },
  {
   "cell_type": "markdown",
   "metadata": {},
   "source": [
    "**Note:** You can use the aggregating functions with or without a GROUP BY statement. If used with a GROUP BY statement, they will return the aggregate value for each group. If used without a GROUP BY statement as in the example below, they will aggregate all the available data. "
   ]
  },
  {
   "cell_type": "markdown",
   "metadata": {},
   "source": [
    "Slide Type\n",
    "\n",
    "Example: Find the min, max, and average balance for all checking accounts in the \"accounts\" table. Also count how many checking accounts there are in the table.\n"
   ]
  },
  {
   "cell_type": "code",
   "execution_count": 34,
   "metadata": {},
   "outputs": [
    {
     "data": {
      "text/html": [
       "<div>\n",
       "<style scoped>\n",
       "    .dataframe tbody tr th:only-of-type {\n",
       "        vertical-align: middle;\n",
       "    }\n",
       "\n",
       "    .dataframe tbody tr th {\n",
       "        vertical-align: top;\n",
       "    }\n",
       "\n",
       "    .dataframe thead th {\n",
       "        text-align: right;\n",
       "    }\n",
       "</style>\n",
       "<table border=\"1\" class=\"dataframe\">\n",
       "  <thead>\n",
       "    <tr style=\"text-align: right;\">\n",
       "      <th></th>\n",
       "      <th>min balance</th>\n",
       "      <th>max balance</th>\n",
       "      <th>average balance</th>\n",
       "      <th>number</th>\n",
       "    </tr>\n",
       "  </thead>\n",
       "  <tbody>\n",
       "    <tr>\n",
       "      <td>0</td>\n",
       "      <td>122.37</td>\n",
       "      <td>38552.05</td>\n",
       "      <td>7300.800985</td>\n",
       "      <td>30</td>\n",
       "    </tr>\n",
       "  </tbody>\n",
       "</table>\n",
       "</div>"
      ],
      "text/plain": [
       "   min balance  max balance  average balance  number\n",
       "0       122.37     38552.05      7300.800985      30"
      ]
     },
     "execution_count": 34,
     "metadata": {},
     "output_type": "execute_result"
    }
   ],
   "source": [
    "cnx = mysql.connector.connect(**config) # connect \n",
    "cursor = cnx.cursor()                   \n",
    "\n",
    "cursor.execute(\"\"\" SELECT MIN(avail_balance) min_balance,\n",
    "                    MAX(avail_balance) max_balance,\n",
    "                    AVG(avail_balance) avg_balance,\n",
    "                    COUNT(*) num_accounts\n",
    "                    FROM account\n",
    "                    WHERE product_cd = 'CHK'\"\"\")                        # SQL command  \n",
    "                                        \n",
    "result = cursor.fetchall()              # fetching the result from the command line\n",
    "\n",
    "cursor.close()                          \n",
    "cnx.close()    \n",
    "\n",
    "pd.DataFrame(result, columns=['min balance', 'max balance', 'average balance', 'number'])"
   ]
  },
  {
   "cell_type": "markdown",
   "metadata": {},
   "source": [
    "**Example:** When used in conjunction with a GROUP BY statement, the aggregate functions will aggregate data within each group defined by the GROUP BY statement separately. "
   ]
  },
  {
   "cell_type": "code",
   "execution_count": 35,
   "metadata": {},
   "outputs": [
    {
     "data": {
      "text/html": [
       "<div>\n",
       "<style scoped>\n",
       "    .dataframe tbody tr th:only-of-type {\n",
       "        vertical-align: middle;\n",
       "    }\n",
       "\n",
       "    .dataframe tbody tr th {\n",
       "        vertical-align: top;\n",
       "    }\n",
       "\n",
       "    .dataframe thead th {\n",
       "        text-align: right;\n",
       "    }\n",
       "</style>\n",
       "<table border=\"1\" class=\"dataframe\">\n",
       "  <thead>\n",
       "    <tr style=\"text-align: right;\">\n",
       "      <th></th>\n",
       "      <th>account type</th>\n",
       "      <th>min balance</th>\n",
       "      <th>max balance</th>\n",
       "      <th>average balance</th>\n",
       "      <th>number</th>\n",
       "    </tr>\n",
       "  </thead>\n",
       "  <tbody>\n",
       "    <tr>\n",
       "      <td>0</td>\n",
       "      <td>BUS</td>\n",
       "      <td>0.00</td>\n",
       "      <td>9345.55</td>\n",
       "      <td>4672.774902</td>\n",
       "      <td>6</td>\n",
       "    </tr>\n",
       "    <tr>\n",
       "      <td>1</td>\n",
       "      <td>CD</td>\n",
       "      <td>1500.00</td>\n",
       "      <td>10000.00</td>\n",
       "      <td>4875.000000</td>\n",
       "      <td>12</td>\n",
       "    </tr>\n",
       "    <tr>\n",
       "      <td>2</td>\n",
       "      <td>CHK</td>\n",
       "      <td>122.37</td>\n",
       "      <td>38552.05</td>\n",
       "      <td>7300.800985</td>\n",
       "      <td>30</td>\n",
       "    </tr>\n",
       "    <tr>\n",
       "      <td>3</td>\n",
       "      <td>MM</td>\n",
       "      <td>2212.50</td>\n",
       "      <td>9345.55</td>\n",
       "      <td>5681.713216</td>\n",
       "      <td>9</td>\n",
       "    </tr>\n",
       "    <tr>\n",
       "      <td>4</td>\n",
       "      <td>SAV</td>\n",
       "      <td>200.00</td>\n",
       "      <td>767.77</td>\n",
       "      <td>463.940002</td>\n",
       "      <td>12</td>\n",
       "    </tr>\n",
       "    <tr>\n",
       "      <td>5</td>\n",
       "      <td>SBL</td>\n",
       "      <td>50000.00</td>\n",
       "      <td>50000.00</td>\n",
       "      <td>50000.000000</td>\n",
       "      <td>3</td>\n",
       "    </tr>\n",
       "  </tbody>\n",
       "</table>\n",
       "</div>"
      ],
      "text/plain": [
       "  account type  min balance  max balance  average balance  number\n",
       "0          BUS         0.00      9345.55      4672.774902       6\n",
       "1           CD      1500.00     10000.00      4875.000000      12\n",
       "2          CHK       122.37     38552.05      7300.800985      30\n",
       "3           MM      2212.50      9345.55      5681.713216       9\n",
       "4          SAV       200.00       767.77       463.940002      12\n",
       "5          SBL     50000.00     50000.00     50000.000000       3"
      ]
     },
     "execution_count": 35,
     "metadata": {},
     "output_type": "execute_result"
    }
   ],
   "source": [
    "cnx = mysql.connector.connect(**config) # connect \n",
    "cursor = cnx.cursor()                   \n",
    "\n",
    "cursor.execute(\"\"\" SELECT product_cd, \n",
    "                    MIN(avail_balance) min_balance,\n",
    "                    MAX(avail_balance) max_balance,\n",
    "                    AVG(avail_balance) avg_balance,\n",
    "                    COUNT(*) num_accounts\n",
    "                    FROM account\n",
    "                    GROUP BY product_cd\"\"\")                        # SQL command  \n",
    "                                        \n",
    "result = cursor.fetchall()              # fetching the result from the command line\n",
    "\n",
    "cursor.close()                          \n",
    "cnx.close()    \n",
    "\n",
    "pd.DataFrame(result, columns=['account type', 'min balance', 'max balance', 'average balance', 'number'])"
   ]
  }
 ],
 "metadata": {
  "celltoolbar": "Slideshow",
  "kernelspec": {
   "display_name": "Python 3",
   "language": "python",
   "name": "python3"
  },
  "language_info": {
   "codemirror_mode": {
    "name": "ipython",
    "version": 3
   },
   "file_extension": ".py",
   "mimetype": "text/x-python",
   "name": "python",
   "nbconvert_exporter": "python",
   "pygments_lexer": "ipython3",
   "version": "3.7.4"
  }
 },
 "nbformat": 4,
 "nbformat_minor": 2
}
